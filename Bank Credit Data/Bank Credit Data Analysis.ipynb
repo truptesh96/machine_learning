{
 "cells": [
  {
   "cell_type": "markdown",
   "metadata": {},
   "source": [
    "## Basic Libraries"
   ]
  },
  {
   "cell_type": "code",
   "execution_count": 1,
   "metadata": {},
   "outputs": [],
   "source": [
    "import numpy as np\n",
    "import pandas as pd\n",
    "import matplotlib.pyplot as plt\n",
    "import seaborn as sns\n",
    "%matplotlib inline"
   ]
  },
  {
   "cell_type": "markdown",
   "metadata": {},
   "source": [
    "## Preprocessing"
   ]
  },
  {
   "cell_type": "code",
   "execution_count": 2,
   "metadata": {},
   "outputs": [],
   "source": [
    "df = pd.read_csv(\"BankCreditCard.csv\")"
   ]
  },
  {
   "cell_type": "code",
   "execution_count": 3,
   "metadata": {
    "scrolled": true
   },
   "outputs": [
    {
     "data": {
      "text/html": [
       "<div>\n",
       "<style scoped>\n",
       "    .dataframe tbody tr th:only-of-type {\n",
       "        vertical-align: middle;\n",
       "    }\n",
       "\n",
       "    .dataframe tbody tr th {\n",
       "        vertical-align: top;\n",
       "    }\n",
       "\n",
       "    .dataframe thead th {\n",
       "        text-align: right;\n",
       "    }\n",
       "</style>\n",
       "<table border=\"1\" class=\"dataframe\">\n",
       "  <thead>\n",
       "    <tr style=\"text-align: right;\">\n",
       "      <th></th>\n",
       "      <th>Customer ID</th>\n",
       "      <th>Credit_Amount</th>\n",
       "      <th>Gender</th>\n",
       "      <th>Academic_Qualification</th>\n",
       "      <th>Marital</th>\n",
       "      <th>Age_Years</th>\n",
       "      <th>Repayment_Status_Jan</th>\n",
       "      <th>Repayment_Status_Feb</th>\n",
       "      <th>Repayment_Status_March</th>\n",
       "      <th>Repayment_Status_April</th>\n",
       "      <th>...</th>\n",
       "      <th>April_Bill_Amount</th>\n",
       "      <th>May_Bill_Amount</th>\n",
       "      <th>June_Bill_Amount</th>\n",
       "      <th>Previous_Payment_Jan</th>\n",
       "      <th>Previous_Payment_Feb</th>\n",
       "      <th>Previous_Payment_March</th>\n",
       "      <th>Previous_Payment_April</th>\n",
       "      <th>Previous_Payment_May</th>\n",
       "      <th>Previous_Payment_June</th>\n",
       "      <th>Default_Payment</th>\n",
       "    </tr>\n",
       "  </thead>\n",
       "  <tbody>\n",
       "    <tr>\n",
       "      <th>count</th>\n",
       "      <td>30000.000000</td>\n",
       "      <td>3.000000e+04</td>\n",
       "      <td>30000.000000</td>\n",
       "      <td>30000.000000</td>\n",
       "      <td>30000.000000</td>\n",
       "      <td>30000.000000</td>\n",
       "      <td>30000.000000</td>\n",
       "      <td>30000.000000</td>\n",
       "      <td>30000.000000</td>\n",
       "      <td>30000.00000</td>\n",
       "      <td>...</td>\n",
       "      <td>30000.000000</td>\n",
       "      <td>30000.000000</td>\n",
       "      <td>30000.000000</td>\n",
       "      <td>30000.000000</td>\n",
       "      <td>3.000000e+04</td>\n",
       "      <td>30000.000000</td>\n",
       "      <td>30000.000000</td>\n",
       "      <td>30000.00000</td>\n",
       "      <td>30000.000000</td>\n",
       "      <td>30000.000000</td>\n",
       "    </tr>\n",
       "    <tr>\n",
       "      <th>mean</th>\n",
       "      <td>15000.500000</td>\n",
       "      <td>1.929173e+05</td>\n",
       "      <td>1.603733</td>\n",
       "      <td>1.855933</td>\n",
       "      <td>1.551867</td>\n",
       "      <td>35.485500</td>\n",
       "      <td>0.355200</td>\n",
       "      <td>0.319300</td>\n",
       "      <td>0.302967</td>\n",
       "      <td>0.25670</td>\n",
       "      <td>...</td>\n",
       "      <td>55122.263933</td>\n",
       "      <td>39939.618800</td>\n",
       "      <td>38506.051533</td>\n",
       "      <td>6285.653867</td>\n",
       "      <td>7.466544e+03</td>\n",
       "      <td>5836.140567</td>\n",
       "      <td>5127.687433</td>\n",
       "      <td>5261.19120</td>\n",
       "      <td>5215.502567</td>\n",
       "      <td>0.221200</td>\n",
       "    </tr>\n",
       "    <tr>\n",
       "      <th>std</th>\n",
       "      <td>8660.398374</td>\n",
       "      <td>1.322888e+05</td>\n",
       "      <td>0.489129</td>\n",
       "      <td>0.794397</td>\n",
       "      <td>0.521970</td>\n",
       "      <td>9.217904</td>\n",
       "      <td>0.746984</td>\n",
       "      <td>0.796012</td>\n",
       "      <td>0.781792</td>\n",
       "      <td>0.74388</td>\n",
       "      <td>...</td>\n",
       "      <td>83577.329356</td>\n",
       "      <td>60373.934792</td>\n",
       "      <td>59104.280171</td>\n",
       "      <td>18944.920299</td>\n",
       "      <td>3.467950e+04</td>\n",
       "      <td>20696.306703</td>\n",
       "      <td>17103.762740</td>\n",
       "      <td>16989.50685</td>\n",
       "      <td>17777.465775</td>\n",
       "      <td>0.415062</td>\n",
       "    </tr>\n",
       "    <tr>\n",
       "      <th>min</th>\n",
       "      <td>1.000000</td>\n",
       "      <td>2.000000e+04</td>\n",
       "      <td>1.000000</td>\n",
       "      <td>1.000000</td>\n",
       "      <td>0.000000</td>\n",
       "      <td>21.000000</td>\n",
       "      <td>0.000000</td>\n",
       "      <td>0.000000</td>\n",
       "      <td>0.000000</td>\n",
       "      <td>0.00000</td>\n",
       "      <td>...</td>\n",
       "      <td>-270000.000000</td>\n",
       "      <td>-81334.000000</td>\n",
       "      <td>-338603.000000</td>\n",
       "      <td>0.000000</td>\n",
       "      <td>0.000000e+00</td>\n",
       "      <td>0.000000</td>\n",
       "      <td>0.000000</td>\n",
       "      <td>0.00000</td>\n",
       "      <td>0.000000</td>\n",
       "      <td>0.000000</td>\n",
       "    </tr>\n",
       "    <tr>\n",
       "      <th>25%</th>\n",
       "      <td>7500.750000</td>\n",
       "      <td>5.000000e+04</td>\n",
       "      <td>1.000000</td>\n",
       "      <td>1.000000</td>\n",
       "      <td>1.000000</td>\n",
       "      <td>28.000000</td>\n",
       "      <td>0.000000</td>\n",
       "      <td>0.000000</td>\n",
       "      <td>0.000000</td>\n",
       "      <td>0.00000</td>\n",
       "      <td>...</td>\n",
       "      <td>2671.500000</td>\n",
       "      <td>1763.000000</td>\n",
       "      <td>1256.000000</td>\n",
       "      <td>1000.000000</td>\n",
       "      <td>7.700000e+02</td>\n",
       "      <td>550.000000</td>\n",
       "      <td>333.000000</td>\n",
       "      <td>310.00000</td>\n",
       "      <td>117.750000</td>\n",
       "      <td>0.000000</td>\n",
       "    </tr>\n",
       "    <tr>\n",
       "      <th>50%</th>\n",
       "      <td>15000.500000</td>\n",
       "      <td>2.200000e+05</td>\n",
       "      <td>2.000000</td>\n",
       "      <td>2.000000</td>\n",
       "      <td>2.000000</td>\n",
       "      <td>34.000000</td>\n",
       "      <td>0.000000</td>\n",
       "      <td>0.000000</td>\n",
       "      <td>0.000000</td>\n",
       "      <td>0.00000</td>\n",
       "      <td>...</td>\n",
       "      <td>25629.000000</td>\n",
       "      <td>18043.000000</td>\n",
       "      <td>17071.000000</td>\n",
       "      <td>3000.000000</td>\n",
       "      <td>2.542000e+03</td>\n",
       "      <td>1900.000000</td>\n",
       "      <td>1500.000000</td>\n",
       "      <td>1539.00000</td>\n",
       "      <td>1500.000000</td>\n",
       "      <td>0.000000</td>\n",
       "    </tr>\n",
       "    <tr>\n",
       "      <th>75%</th>\n",
       "      <td>22500.250000</td>\n",
       "      <td>2.700000e+05</td>\n",
       "      <td>2.000000</td>\n",
       "      <td>2.000000</td>\n",
       "      <td>2.000000</td>\n",
       "      <td>41.000000</td>\n",
       "      <td>0.000000</td>\n",
       "      <td>0.000000</td>\n",
       "      <td>0.000000</td>\n",
       "      <td>0.00000</td>\n",
       "      <td>...</td>\n",
       "      <td>54508.500000</td>\n",
       "      <td>50190.500000</td>\n",
       "      <td>48655.250000</td>\n",
       "      <td>6000.000000</td>\n",
       "      <td>5.000000e+03</td>\n",
       "      <td>5500.000000</td>\n",
       "      <td>4013.250000</td>\n",
       "      <td>5000.00000</td>\n",
       "      <td>4000.000000</td>\n",
       "      <td>0.000000</td>\n",
       "    </tr>\n",
       "    <tr>\n",
       "      <th>max</th>\n",
       "      <td>30000.000000</td>\n",
       "      <td>2.000000e+06</td>\n",
       "      <td>2.000000</td>\n",
       "      <td>6.000000</td>\n",
       "      <td>3.000000</td>\n",
       "      <td>79.000000</td>\n",
       "      <td>6.000000</td>\n",
       "      <td>6.000000</td>\n",
       "      <td>6.000000</td>\n",
       "      <td>6.00000</td>\n",
       "      <td>...</td>\n",
       "      <td>992596.000000</td>\n",
       "      <td>827171.000000</td>\n",
       "      <td>861664.000000</td>\n",
       "      <td>973663.000000</td>\n",
       "      <td>2.674259e+06</td>\n",
       "      <td>999055.000000</td>\n",
       "      <td>538897.000000</td>\n",
       "      <td>536539.00000</td>\n",
       "      <td>528666.000000</td>\n",
       "      <td>1.000000</td>\n",
       "    </tr>\n",
       "  </tbody>\n",
       "</table>\n",
       "<p>8 rows × 25 columns</p>\n",
       "</div>"
      ],
      "text/plain": [
       "        Customer ID  Credit_Amount        Gender  Academic_Qualification  \\\n",
       "count  30000.000000   3.000000e+04  30000.000000            30000.000000   \n",
       "mean   15000.500000   1.929173e+05      1.603733                1.855933   \n",
       "std     8660.398374   1.322888e+05      0.489129                0.794397   \n",
       "min        1.000000   2.000000e+04      1.000000                1.000000   \n",
       "25%     7500.750000   5.000000e+04      1.000000                1.000000   \n",
       "50%    15000.500000   2.200000e+05      2.000000                2.000000   \n",
       "75%    22500.250000   2.700000e+05      2.000000                2.000000   \n",
       "max    30000.000000   2.000000e+06      2.000000                6.000000   \n",
       "\n",
       "            Marital     Age_Years  Repayment_Status_Jan  Repayment_Status_Feb  \\\n",
       "count  30000.000000  30000.000000          30000.000000          30000.000000   \n",
       "mean       1.551867     35.485500              0.355200              0.319300   \n",
       "std        0.521970      9.217904              0.746984              0.796012   \n",
       "min        0.000000     21.000000              0.000000              0.000000   \n",
       "25%        1.000000     28.000000              0.000000              0.000000   \n",
       "50%        2.000000     34.000000              0.000000              0.000000   \n",
       "75%        2.000000     41.000000              0.000000              0.000000   \n",
       "max        3.000000     79.000000              6.000000              6.000000   \n",
       "\n",
       "       Repayment_Status_March  Repayment_Status_April  ...  April_Bill_Amount  \\\n",
       "count            30000.000000             30000.00000  ...       30000.000000   \n",
       "mean                 0.302967                 0.25670  ...       55122.263933   \n",
       "std                  0.781792                 0.74388  ...       83577.329356   \n",
       "min                  0.000000                 0.00000  ...     -270000.000000   \n",
       "25%                  0.000000                 0.00000  ...        2671.500000   \n",
       "50%                  0.000000                 0.00000  ...       25629.000000   \n",
       "75%                  0.000000                 0.00000  ...       54508.500000   \n",
       "max                  6.000000                 6.00000  ...      992596.000000   \n",
       "\n",
       "       May_Bill_Amount  June_Bill_Amount  Previous_Payment_Jan  \\\n",
       "count     30000.000000      30000.000000          30000.000000   \n",
       "mean      39939.618800      38506.051533           6285.653867   \n",
       "std       60373.934792      59104.280171          18944.920299   \n",
       "min      -81334.000000    -338603.000000              0.000000   \n",
       "25%        1763.000000       1256.000000           1000.000000   \n",
       "50%       18043.000000      17071.000000           3000.000000   \n",
       "75%       50190.500000      48655.250000           6000.000000   \n",
       "max      827171.000000     861664.000000         973663.000000   \n",
       "\n",
       "       Previous_Payment_Feb  Previous_Payment_March  Previous_Payment_April  \\\n",
       "count          3.000000e+04            30000.000000            30000.000000   \n",
       "mean           7.466544e+03             5836.140567             5127.687433   \n",
       "std            3.467950e+04            20696.306703            17103.762740   \n",
       "min            0.000000e+00                0.000000                0.000000   \n",
       "25%            7.700000e+02              550.000000              333.000000   \n",
       "50%            2.542000e+03             1900.000000             1500.000000   \n",
       "75%            5.000000e+03             5500.000000             4013.250000   \n",
       "max            2.674259e+06           999055.000000           538897.000000   \n",
       "\n",
       "       Previous_Payment_May  Previous_Payment_June  Default_Payment  \n",
       "count           30000.00000           30000.000000     30000.000000  \n",
       "mean             5261.19120            5215.502567         0.221200  \n",
       "std             16989.50685           17777.465775         0.415062  \n",
       "min                 0.00000               0.000000         0.000000  \n",
       "25%               310.00000             117.750000         0.000000  \n",
       "50%              1539.00000            1500.000000         0.000000  \n",
       "75%              5000.00000            4000.000000         0.000000  \n",
       "max            536539.00000          528666.000000         1.000000  \n",
       "\n",
       "[8 rows x 25 columns]"
      ]
     },
     "execution_count": 3,
     "metadata": {},
     "output_type": "execute_result"
    }
   ],
   "source": [
    "df.describe()"
   ]
  },
  {
   "cell_type": "code",
   "execution_count": 4,
   "metadata": {},
   "outputs": [
    {
     "name": "stdout",
     "output_type": "stream",
     "text": [
      "No column have NA values\n"
     ]
    }
   ],
   "source": [
    "# Variables having NA's\n",
    "def get_na(data): \n",
    "    null_vars = data.isnull().sum()\n",
    "    null_vars = null_vars[null_vars > 0]\n",
    "    if(len(null_vars) > 0):\n",
    "        null_vars.sort_values(inplace=True)\n",
    "        return null_vars\n",
    "    else:\n",
    "        print(\"No column have NA values\")\n",
    "get_na(df)"
   ]
  },
  {
   "cell_type": "code",
   "execution_count": 5,
   "metadata": {
    "scrolled": true
   },
   "outputs": [
    {
     "name": "stdout",
     "output_type": "stream",
     "text": [
      "Total Numerical Variables 25\n",
      "Index(['Customer ID', 'Credit_Amount', 'Gender', 'Academic_Qualification',\n",
      "       'Marital', 'Age_Years', 'Repayment_Status_Jan', 'Repayment_Status_Feb',\n",
      "       'Repayment_Status_March', 'Repayment_Status_April',\n",
      "       'Repayment_Status_May', 'Repayment_Status_June', 'Jan_Bill_Amount',\n",
      "       'Feb_Bill_Amount', 'March_Bill_Amount', 'April_Bill_Amount',\n",
      "       'May_Bill_Amount', 'June_Bill_Amount', 'Previous_Payment_Jan',\n",
      "       'Previous_Payment_Feb', 'Previous_Payment_March',\n",
      "       'Previous_Payment_April', 'Previous_Payment_May',\n",
      "       'Previous_Payment_June', 'Default_Payment'],\n",
      "      dtype='object')\n"
     ]
    }
   ],
   "source": [
    "# Numerical Variables\n",
    "num_datatypes = ['int32','int64','float64']\n",
    "df_numerics = df.select_dtypes(num_datatypes).columns\n",
    "print(\"Total Numerical Variables\",len(df_numerics))\n",
    "print(df_numerics)"
   ]
  },
  {
   "cell_type": "code",
   "execution_count": 6,
   "metadata": {},
   "outputs": [
    {
     "name": "stdout",
     "output_type": "stream",
     "text": [
      "Total Numerical Variables 0\n",
      "No categorical Variables are present\n"
     ]
    }
   ],
   "source": [
    "# Categorical Variables\n",
    "\n",
    "df_categorical = df.select_dtypes(\"O\").columns\n",
    "print(\"Total Numerical Variables\",len(df_categorical))\n",
    "if len(df_categorical) > 0:\n",
    "    print(df_categorical)\n",
    "else:\n",
    "    print(\"No categorical Variables are present\")"
   ]
  },
  {
   "cell_type": "markdown",
   "metadata": {},
   "source": [
    "<h3>CONCLUSION</h3>\n",
    "Deviding Data into X and Y"
   ]
  },
  {
   "cell_type": "code",
   "execution_count": 7,
   "metadata": {},
   "outputs": [],
   "source": [
    "y = df.Default_Payment\n",
    "x = df"
   ]
  },
  {
   "cell_type": "code",
   "execution_count": 8,
   "metadata": {},
   "outputs": [
    {
     "data": {
      "text/plain": [
       "Index(['Customer ID', 'Credit_Amount', 'Gender', 'Academic_Qualification',\n",
       "       'Marital', 'Age_Years', 'Repayment_Status_Jan', 'Repayment_Status_Feb',\n",
       "       'Repayment_Status_March', 'Repayment_Status_April',\n",
       "       'Repayment_Status_May', 'Repayment_Status_June', 'Jan_Bill_Amount',\n",
       "       'Feb_Bill_Amount', 'March_Bill_Amount', 'April_Bill_Amount',\n",
       "       'May_Bill_Amount', 'June_Bill_Amount', 'Previous_Payment_Jan',\n",
       "       'Previous_Payment_Feb', 'Previous_Payment_March',\n",
       "       'Previous_Payment_April', 'Previous_Payment_May',\n",
       "       'Previous_Payment_June', 'Default_Payment'],\n",
       "      dtype='object')"
      ]
     },
     "execution_count": 8,
     "metadata": {},
     "output_type": "execute_result"
    }
   ],
   "source": [
    "x.columns"
   ]
  },
  {
   "cell_type": "code",
   "execution_count": 9,
   "metadata": {},
   "outputs": [],
   "source": [
    "x.drop('Customer ID', axis = 1, inplace = True)"
   ]
  },
  {
   "cell_type": "markdown",
   "metadata": {},
   "source": [
    "## EDA - Exploratory Data Analysis"
   ]
  },
  {
   "cell_type": "code",
   "execution_count": 10,
   "metadata": {
    "scrolled": true
   },
   "outputs": [
    {
     "data": {
      "text/plain": [
       "<matplotlib.axes._subplots.AxesSubplot at 0xcc5f0ff710>"
      ]
     },
     "execution_count": 10,
     "metadata": {},
     "output_type": "execute_result"
    },
    {
     "data": {
      "image/png": "[encoded data removed]",
      "text/plain": [
       "<Figure size 432x288 with 1 Axes>"
      ]
     },
     "metadata": {
      "needs_background": "light"
     },
     "output_type": "display_data"
    }
   ],
   "source": [
    "x['Gender'].value_counts().plot.bar()"
   ]
  },
  {
   "cell_type": "code",
   "execution_count": 11,
   "metadata": {},
   "outputs": [
    {
     "data": {
      "text/plain": [
       "<matplotlib.axes._subplots.AxesSubplot at 0xcc5f072198>"
      ]
     },
     "execution_count": 11,
     "metadata": {},
     "output_type": "execute_result"
    },
    {
     "data": {
      "image/png": "[encoded data removed]",
      "text/plain": [
       "<Figure size 432x288 with 1 Axes>"
      ]
     },
     "metadata": {
      "needs_background": "light"
     },
     "output_type": "display_data"
    }
   ],
   "source": [
    "x['Repayment_Status_March'].value_counts().plot.bar()"
   ]
  },
  {
   "cell_type": "markdown",
   "metadata": {},
   "source": [
    "## Scaler Data"
   ]
  },
  {
   "cell_type": "code",
   "execution_count": 17,
   "metadata": {},
   "outputs": [],
   "source": [
    "from sklearn.preprocessing import StandardScaler\n",
    "scaler = StandardScaler()\n",
    "scale_fit = scaler.fit(x)\n",
    "scale_data = scaler.transform(x)"
   ]
  },
  {
   "cell_type": "code",
   "execution_count": 18,
   "metadata": {},
   "outputs": [
    {
     "data": {
      "text/plain": [
       "array([[-1.30714215,  0.81016074,  0.18135662, ..., -0.30967814,\n",
       "        -0.29338206,  1.87637834],\n",
       "       [ 0.20472737,  0.81016074,  0.18135662, ..., -0.30967814,\n",
       "        -0.18087821,  1.87637834],\n",
       "       [-0.77798782,  0.81016074,  0.18135662, ..., -0.2508173 ,\n",
       "        -0.01212243, -0.53294156],\n",
       "       ...,\n",
       "       [-1.23154867, -1.23432296,  0.18135662, ..., -0.13309562,\n",
       "        -0.11900109,  1.87637834],\n",
       "       [-0.85358129, -1.23432296,  1.4401948 , ...,  2.86674716,\n",
       "        -0.19190359,  1.87637834],\n",
       "       [-1.08036172, -1.23432296,  0.18135662, ..., -0.2508173 ,\n",
       "        -0.23713013,  1.87637834]])"
      ]
     },
     "execution_count": 18,
     "metadata": {},
     "output_type": "execute_result"
    }
   ],
   "source": [
    "scale_data"
   ]
  },
  {
   "cell_type": "markdown",
   "metadata": {},
   "source": [
    "## Building Model"
   ]
  },
  {
   "cell_type": "code",
   "execution_count": 12,
   "metadata": {},
   "outputs": [],
   "source": [
    "from sklearn import svm"
   ]
  },
  {
   "cell_type": "code",
   "execution_count": 21,
   "metadata": {},
   "outputs": [
    {
     "name": "stderr",
     "output_type": "stream",
     "text": [
      "C:\\Users\\HP\\Anaconda\\lib\\site-packages\\sklearn\\svm\\base.py:193: FutureWarning: The default value of gamma will change from 'auto' to 'scale' in version 0.22 to account better for unscaled features. Set gamma explicitly to 'auto' or 'scale' to avoid this warning.\n",
      "  \"avoid this warning.\", FutureWarning)\n"
     ]
    },
    {
     "data": {
      "text/plain": [
       "SVC(C=1.0, cache_size=200, class_weight=None, coef0=0.0,\n",
       "    decision_function_shape='ovr', degree=3, gamma='auto_deprecated',\n",
       "    kernel='rbf', max_iter=-1, probability=False, random_state=None,\n",
       "    shrinking=True, tol=0.001, verbose=False)"
      ]
     },
     "execution_count": 21,
     "metadata": {},
     "output_type": "execute_result"
    }
   ],
   "source": [
    "model = svm.SVC(kernel='rbf')\n",
    "model.fit(x,y)"
   ]
  },
  {
   "cell_type": "code",
   "execution_count": 22,
   "metadata": {},
   "outputs": [],
   "source": [
    "predicted = model.predict(x)"
   ]
  },
  {
   "cell_type": "code",
   "execution_count": null,
   "metadata": {},
   "outputs": [],
   "source": []
  }
 ],
 "metadata": {
  "kernelspec": {
   "display_name": "Python 3",
   "language": "python",
   "name": "python3"
  },
  "language_info": {
   "codemirror_mode": {
    "name": "ipython",
    "version": 3
   },
   "file_extension": ".py",
   "mimetype": "text/x-python",
   "name": "python",
   "nbconvert_exporter": "python",
   "pygments_lexer": "ipython3",
   "version": "3.7.3"
  }
 },
 "nbformat": 4,
 "nbformat_minor": 2
}
