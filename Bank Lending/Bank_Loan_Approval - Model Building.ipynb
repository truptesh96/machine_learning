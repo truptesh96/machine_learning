{
 "cells": [
  {
   "cell_type": "markdown",
   "metadata": {},
   "source": [
    "<a id='Model_Building'></a>\n",
    "## Model Building\n",
    "\n",
    "As this is classification problem. So, we can apply following algorithms.\n",
    "* Logistic Regression\n",
    "* Random Forest\n",
    "* Support Vector Machine\n",
    "* K Nearest Neighbour"
   ]
  },
  {
   "cell_type": "markdown",
   "metadata": {},
   "source": [
    "## Train Test Split\n",
    "\n",
    "We are using 'issue_d' column to divide the data into train and test split.\n",
    "\n",
    "* Train Data will consists => June 2007 - May 2015\n",
    "* Test Data will consists => June 2015 - Dec 2015\n",
    "\n",
    "REF : https://stackoverflow.com/questions/37532098/split-dataframe-into-two-on-the-basis-of-date"
   ]
  },
  {
   "cell_type": "code",
   "execution_count": null,
   "metadata": {},
   "outputs": [],
   "source": [
    "# Devide Dataset into Train and Test\n",
    "from sklearn.model_selection import train_test_split\n",
    "\n",
    "x_train,x_test, y_train, y_test = train_test_split(x, y, test_size = 0.30, random_state=0)\n",
    "\n",
    "\n",
    "print(\"\\nx_train \",x_train.shape,\"\\nx_test \",x_test.shape, \"\\ny_train \",y_train.shape , \"\\ny_test \",y_test.shape)"
   ]
  },
  {
   "cell_type": "code",
   "execution_count": null,
   "metadata": {},
   "outputs": [],
   "source": [
    "# Logistic Regression\n",
    "\n",
    "logistic_model = \n"
   ]
  },
  {
   "cell_type": "code",
   "execution_count": null,
   "metadata": {},
   "outputs": [],
   "source": [
    "# Random Forest\n",
    "\n",
    "rf_model = \n"
   ]
  },
  {
   "cell_type": "code",
   "execution_count": null,
   "metadata": {},
   "outputs": [],
   "source": [
    "# SVM - Support Vector Machine\n",
    "\n",
    "svm_model = \n"
   ]
  },
  {
   "cell_type": "code",
   "execution_count": null,
   "metadata": {},
   "outputs": [],
   "source": [
    "# KNN - K Nearest Neighbour\n",
    "\n",
    "knn_model =\n"
   ]
  },
  {
   "cell_type": "markdown",
   "metadata": {},
   "source": [
    "<a id='Model_Evaluation'></a>\n",
    "## Model Evaluation\n",
    "\n",
    "* Confusion Matrix\n",
    "* Accuracy\n",
    "* Precision\n",
    "* Recall\n",
    "* F1 Score"
   ]
  },
  {
   "cell_type": "code",
   "execution_count": null,
   "metadata": {},
   "outputs": [],
   "source": []
  },
  {
   "cell_type": "markdown",
   "metadata": {},
   "source": [
    "<a id='conclusion'></a>\n",
    "## Conclusion"
   ]
  },
  {
   "cell_type": "markdown",
   "metadata": {},
   "source": [
    "With references of the above models and model evaluations we can say that model is giving the best solution for the given \n",
    "problem."
   ]
  }
 ],
 "metadata": {
  "kernelspec": {
   "display_name": "Python 3",
   "language": "python",
   "name": "python3"
  },
  "language_info": {
   "codemirror_mode": {
    "name": "ipython",
    "version": 3
   },
   "file_extension": ".py",
   "mimetype": "text/x-python",
   "name": "python",
   "nbconvert_exporter": "python",
   "pygments_lexer": "ipython3",
   "version": "3.7.3"
  }
 },
 "nbformat": 4,
 "nbformat_minor": 2
}
