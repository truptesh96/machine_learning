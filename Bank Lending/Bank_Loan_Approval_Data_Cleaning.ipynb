{
 "cells": [
  {
   "cell_type": "markdown",
   "metadata": {},
   "source": [
    "## Data And Packages Loading"
   ]
  },
  {
   "cell_type": "code",
   "execution_count": 1,
   "metadata": {},
   "outputs": [],
   "source": [
    "# Importing Libraries\n",
    "import numpy as np\n",
    "import pandas as pd"
   ]
  },
  {
   "cell_type": "code",
   "execution_count": 2,
   "metadata": {},
   "outputs": [
    {
     "name": "stderr",
     "output_type": "stream",
     "text": [
      "C:\\Users\\HP\\Anaconda\\lib\\site-packages\\IPython\\core\\interactiveshell.py:3057: DtypeWarning: Columns (17,45,53) have mixed types. Specify dtype option on import or set low_memory=False.\n",
      "  interactivity=interactivity, compiler=compiler, result=result)\n"
     ]
    }
   ],
   "source": [
    "# Loading Data\n",
    "data = pd.read_csv('XYZCorp_LendingData.txt', sep = '\\t', na_values = None)"
   ]
  },
  {
   "cell_type": "code",
   "execution_count": 3,
   "metadata": {
    "scrolled": true
   },
   "outputs": [
    {
     "data": {
      "text/html": [
       "<div>\n",
       "<style scoped>\n",
       "    .dataframe tbody tr th:only-of-type {\n",
       "        vertical-align: middle;\n",
       "    }\n",
       "\n",
       "    .dataframe tbody tr th {\n",
       "        vertical-align: top;\n",
       "    }\n",
       "\n",
       "    .dataframe thead th {\n",
       "        text-align: right;\n",
       "    }\n",
       "</style>\n",
       "<table border=\"1\" class=\"dataframe\">\n",
       "  <thead>\n",
       "    <tr style=\"text-align: right;\">\n",
       "      <th></th>\n",
       "      <th>id</th>\n",
       "      <th>member_id</th>\n",
       "      <th>loan_amnt</th>\n",
       "      <th>funded_amnt</th>\n",
       "      <th>funded_amnt_inv</th>\n",
       "      <th>term</th>\n",
       "      <th>int_rate</th>\n",
       "      <th>installment</th>\n",
       "      <th>grade</th>\n",
       "      <th>sub_grade</th>\n",
       "      <th>...</th>\n",
       "      <th>il_util</th>\n",
       "      <th>open_rv_12m</th>\n",
       "      <th>open_rv_24m</th>\n",
       "      <th>max_bal_bc</th>\n",
       "      <th>all_util</th>\n",
       "      <th>total_rev_hi_lim</th>\n",
       "      <th>inq_fi</th>\n",
       "      <th>total_cu_tl</th>\n",
       "      <th>inq_last_12m</th>\n",
       "      <th>default_ind</th>\n",
       "    </tr>\n",
       "  </thead>\n",
       "  <tbody>\n",
       "    <tr>\n",
       "      <th>0</th>\n",
       "      <td>1077501</td>\n",
       "      <td>1296599</td>\n",
       "      <td>5000.0</td>\n",
       "      <td>5000.0</td>\n",
       "      <td>4975.0</td>\n",
       "      <td>36 months</td>\n",
       "      <td>10.65</td>\n",
       "      <td>162.87</td>\n",
       "      <td>B</td>\n",
       "      <td>B2</td>\n",
       "      <td>...</td>\n",
       "      <td>NaN</td>\n",
       "      <td>NaN</td>\n",
       "      <td>NaN</td>\n",
       "      <td>NaN</td>\n",
       "      <td>NaN</td>\n",
       "      <td>NaN</td>\n",
       "      <td>NaN</td>\n",
       "      <td>NaN</td>\n",
       "      <td>NaN</td>\n",
       "      <td>0</td>\n",
       "    </tr>\n",
       "    <tr>\n",
       "      <th>1</th>\n",
       "      <td>1077430</td>\n",
       "      <td>1314167</td>\n",
       "      <td>2500.0</td>\n",
       "      <td>2500.0</td>\n",
       "      <td>2500.0</td>\n",
       "      <td>60 months</td>\n",
       "      <td>15.27</td>\n",
       "      <td>59.83</td>\n",
       "      <td>C</td>\n",
       "      <td>C4</td>\n",
       "      <td>...</td>\n",
       "      <td>NaN</td>\n",
       "      <td>NaN</td>\n",
       "      <td>NaN</td>\n",
       "      <td>NaN</td>\n",
       "      <td>NaN</td>\n",
       "      <td>NaN</td>\n",
       "      <td>NaN</td>\n",
       "      <td>NaN</td>\n",
       "      <td>NaN</td>\n",
       "      <td>1</td>\n",
       "    </tr>\n",
       "    <tr>\n",
       "      <th>2</th>\n",
       "      <td>1077175</td>\n",
       "      <td>1313524</td>\n",
       "      <td>2400.0</td>\n",
       "      <td>2400.0</td>\n",
       "      <td>2400.0</td>\n",
       "      <td>36 months</td>\n",
       "      <td>15.96</td>\n",
       "      <td>84.33</td>\n",
       "      <td>C</td>\n",
       "      <td>C5</td>\n",
       "      <td>...</td>\n",
       "      <td>NaN</td>\n",
       "      <td>NaN</td>\n",
       "      <td>NaN</td>\n",
       "      <td>NaN</td>\n",
       "      <td>NaN</td>\n",
       "      <td>NaN</td>\n",
       "      <td>NaN</td>\n",
       "      <td>NaN</td>\n",
       "      <td>NaN</td>\n",
       "      <td>0</td>\n",
       "    </tr>\n",
       "  </tbody>\n",
       "</table>\n",
       "<p>3 rows × 73 columns</p>\n",
       "</div>"
      ],
      "text/plain": [
       "        id  member_id  loan_amnt  funded_amnt  funded_amnt_inv        term  \\\n",
       "0  1077501    1296599     5000.0       5000.0           4975.0   36 months   \n",
       "1  1077430    1314167     2500.0       2500.0           2500.0   60 months   \n",
       "2  1077175    1313524     2400.0       2400.0           2400.0   36 months   \n",
       "\n",
       "   int_rate  installment grade sub_grade  ... il_util open_rv_12m open_rv_24m  \\\n",
       "0     10.65       162.87     B        B2  ...     NaN         NaN         NaN   \n",
       "1     15.27        59.83     C        C4  ...     NaN         NaN         NaN   \n",
       "2     15.96        84.33     C        C5  ...     NaN         NaN         NaN   \n",
       "\n",
       "   max_bal_bc all_util total_rev_hi_lim inq_fi total_cu_tl inq_last_12m  \\\n",
       "0         NaN      NaN              NaN    NaN         NaN          NaN   \n",
       "1         NaN      NaN              NaN    NaN         NaN          NaN   \n",
       "2         NaN      NaN              NaN    NaN         NaN          NaN   \n",
       "\n",
       "  default_ind  \n",
       "0           0  \n",
       "1           1  \n",
       "2           0  \n",
       "\n",
       "[3 rows x 73 columns]"
      ]
     },
     "execution_count": 3,
     "metadata": {},
     "output_type": "execute_result"
    }
   ],
   "source": [
    "data.head(3)"
   ]
  },
  {
   "cell_type": "code",
   "execution_count": 4,
   "metadata": {},
   "outputs": [
    {
     "name": "stdout",
     "output_type": "stream",
     "text": [
      "Before Dropping Shape of Data :(855969, 73)\n",
      "After Dropping Shape of Data :(855969, 71)\n"
     ]
    }
   ],
   "source": [
    "# Dropping ['id', 'member_id'] as it will not play important role into model building process.\n",
    "print('Before Dropping Shape of Data :{}'.format(data.shape))\n",
    "data.drop(['id', 'member_id'],inplace = True, axis = 1)\n",
    "print('After Dropping Shape of Data :{}'.format(data.shape))"
   ]
  },
  {
   "cell_type": "markdown",
   "metadata": {},
   "source": [
    "## Data Preprocessing\n",
    "\n",
    "#### Checking for NA values And Fill NA's or NAN's values with appropriate Values"
   ]
  },
  {
   "cell_type": "code",
   "execution_count": 5,
   "metadata": {},
   "outputs": [],
   "source": [
    "# Method for getting NA values\n",
    "drop_columns = []\n",
    "\n",
    "def get_na(data): \n",
    "    null_vars = data.isnull().sum()\n",
    "    null_vars = null_vars[null_vars > 0]\n",
    "    if(len(null_vars) > 0):\n",
    "        null_vars.sort_values(inplace=True)\n",
    "        print(str(null_vars/data.shape[0] * 100))\n",
    "        # null_vars.plot.bar(figsize=(15,4))\n",
    "    else:\n",
    "        print(\"No column have NA values\")"
   ]
  },
  {
   "cell_type": "code",
   "execution_count": 6,
   "metadata": {
    "scrolled": false
   },
   "outputs": [
    {
     "name": "stdout",
     "output_type": "stream",
     "text": [
      "title                           0.003855\n",
      "last_credit_pull_d              0.005841\n",
      "collections_12_mths_ex_med      0.006542\n",
      "revol_util                      0.052105\n",
      "last_pymnt_d                    1.035318\n",
      "emp_length                      5.030673\n",
      "emp_title                       5.776261\n",
      "total_rev_hi_lim                7.863953\n",
      "tot_cur_bal                     7.863953\n",
      "tot_coll_amt                    7.863953\n",
      "next_pymnt_d                   29.553757\n",
      "mths_since_last_delinq         51.381767\n",
      "mths_since_last_major_derog    75.099682\n",
      "mths_since_last_record         84.674211\n",
      "desc                           85.769111\n",
      "inq_fi                         98.447607\n",
      "all_util                       98.447607\n",
      "max_bal_bc                     98.447607\n",
      "open_rv_24m                    98.447607\n",
      "open_rv_12m                    98.447607\n",
      "total_bal_il                   98.447607\n",
      "open_il_24m                    98.447607\n",
      "open_il_12m                    98.447607\n",
      "open_il_6m                     98.447607\n",
      "open_acc_6m                    98.447607\n",
      "total_cu_tl                    98.447607\n",
      "inq_last_12m                   98.447607\n",
      "mths_since_rcnt_il             98.488964\n",
      "il_util                        98.643759\n",
      "verification_status_joint      99.948363\n",
      "annual_inc_joint               99.948363\n",
      "dti_joint                      99.948596\n",
      "dtype: float64\n"
     ]
    }
   ],
   "source": [
    "get_na(data)"
   ]
  },
  {
   "cell_type": "code",
   "execution_count": 7,
   "metadata": {},
   "outputs": [],
   "source": [
    "## Removing Columns those are having more than 70% missing data\n",
    "drop_columns_list = ['mths_since_last_major_derog', 'mths_since_last_record','desc',\n",
    "                     'inq_fi','all_util','max_bal_bc','open_rv_24m','open_rv_12m','total_bal_il','open_il_24m',\n",
    "                     'open_il_12m','open_il_6m','open_acc_6m','total_cu_tl','inq_last_12m','mths_since_rcnt_il',\n",
    "                     'il_util','verification_status_joint','annual_inc_joint','dti_joint']"
   ]
  },
  {
   "cell_type": "code",
   "execution_count": 8,
   "metadata": {},
   "outputs": [
    {
     "data": {
      "text/plain": [
       "20"
      ]
     },
     "execution_count": 8,
     "metadata": {},
     "output_type": "execute_result"
    }
   ],
   "source": [
    "len(drop_columns_list)"
   ]
  },
  {
   "cell_type": "code",
   "execution_count": 9,
   "metadata": {
    "scrolled": true
   },
   "outputs": [
    {
     "name": "stdout",
     "output_type": "stream",
     "text": [
      "Before Dropping Shape of Data :(855969, 71)\n",
      "After Dropping Shape of Data :(855969, 51)\n"
     ]
    }
   ],
   "source": [
    "# Dropping Columns those having more than 70% NA Values\n",
    "print('Before Dropping Shape of Data :{}'.format(data.shape))\n",
    "data.drop(drop_columns_list, inplace = True, axis = 1)\n",
    "print('After Dropping Shape of Data :{}'.format(data.shape))"
   ]
  },
  {
   "cell_type": "code",
   "execution_count": 10,
   "metadata": {
    "scrolled": true
   },
   "outputs": [
    {
     "data": {
      "text/plain": [
       "0    860xx\n",
       "1    309xx\n",
       "2    606xx\n",
       "3    917xx\n",
       "4    972xx\n",
       "Name: zip_code, dtype: object"
      ]
     },
     "execution_count": 10,
     "metadata": {},
     "output_type": "execute_result"
    }
   ],
   "source": [
    "# zip_code\n",
    "data.zip_code.head()"
   ]
  },
  {
   "cell_type": "code",
   "execution_count": 11,
   "metadata": {},
   "outputs": [],
   "source": [
    "# We are dropping zip_code as it can't be use into model building\n",
    "data.drop('zip_code', inplace = True, axis = 1)"
   ]
  },
  {
   "cell_type": "code",
   "execution_count": 12,
   "metadata": {},
   "outputs": [
    {
     "data": {
      "text/plain": [
       "0    1.0\n",
       "1    1.0\n",
       "2    1.0\n",
       "3    1.0\n",
       "4    1.0\n",
       "Name: policy_code, dtype: float64"
      ]
     },
     "execution_count": 12,
     "metadata": {},
     "output_type": "execute_result"
    }
   ],
   "source": [
    "# Reviewing policy_code Column\n",
    "data.policy_code.head()"
   ]
  },
  {
   "cell_type": "code",
   "execution_count": 13,
   "metadata": {},
   "outputs": [
    {
     "data": {
      "text/plain": [
       "1.0    855969\n",
       "Name: policy_code, dtype: int64"
      ]
     },
     "execution_count": 13,
     "metadata": {},
     "output_type": "execute_result"
    }
   ],
   "source": [
    "data.policy_code.value_counts()"
   ]
  },
  {
   "cell_type": "code",
   "execution_count": 14,
   "metadata": {},
   "outputs": [],
   "source": [
    "# We are dropping policy_code as it only have one label for entire dataset that will lead to bias into model\n",
    "data.drop('policy_code', inplace = True, axis = 1)"
   ]
  },
  {
   "cell_type": "code",
   "execution_count": 15,
   "metadata": {},
   "outputs": [
    {
     "data": {
      "text/plain": [
       "0                         NaN\n",
       "1                       Ryder\n",
       "2                         NaN\n",
       "3         AIR RESOURCES BOARD\n",
       "4    University Medical Group\n",
       "Name: emp_title, dtype: object"
      ]
     },
     "execution_count": 15,
     "metadata": {},
     "output_type": "execute_result"
    }
   ],
   "source": [
    "# emp_title - The job title supplied by the Borrower when applying for the loan.\n",
    "data.emp_title.head()"
   ]
  },
  {
   "cell_type": "code",
   "execution_count": 16,
   "metadata": {},
   "outputs": [
    {
     "data": {
      "text/plain": [
       "Teacher                                   12965\n",
       "Manager                                   10821\n",
       "Registered Nurse                           5341\n",
       "RN                                         5182\n",
       "Owner                                      5157\n",
       "Supervisor                                 4792\n",
       "Sales                                      4051\n",
       "Project Manager                            3856\n",
       "Driver                                     3417\n",
       "Office Manager                             3404\n",
       "Director                                   3067\n",
       "General Manager                            3060\n",
       "manager                                    2994\n",
       "teacher                                    2820\n",
       "owner                                      2727\n",
       "Engineer                                   2574\n",
       "President                                  2478\n",
       "driver                                     2319\n",
       "Vice President                             2283\n",
       "Attorney                                   2074\n",
       "Operations Manager                         1995\n",
       "Accountant                                 1978\n",
       "Administrative Assistant                   1943\n",
       "Sales Manager                              1780\n",
       "Police Officer                             1668\n",
       "Account Manager                            1665\n",
       "sales                                      1651\n",
       "supervisor                                 1611\n",
       "Executive Assistant                        1549\n",
       "Analyst                                    1494\n",
       "                                          ...  \n",
       "security armed guard                          1\n",
       "Sale Consultant                               1\n",
       "Resp therapist                                1\n",
       "Floor Attendent                               1\n",
       "Merchant Analyst                              1\n",
       "Network Analyst I                             1\n",
       "Tillamook PUD                                 1\n",
       "Fitzgerald's                                  1\n",
       "MAY MEDICAL GROUP                             1\n",
       "Final Cut Technician                          1\n",
       "c&t auto service and sears auto center        1\n",
       "K9 Trainer                                    1\n",
       "loreal                                        1\n",
       "SEO / Web Developlemt                         1\n",
       "The Polyclinic                                1\n",
       "Cousin Corporation of America                 1\n",
       "Cornerstone residence                         1\n",
       "Chief of Information Protection               1\n",
       "Utah food bank                                1\n",
       "VP, Business Development IBD                  1\n",
       "Court Service Specialist                      1\n",
       "Banquest Server                               1\n",
       "IT Infrastructure & Operations Manager        1\n",
       "Herman Miller Inc                             1\n",
       "U.S. Army TACOM                               1\n",
       "SR Programmer Analyst                         1\n",
       "Cryospec, Inc.                                1\n",
       "GSM2 E5                                       1\n",
       "CAW Systems                                   1\n",
       "Memorial Health system                        1\n",
       "Name: emp_title, Length: 290912, dtype: int64"
      ]
     },
     "execution_count": 16,
     "metadata": {},
     "output_type": "execute_result"
    }
   ],
   "source": [
    "data.emp_title.value_counts()"
   ]
  },
  {
   "cell_type": "code",
   "execution_count": 17,
   "metadata": {},
   "outputs": [],
   "source": [
    "# Dropping emp_title as it is having 290912 lables and it will not impact on model.\n",
    "data.drop('emp_title',inplace = True, axis = 1)"
   ]
  },
  {
   "cell_type": "code",
   "execution_count": 18,
   "metadata": {},
   "outputs": [
    {
     "data": {
      "text/plain": [
       "0    10+ years\n",
       "1     < 1 year\n",
       "2    10+ years\n",
       "3    10+ years\n",
       "4       1 year\n",
       "Name: emp_length, dtype: object"
      ]
     },
     "execution_count": 18,
     "metadata": {},
     "output_type": "execute_result"
    }
   ],
   "source": [
    "# Treatment for emp_length - Employment length in years.\n",
    "data.emp_length.head()"
   ]
  },
  {
   "cell_type": "code",
   "execution_count": 19,
   "metadata": {},
   "outputs": [
    {
     "data": {
      "text/plain": [
       "0    10\n",
       "1     1\n",
       "2    10\n",
       "3    10\n",
       "4     1\n",
       "Name: emp_length, dtype: object"
      ]
     },
     "execution_count": 19,
     "metadata": {},
     "output_type": "execute_result"
    }
   ],
   "source": [
    "data.emp_length = data.emp_length.str.replace(r'\\D', '')\n",
    "data.emp_length.head()"
   ]
  },
  {
   "cell_type": "code",
   "execution_count": 20,
   "metadata": {
    "scrolled": true
   },
   "outputs": [
    {
     "data": {
      "text/plain": [
       "10    282090\n",
       "1     122452\n",
       "2      75986\n",
       "3      67392\n",
       "5      53812\n",
       "4      50643\n",
       "7      43204\n",
       "8      42421\n",
       "6      41446\n",
       "9      33462\n",
       "Name: emp_length, dtype: int64"
      ]
     },
     "execution_count": 20,
     "metadata": {},
     "output_type": "execute_result"
    }
   ],
   "source": [
    "data.emp_length.value_counts()"
   ]
  },
  {
   "cell_type": "code",
   "execution_count": 21,
   "metadata": {},
   "outputs": [
    {
     "data": {
      "text/plain": [
       "43061"
      ]
     },
     "execution_count": 21,
     "metadata": {},
     "output_type": "execute_result"
    }
   ],
   "source": [
    "data.emp_length.isna().sum()"
   ]
  },
  {
   "cell_type": "code",
   "execution_count": 22,
   "metadata": {
    "scrolled": true
   },
   "outputs": [
    {
     "data": {
      "text/plain": [
       "dtype('int32')"
      ]
     },
     "execution_count": 22,
     "metadata": {},
     "output_type": "execute_result"
    }
   ],
   "source": [
    "# Filling NA values\n",
    "data.emp_length.fillna(10, inplace = True)\n",
    "# Change Datatype of variable to numeric as it is represanting no of years\n",
    "data.emp_length = data.emp_length.astype('int32')\n",
    "data.emp_length.dtype"
   ]
  },
  {
   "cell_type": "code",
   "execution_count": 23,
   "metadata": {
    "scrolled": true
   },
   "outputs": [
    {
     "data": {
      "text/plain": [
       "<bound method NDFrame.head of 0          36 months\n",
       "1          60 months\n",
       "2          36 months\n",
       "3          36 months\n",
       "4          60 months\n",
       "5          36 months\n",
       "6          60 months\n",
       "7          36 months\n",
       "8          60 months\n",
       "9          60 months\n",
       "10         60 months\n",
       "11         36 months\n",
       "12         36 months\n",
       "13         36 months\n",
       "14         36 months\n",
       "15         36 months\n",
       "16         36 months\n",
       "17         36 months\n",
       "18         36 months\n",
       "19         36 months\n",
       "20         60 months\n",
       "21         36 months\n",
       "22         36 months\n",
       "23         36 months\n",
       "24         36 months\n",
       "25         36 months\n",
       "26         36 months\n",
       "27         60 months\n",
       "28         36 months\n",
       "29         36 months\n",
       "             ...    \n",
       "855939     36 months\n",
       "855940     60 months\n",
       "855941     36 months\n",
       "855942     36 months\n",
       "855943     60 months\n",
       "855944     36 months\n",
       "855945     36 months\n",
       "855946     60 months\n",
       "855947     60 months\n",
       "855948     60 months\n",
       "855949     60 months\n",
       "855950     60 months\n",
       "855951     36 months\n",
       "855952     36 months\n",
       "855953     36 months\n",
       "855954     36 months\n",
       "855955     36 months\n",
       "855956     36 months\n",
       "855957     36 months\n",
       "855958     60 months\n",
       "855959     36 months\n",
       "855960     36 months\n",
       "855961     36 months\n",
       "855962     36 months\n",
       "855963     36 months\n",
       "855964     36 months\n",
       "855965     36 months\n",
       "855966     60 months\n",
       "855967     60 months\n",
       "855968     36 months\n",
       "Name: term, Length: 855969, dtype: object>"
      ]
     },
     "execution_count": 23,
     "metadata": {},
     "output_type": "execute_result"
    }
   ],
   "source": [
    "# Treatment for term Variable - The number of payments on the loan. Values are in months and can be either 36 or 60.\n",
    "data.term.head"
   ]
  },
  {
   "cell_type": "code",
   "execution_count": 24,
   "metadata": {},
   "outputs": [
    {
     "data": {
      "text/plain": [
       " 36 months    600221\n",
       " 60 months    255748\n",
       "Name: term, dtype: int64"
      ]
     },
     "execution_count": 24,
     "metadata": {},
     "output_type": "execute_result"
    }
   ],
   "source": [
    "data.term.value_counts()"
   ]
  },
  {
   "cell_type": "code",
   "execution_count": 25,
   "metadata": {},
   "outputs": [
    {
     "data": {
      "text/plain": [
       "0    Jan-2016\n",
       "1    Sep-2013\n",
       "2    Jan-2016\n",
       "3    Jan-2015\n",
       "4    Jan-2016\n",
       "Name: last_credit_pull_d, dtype: object"
      ]
     },
     "execution_count": 25,
     "metadata": {},
     "output_type": "execute_result"
    }
   ],
   "source": [
    "# last_credit_pull_d - The most recent month XYZ corp. pulled credit for this loan\n",
    "data.last_credit_pull_d.head()"
   ]
  },
  {
   "cell_type": "code",
   "execution_count": 26,
   "metadata": {
    "scrolled": true
   },
   "outputs": [
    {
     "data": {
      "text/plain": [
       "0         NaN\n",
       "1         NaN\n",
       "2         NaN\n",
       "3         NaN\n",
       "4    Feb-2016\n",
       "Name: next_pymnt_d, dtype: object"
      ]
     },
     "execution_count": 26,
     "metadata": {},
     "output_type": "execute_result"
    }
   ],
   "source": [
    "# next_pymnt_d - Next scheduled payment date\n",
    "data.next_pymnt_d.head()"
   ]
  },
  {
   "cell_type": "code",
   "execution_count": 27,
   "metadata": {},
   "outputs": [
    {
     "data": {
      "text/plain": [
       "0    Jan-1985\n",
       "1    Apr-1999\n",
       "2    Nov-2001\n",
       "3    Feb-1996\n",
       "4    Jan-1996\n",
       "Name: earliest_cr_line, dtype: object"
      ]
     },
     "execution_count": 27,
     "metadata": {},
     "output_type": "execute_result"
    }
   ],
   "source": [
    "# earliest_cr_line - The month the borrower's earliest reported credit line was opened\n",
    "data.earliest_cr_line.head()"
   ]
  },
  {
   "cell_type": "code",
   "execution_count": 28,
   "metadata": {},
   "outputs": [],
   "source": [
    "# Dropping Time Variables (Dates) from dataset\n",
    "date_cols = ['last_credit_pull_d', 'next_pymnt_d', 'earliest_cr_line']\n",
    "data.drop(date_cols,inplace = True, axis = 1)"
   ]
  },
  {
   "cell_type": "code",
   "execution_count": 29,
   "metadata": {},
   "outputs": [
    {
     "data": {
      "text/plain": [
       "(855969, 45)"
      ]
     },
     "execution_count": 29,
     "metadata": {},
     "output_type": "execute_result"
    }
   ],
   "source": [
    "data.shape"
   ]
  },
  {
   "cell_type": "code",
   "execution_count": 30,
   "metadata": {},
   "outputs": [
    {
     "data": {
      "text/plain": [
       "0                Computer\n",
       "1                    bike\n",
       "2    real estate business\n",
       "3                personel\n",
       "4                Personal\n",
       "Name: title, dtype: object"
      ]
     },
     "execution_count": 30,
     "metadata": {},
     "output_type": "execute_result"
    }
   ],
   "source": [
    "# title - The loan title provided by the borrower\n",
    "data.title.head()"
   ]
  },
  {
   "cell_type": "code",
   "execution_count": 31,
   "metadata": {},
   "outputs": [],
   "source": [
    "# Dropping title as it can be anything.\n",
    "data.drop('title',inplace = True, axis = 1)"
   ]
  },
  {
   "cell_type": "code",
   "execution_count": 32,
   "metadata": {},
   "outputs": [
    {
     "data": {
      "text/plain": [
       "0           Verified\n",
       "1    Source Verified\n",
       "2       Not Verified\n",
       "3    Source Verified\n",
       "4    Source Verified\n",
       "Name: verification_status, dtype: object"
      ]
     },
     "execution_count": 32,
     "metadata": {},
     "output_type": "execute_result"
    }
   ],
   "source": [
    "# verification_status - Was the income source verified\n",
    "data.verification_status.head()"
   ]
  },
  {
   "cell_type": "code",
   "execution_count": 33,
   "metadata": {},
   "outputs": [],
   "source": [
    "# Mapping and Set Lable for 'Source Verified' to 'Verified'\n",
    "data.verification_status = data.verification_status.map({'Verified': 'Verified', 'Source Verified': 'Verified', \n",
    "                                                         'Not Verified':'Not Verified'})"
   ]
  },
  {
   "cell_type": "code",
   "execution_count": 34,
   "metadata": {
    "scrolled": true
   },
   "outputs": [
    {
     "data": {
      "text/plain": [
       "0        Verified\n",
       "1        Verified\n",
       "2    Not Verified\n",
       "3        Verified\n",
       "4        Verified\n",
       "Name: verification_status, dtype: object"
      ]
     },
     "execution_count": 34,
     "metadata": {},
     "output_type": "execute_result"
    }
   ],
   "source": [
    "data.verification_status.head()"
   ]
  },
  {
   "cell_type": "code",
   "execution_count": 35,
   "metadata": {},
   "outputs": [
    {
     "data": {
      "text/plain": [
       "0    INDIVIDUAL\n",
       "1    INDIVIDUAL\n",
       "2    INDIVIDUAL\n",
       "3    INDIVIDUAL\n",
       "4    INDIVIDUAL\n",
       "Name: application_type, dtype: object"
      ]
     },
     "execution_count": 35,
     "metadata": {},
     "output_type": "execute_result"
    }
   ],
   "source": [
    "# application_type - Indicates whether the loan is an individual application or a joint application with two co-borrowers\n",
    "data.application_type.head()"
   ]
  },
  {
   "cell_type": "code",
   "execution_count": 36,
   "metadata": {},
   "outputs": [
    {
     "data": {
      "text/plain": [
       "INDIVIDUAL    855527\n",
       "JOINT            442\n",
       "Name: application_type, dtype: int64"
      ]
     },
     "execution_count": 36,
     "metadata": {},
     "output_type": "execute_result"
    }
   ],
   "source": [
    "data.application_type.value_counts()"
   ]
  },
  {
   "cell_type": "code",
   "execution_count": 37,
   "metadata": {},
   "outputs": [
    {
     "data": {
      "text/plain": [
       "0    AZ\n",
       "1    GA\n",
       "2    IL\n",
       "3    CA\n",
       "4    OR\n",
       "Name: addr_state, dtype: object"
      ]
     },
     "execution_count": 37,
     "metadata": {},
     "output_type": "execute_result"
    }
   ],
   "source": [
    "# addr_state - The state provided by the borrower in the loan application\n",
    "data.addr_state.head()"
   ]
  },
  {
   "cell_type": "code",
   "execution_count": 38,
   "metadata": {
    "scrolled": true
   },
   "outputs": [
    {
     "name": "stdout",
     "output_type": "stream",
     "text": [
      "Total No of values for state : 51\n"
     ]
    }
   ],
   "source": [
    "print('Total No of values for state : {}'.format(len(data.addr_state.value_counts())))"
   ]
  },
  {
   "cell_type": "code",
   "execution_count": 39,
   "metadata": {
    "scrolled": true
   },
   "outputs": [
    {
     "data": {
      "text/plain": [
       "0       credit_card\n",
       "1               car\n",
       "2    small_business\n",
       "3             other\n",
       "4             other\n",
       "Name: purpose, dtype: object"
      ]
     },
     "execution_count": 39,
     "metadata": {},
     "output_type": "execute_result"
    }
   ],
   "source": [
    "# purpose - A category provided by the borrower for the loan request\n",
    "data.purpose.head()"
   ]
  },
  {
   "cell_type": "code",
   "execution_count": 40,
   "metadata": {
    "scrolled": false
   },
   "outputs": [
    {
     "data": {
      "text/plain": [
       "debt_consolidation    505392\n",
       "credit_card           200144\n",
       "home_improvement       49956\n",
       "other                  40949\n",
       "major_purchase         16587\n",
       "small_business          9785\n",
       "car                     8593\n",
       "medical                 8193\n",
       "moving                  5160\n",
       "vacation                4542\n",
       "house                   3513\n",
       "wedding                 2280\n",
       "renewable_energy         549\n",
       "educational              326\n",
       "Name: purpose, dtype: int64"
      ]
     },
     "execution_count": 40,
     "metadata": {},
     "output_type": "execute_result"
    }
   ],
   "source": [
    "data.purpose.value_counts()"
   ]
  },
  {
   "cell_type": "code",
   "execution_count": 41,
   "metadata": {},
   "outputs": [],
   "source": [
    "data.purpose = data.purpose.map({'debt_consolidation': 'debt_consolidation','credit_card':'credit_card',\n",
    "'home_improvement':'Other', 'major_purchase':'Other', 'small_business':'Other', 'car':'Other', 'medical':'Other', \n",
    "'moving':'Other','vacation':'Other', 'house':'Other', 'wedding':'Other', 'renewable_energy':'Other', 'educational':'Other'})"
   ]
  },
  {
   "cell_type": "code",
   "execution_count": 42,
   "metadata": {
    "scrolled": true
   },
   "outputs": [
    {
     "data": {
      "text/plain": [
       "debt_consolidation    505392\n",
       "credit_card           200144\n",
       "Other                 109484\n",
       "Name: purpose, dtype: int64"
      ]
     },
     "execution_count": 42,
     "metadata": {},
     "output_type": "execute_result"
    }
   ],
   "source": [
    "data.purpose.value_counts()"
   ]
  },
  {
   "cell_type": "code",
   "execution_count": 43,
   "metadata": {},
   "outputs": [
    {
     "data": {
      "text/plain": [
       "40949"
      ]
     },
     "execution_count": 43,
     "metadata": {},
     "output_type": "execute_result"
    }
   ],
   "source": [
    "data.purpose.isna().sum()"
   ]
  },
  {
   "cell_type": "code",
   "execution_count": 44,
   "metadata": {},
   "outputs": [],
   "source": [
    "data.purpose.fillna('Other', inplace = True)"
   ]
  },
  {
   "cell_type": "code",
   "execution_count": 45,
   "metadata": {
    "scrolled": true
   },
   "outputs": [
    {
     "data": {
      "text/plain": [
       "0     5000.0\n",
       "1     2500.0\n",
       "2     2400.0\n",
       "3    10000.0\n",
       "4     3000.0\n",
       "Name: loan_amnt, dtype: float64"
      ]
     },
     "execution_count": 45,
     "metadata": {},
     "output_type": "execute_result"
    }
   ],
   "source": [
    "# loan_amnt - The listed amount of the loan applied for by the borrower.\n",
    "data.loan_amnt.head()"
   ]
  },
  {
   "cell_type": "code",
   "execution_count": 46,
   "metadata": {
    "scrolled": true
   },
   "outputs": [
    {
     "data": {
      "text/plain": [
       "0    RENT\n",
       "1    RENT\n",
       "2    RENT\n",
       "3    RENT\n",
       "4    RENT\n",
       "Name: home_ownership, dtype: object"
      ]
     },
     "execution_count": 46,
     "metadata": {},
     "output_type": "execute_result"
    }
   ],
   "source": [
    "# home_ownership - The home ownership status provided by the borrower during registratio\n",
    "data.home_ownership.head()"
   ]
  },
  {
   "cell_type": "code",
   "execution_count": 47,
   "metadata": {},
   "outputs": [
    {
     "data": {
      "text/plain": [
       "MORTGAGE    429106\n",
       "RENT        342535\n",
       "OWN          84136\n",
       "OTHER          144\n",
       "NONE            45\n",
       "ANY              3\n",
       "Name: home_ownership, dtype: int64"
      ]
     },
     "execution_count": 47,
     "metadata": {},
     "output_type": "execute_result"
    }
   ],
   "source": [
    "data.home_ownership.value_counts()"
   ]
  },
  {
   "cell_type": "code",
   "execution_count": 48,
   "metadata": {},
   "outputs": [],
   "source": [
    "# Replacing OTHER , NONE , ANY to Other for Reducing Columns while Dummy Coding\n",
    "data.home_ownership = data.home_ownership.map({'MORTGAGE':'Mortgage', 'RENT': 'Rent', 'OWN':'Own', 'OTHER':'Other', \n",
    "                                               'NONE': 'Other','ANY':'Other' })"
   ]
  },
  {
   "cell_type": "code",
   "execution_count": 49,
   "metadata": {
    "scrolled": true
   },
   "outputs": [
    {
     "data": {
      "text/plain": [
       "Mortgage    429106\n",
       "Rent        342535\n",
       "Own          84136\n",
       "Other          192\n",
       "Name: home_ownership, dtype: int64"
      ]
     },
     "execution_count": 49,
     "metadata": {},
     "output_type": "execute_result"
    }
   ],
   "source": [
    "data.home_ownership.value_counts()"
   ]
  },
  {
   "cell_type": "code",
   "execution_count": 50,
   "metadata": {},
   "outputs": [
    {
     "data": {
      "text/plain": [
       "0    B\n",
       "1    C\n",
       "2    C\n",
       "3    C\n",
       "4    B\n",
       "Name: grade, dtype: object"
      ]
     },
     "execution_count": 50,
     "metadata": {},
     "output_type": "execute_result"
    }
   ],
   "source": [
    "# grade - Assigned loan grade\n",
    "data.grade.head()"
   ]
  },
  {
   "cell_type": "code",
   "execution_count": 51,
   "metadata": {},
   "outputs": [
    {
     "data": {
      "text/plain": [
       "0    B2\n",
       "1    C4\n",
       "2    C5\n",
       "3    C1\n",
       "4    B5\n",
       "Name: sub_grade, dtype: object"
      ]
     },
     "execution_count": 51,
     "metadata": {},
     "output_type": "execute_result"
    }
   ],
   "source": [
    "# sub_grade - Assigned loan sub_grade\n",
    "data.sub_grade.head()"
   ]
  },
  {
   "cell_type": "code",
   "execution_count": 52,
   "metadata": {},
   "outputs": [],
   "source": [
    "# Grade and Sub_grade are similar kind of factor. In this case Sub_grade can be better parameter to consider into model building process. So, we can remove Grade from dataset.\n",
    "data.drop('grade',inplace = True, axis = 1)"
   ]
  },
  {
   "cell_type": "code",
   "execution_count": 53,
   "metadata": {
    "scrolled": false
   },
   "outputs": [
    {
     "data": {
      "text/plain": [
       "0     3.0\n",
       "1     3.0\n",
       "2     2.0\n",
       "3    10.0\n",
       "4    15.0\n",
       "Name: open_acc, dtype: float64"
      ]
     },
     "execution_count": 53,
     "metadata": {},
     "output_type": "execute_result"
    }
   ],
   "source": [
    "# open_acc - The number of open credit lines in the borrower's credit file.\n",
    "data.open_acc.head()"
   ]
  },
  {
   "cell_type": "code",
   "execution_count": 54,
   "metadata": {},
   "outputs": [
    {
     "data": {
      "text/plain": [
       "dtype('int32')"
      ]
     },
     "execution_count": 54,
     "metadata": {},
     "output_type": "execute_result"
    }
   ],
   "source": [
    "# Converting Datatype of open_acc as it is representing numbers\n",
    "data.open_acc = data.open_acc.astype('int32')\n",
    "data.open_acc.dtype"
   ]
  },
  {
   "cell_type": "code",
   "execution_count": 55,
   "metadata": {},
   "outputs": [
    {
     "data": {
      "text/plain": [
       "0    0.0\n",
       "1    0.0\n",
       "2    0.0\n",
       "3    0.0\n",
       "4    0.0\n",
       "Name: delinq_2yrs, dtype: float64"
      ]
     },
     "execution_count": 55,
     "metadata": {},
     "output_type": "execute_result"
    }
   ],
   "source": [
    "# delinq_2yrs - The number of 30+ days past-due incidences of delinquency in the borrower's credit file for the past 2 years\n",
    "data.delinq_2yrs.head()"
   ]
  },
  {
   "cell_type": "code",
   "execution_count": 56,
   "metadata": {},
   "outputs": [
    {
     "data": {
      "text/plain": [
       "dtype('int32')"
      ]
     },
     "execution_count": 56,
     "metadata": {},
     "output_type": "execute_result"
    }
   ],
   "source": [
    "# Converting Datatype of delinq_2yrs as it is showing numbers\n",
    "data.delinq_2yrs = data.delinq_2yrs.astype('int32')\n",
    "data.delinq_2yrs.dtype"
   ]
  },
  {
   "cell_type": "code",
   "execution_count": 57,
   "metadata": {
    "scrolled": false
   },
   "outputs": [
    {
     "data": {
      "text/plain": [
       "0    1.0\n",
       "1    5.0\n",
       "2    2.0\n",
       "3    1.0\n",
       "4    0.0\n",
       "Name: inq_last_6mths, dtype: float64"
      ]
     },
     "execution_count": 57,
     "metadata": {},
     "output_type": "execute_result"
    }
   ],
   "source": [
    "# inq_last_6mths - The number of inquiries in past 6 months (excluding auto and mortgage inquiries)\n",
    "data.inq_last_6mths.head()"
   ]
  },
  {
   "cell_type": "code",
   "execution_count": 58,
   "metadata": {},
   "outputs": [
    {
     "data": {
      "text/plain": [
       "dtype('int32')"
      ]
     },
     "execution_count": 58,
     "metadata": {},
     "output_type": "execute_result"
    }
   ],
   "source": [
    "# Converting Datatype of delinq_2yrs as it is showing numbers\n",
    "data.inq_last_6mths = data.inq_last_6mths.astype('int32')\n",
    "data.inq_last_6mths.dtype"
   ]
  },
  {
   "cell_type": "code",
   "execution_count": 59,
   "metadata": {},
   "outputs": [
    {
     "data": {
      "text/plain": [
       "0     5000.0\n",
       "1     2500.0\n",
       "2     2400.0\n",
       "3    10000.0\n",
       "4     3000.0\n",
       "Name: funded_amnt, dtype: float64"
      ]
     },
     "execution_count": 59,
     "metadata": {},
     "output_type": "execute_result"
    }
   ],
   "source": [
    "# funded_amnt - The total amount committed to that loan at that point in time.\n",
    "data.funded_amnt.head()"
   ]
  },
  {
   "cell_type": "code",
   "execution_count": 60,
   "metadata": {},
   "outputs": [
    {
     "data": {
      "text/plain": [
       "0     4975.0\n",
       "1     2500.0\n",
       "2     2400.0\n",
       "3    10000.0\n",
       "4     3000.0\n",
       "Name: funded_amnt_inv, dtype: float64"
      ]
     },
     "execution_count": 60,
     "metadata": {},
     "output_type": "execute_result"
    }
   ],
   "source": [
    "# funded_amnt_inv - The total amount committed by investors for that loan at that point in time.\n",
    "data.funded_amnt_inv.head()"
   ]
  },
  {
   "cell_type": "code",
   "execution_count": 61,
   "metadata": {},
   "outputs": [
    {
     "data": {
      "text/plain": [
       "0    10.65\n",
       "1    15.27\n",
       "2    15.96\n",
       "3    13.49\n",
       "4    12.69\n",
       "Name: int_rate, dtype: float64"
      ]
     },
     "execution_count": 61,
     "metadata": {},
     "output_type": "execute_result"
    }
   ],
   "source": [
    "# int_rate - Interest Rate on the loan\n",
    "data.int_rate.head() "
   ]
  },
  {
   "cell_type": "code",
   "execution_count": 62,
   "metadata": {},
   "outputs": [
    {
     "data": {
      "text/plain": [
       "0    162.87\n",
       "1     59.83\n",
       "2     84.33\n",
       "3    339.31\n",
       "4     67.79\n",
       "Name: installment, dtype: float64"
      ]
     },
     "execution_count": 62,
     "metadata": {},
     "output_type": "execute_result"
    }
   ],
   "source": [
    "# installment - The monthly payment owed by the borrower if the loan originates.\n",
    "data.installment.head()"
   ]
  },
  {
   "cell_type": "code",
   "execution_count": 63,
   "metadata": {},
   "outputs": [
    {
     "data": {
      "text/plain": [
       "0    24000.0\n",
       "1    30000.0\n",
       "2    12252.0\n",
       "3    49200.0\n",
       "4    80000.0\n",
       "Name: annual_inc, dtype: float64"
      ]
     },
     "execution_count": 63,
     "metadata": {},
     "output_type": "execute_result"
    }
   ],
   "source": [
    "# annual_inc - The self-reported annual income provided by the borrower during registration.\n",
    "data.annual_inc.head()"
   ]
  },
  {
   "cell_type": "code",
   "execution_count": 64,
   "metadata": {},
   "outputs": [
    {
     "data": {
      "text/plain": [
       "0    Dec-2011\n",
       "1    Dec-2011\n",
       "2    Dec-2011\n",
       "3    Dec-2011\n",
       "4    Dec-2011\n",
       "Name: issue_d, dtype: object"
      ]
     },
     "execution_count": 64,
     "metadata": {},
     "output_type": "execute_result"
    }
   ],
   "source": [
    "# issue_d - The month which the loan was funded\n",
    "data.issue_d.head()"
   ]
  },
  {
   "cell_type": "code",
   "execution_count": 65,
   "metadata": {
    "scrolled": false
   },
   "outputs": [
    {
     "data": {
      "text/plain": [
       "0    n\n",
       "1    n\n",
       "2    n\n",
       "3    n\n",
       "4    n\n",
       "Name: pymnt_plan, dtype: object"
      ]
     },
     "execution_count": 65,
     "metadata": {},
     "output_type": "execute_result"
    }
   ],
   "source": [
    "# pymnt_plan - Indicates if a payment plan has been put in place for the loan\n",
    "data.pymnt_plan.head()"
   ]
  },
  {
   "cell_type": "code",
   "execution_count": 66,
   "metadata": {
    "scrolled": true
   },
   "outputs": [
    {
     "data": {
      "text/plain": [
       "n    855964\n",
       "y         5\n",
       "Name: pymnt_plan, dtype: int64"
      ]
     },
     "execution_count": 66,
     "metadata": {},
     "output_type": "execute_result"
    }
   ],
   "source": [
    "data.pymnt_plan.value_counts()"
   ]
  },
  {
   "cell_type": "code",
   "execution_count": 67,
   "metadata": {},
   "outputs": [],
   "source": [
    "# We can't consider pymnt_plan column as it is showing same value for almost all records\n",
    "data.drop('pymnt_plan', axis = 1, inplace= True)"
   ]
  },
  {
   "cell_type": "code",
   "execution_count": 68,
   "metadata": {},
   "outputs": [
    {
     "data": {
      "text/plain": [
       "0    27.65\n",
       "1     1.00\n",
       "2     8.72\n",
       "3    20.00\n",
       "4    17.94\n",
       "Name: dti, dtype: float64"
      ]
     },
     "execution_count": 68,
     "metadata": {},
     "output_type": "execute_result"
    }
   ],
   "source": [
    "# dti - A ratio calculated using the borrower’s total monthly debt payments on the total debt obligations, \n",
    "# excluding mortgage and the requested loan, divided by the borrower’s self-reported monthly income.\n",
    "data.dti.head()"
   ]
  },
  {
   "cell_type": "code",
   "execution_count": 69,
   "metadata": {
    "scrolled": true
   },
   "outputs": [
    {
     "data": {
      "text/plain": [
       "0    0.0\n",
       "1    0.0\n",
       "2    0.0\n",
       "3    0.0\n",
       "4    0.0\n",
       "Name: pub_rec, dtype: float64"
      ]
     },
     "execution_count": 69,
     "metadata": {},
     "output_type": "execute_result"
    }
   ],
   "source": [
    "# pub_rec - Number of derogatory public records\n",
    "data.pub_rec.head()"
   ]
  },
  {
   "cell_type": "code",
   "execution_count": 70,
   "metadata": {
    "scrolled": false
   },
   "outputs": [
    {
     "data": {
      "text/plain": [
       "0.0     725455\n",
       "1.0     108920\n",
       "2.0      14250\n",
       "3.0       4305\n",
       "4.0       1496\n",
       "5.0        728\n",
       "6.0        366\n",
       "7.0        167\n",
       "8.0        110\n",
       "9.0         46\n",
       "10.0        41\n",
       "11.0        21\n",
       "12.0        14\n",
       "13.0        12\n",
       "15.0         6\n",
       "18.0         5\n",
       "16.0         5\n",
       "21.0         4\n",
       "17.0         3\n",
       "14.0         2\n",
       "19.0         2\n",
       "49.0         2\n",
       "40.0         1\n",
       "26.0         1\n",
       "63.0         1\n",
       "22.0         1\n",
       "28.0         1\n",
       "86.0         1\n",
       "34.0         1\n",
       "23.0         1\n",
       "54.0         1\n",
       "Name: pub_rec, dtype: int64"
      ]
     },
     "execution_count": 70,
     "metadata": {},
     "output_type": "execute_result"
    }
   ],
   "source": [
    "data.pub_rec.value_counts()"
   ]
  },
  {
   "cell_type": "code",
   "execution_count": 71,
   "metadata": {},
   "outputs": [],
   "source": [
    "#Feature Engineering for pub_rec. If Number of derogatory public records is less than 3 will go for good else go in fever of bad\n",
    "data.pub_rec = np.where(data.pub_rec <= 2, 'Good', 'Bad')"
   ]
  },
  {
   "cell_type": "code",
   "execution_count": 72,
   "metadata": {},
   "outputs": [
    {
     "data": {
      "text/plain": [
       "0    13648.0\n",
       "1     1687.0\n",
       "2     2956.0\n",
       "3     5598.0\n",
       "4    27783.0\n",
       "Name: revol_bal, dtype: float64"
      ]
     },
     "execution_count": 72,
     "metadata": {},
     "output_type": "execute_result"
    }
   ],
   "source": [
    "# revol_bal - Total credit revolving balance\n",
    "data.revol_bal.head()"
   ]
  },
  {
   "cell_type": "code",
   "execution_count": 73,
   "metadata": {
    "scrolled": true
   },
   "outputs": [
    {
     "data": {
      "text/plain": [
       "0    83.7\n",
       "1     9.4\n",
       "2    98.5\n",
       "3    21.0\n",
       "4    53.9\n",
       "Name: revol_util, dtype: float64"
      ]
     },
     "execution_count": 73,
     "metadata": {},
     "output_type": "execute_result"
    }
   ],
   "source": [
    "# revol_util - Revolving line utilization rate, or \n",
    "# the amount of credit the borrower is using relative to all available revolving credit.\n",
    "data.revol_util.head()"
   ]
  },
  {
   "cell_type": "code",
   "execution_count": 74,
   "metadata": {},
   "outputs": [],
   "source": [
    "data.revol_util.fillna(data.revol_util.mean(),inplace = True )"
   ]
  },
  {
   "cell_type": "code",
   "execution_count": 75,
   "metadata": {},
   "outputs": [
    {
     "data": {
      "text/plain": [
       "0"
      ]
     },
     "execution_count": 75,
     "metadata": {},
     "output_type": "execute_result"
    }
   ],
   "source": [
    "data.revol_util.isna().sum()"
   ]
  },
  {
   "cell_type": "code",
   "execution_count": 76,
   "metadata": {},
   "outputs": [
    {
     "data": {
      "text/plain": [
       "0     9.0\n",
       "1     4.0\n",
       "2    10.0\n",
       "3    37.0\n",
       "4    38.0\n",
       "Name: total_acc, dtype: float64"
      ]
     },
     "execution_count": 76,
     "metadata": {},
     "output_type": "execute_result"
    }
   ],
   "source": [
    "# total_acc - The total number of credit lines currently in the borrower's credit file\n",
    "data.total_acc.head()"
   ]
  },
  {
   "cell_type": "code",
   "execution_count": 77,
   "metadata": {},
   "outputs": [
    {
     "data": {
      "text/plain": [
       "0      0.0\n",
       "1      0.0\n",
       "2      0.0\n",
       "3      0.0\n",
       "4    766.9\n",
       "Name: out_prncp, dtype: float64"
      ]
     },
     "execution_count": 77,
     "metadata": {},
     "output_type": "execute_result"
    }
   ],
   "source": [
    "# out_prncp - Remaining outstanding principal for total amount funded\n",
    "data.out_prncp.head()"
   ]
  },
  {
   "cell_type": "code",
   "execution_count": 78,
   "metadata": {},
   "outputs": [
    {
     "data": {
      "text/plain": [
       "0      0.0\n",
       "1      0.0\n",
       "2      0.0\n",
       "3      0.0\n",
       "4    766.9\n",
       "Name: out_prncp_inv, dtype: float64"
      ]
     },
     "execution_count": 78,
     "metadata": {},
     "output_type": "execute_result"
    }
   ],
   "source": [
    "# out_prncp_inv - Remaining outstanding principal for portion of total amount funded by investors\n",
    "data.out_prncp_inv.head()"
   ]
  },
  {
   "cell_type": "code",
   "execution_count": 79,
   "metadata": {},
   "outputs": [
    {
     "data": {
      "text/plain": [
       "0     5861.071414\n",
       "1     1008.710000\n",
       "2     3003.653644\n",
       "3    12226.302212\n",
       "4     3242.170000\n",
       "Name: total_pymnt, dtype: float64"
      ]
     },
     "execution_count": 79,
     "metadata": {},
     "output_type": "execute_result"
    }
   ],
   "source": [
    "# total_pymnt - Payments received to date for total amount funded\n",
    "data.total_pymnt.head()"
   ]
  },
  {
   "cell_type": "code",
   "execution_count": 80,
   "metadata": {
    "scrolled": true
   },
   "outputs": [
    {
     "data": {
      "text/plain": [
       "0     5831.78\n",
       "1     1008.71\n",
       "2     3003.65\n",
       "3    12226.30\n",
       "4     3242.17\n",
       "Name: total_pymnt_inv, dtype: float64"
      ]
     },
     "execution_count": 80,
     "metadata": {},
     "output_type": "execute_result"
    }
   ],
   "source": [
    "# total_pymnt_inv - Payments received to date for portion of total amount funded by investors\n",
    "data.total_pymnt_inv.head()"
   ]
  },
  {
   "cell_type": "code",
   "execution_count": 81,
   "metadata": {},
   "outputs": [
    {
     "data": {
      "text/plain": [
       "0     5000.00\n",
       "1      456.46\n",
       "2     2400.00\n",
       "3    10000.00\n",
       "4     2233.10\n",
       "Name: total_rec_prncp, dtype: float64"
      ]
     },
     "execution_count": 81,
     "metadata": {},
     "output_type": "execute_result"
    }
   ],
   "source": [
    "# total_rec_prncp - Principal received to date\n",
    "data.total_rec_prncp.head()"
   ]
  },
  {
   "cell_type": "code",
   "execution_count": 82,
   "metadata": {},
   "outputs": [
    {
     "data": {
      "text/plain": [
       "0     861.07\n",
       "1     435.17\n",
       "2     603.65\n",
       "3    2209.33\n",
       "4    1009.07\n",
       "Name: total_rec_int, dtype: float64"
      ]
     },
     "execution_count": 82,
     "metadata": {},
     "output_type": "execute_result"
    }
   ],
   "source": [
    "# total_rec_int - Interest received to date\n",
    "data.total_rec_int.head()"
   ]
  },
  {
   "cell_type": "code",
   "execution_count": 83,
   "metadata": {},
   "outputs": [
    {
     "data": {
      "text/plain": [
       "0    0.00\n",
       "1    1.11\n",
       "2    0.00\n",
       "3    0.00\n",
       "4    0.00\n",
       "Name: collection_recovery_fee, dtype: float64"
      ]
     },
     "execution_count": 83,
     "metadata": {},
     "output_type": "execute_result"
    }
   ],
   "source": [
    "# collection_recovery_fee - post charge off collection fee\n",
    "data.collection_recovery_fee.head()"
   ]
  },
  {
   "cell_type": "code",
   "execution_count": 84,
   "metadata": {},
   "outputs": [
    {
     "data": {
      "text/plain": [
       "0      0.00\n",
       "1    117.08\n",
       "2      0.00\n",
       "3      0.00\n",
       "4      0.00\n",
       "Name: recoveries, dtype: float64"
      ]
     },
     "execution_count": 84,
     "metadata": {},
     "output_type": "execute_result"
    }
   ],
   "source": [
    "# recoveries - post charge off gross recovery\n",
    "data.recoveries.head()"
   ]
  },
  {
   "cell_type": "code",
   "execution_count": 85,
   "metadata": {
    "scrolled": true
   },
   "outputs": [
    {
     "data": {
      "text/plain": [
       "0    Jan-2015\n",
       "1    Apr-2013\n",
       "2    Jun-2014\n",
       "3    Jan-2015\n",
       "4    Jan-2016\n",
       "Name: last_pymnt_d, dtype: object"
      ]
     },
     "execution_count": 85,
     "metadata": {},
     "output_type": "execute_result"
    }
   ],
   "source": [
    "# last_pymnt_d - Last month payment was received\n",
    "data.last_pymnt_d.head()"
   ]
  },
  {
   "cell_type": "code",
   "execution_count": 86,
   "metadata": {},
   "outputs": [],
   "source": [
    "data.drop('last_pymnt_d', inplace = True, axis = 1)"
   ]
  },
  {
   "cell_type": "code",
   "execution_count": 87,
   "metadata": {},
   "outputs": [
    {
     "data": {
      "text/plain": [
       "0    171.62\n",
       "1    119.66\n",
       "2    649.91\n",
       "3    357.48\n",
       "4     67.79\n",
       "Name: last_pymnt_amnt, dtype: float64"
      ]
     },
     "execution_count": 87,
     "metadata": {},
     "output_type": "execute_result"
    }
   ],
   "source": [
    "# last_pymnt_amnt - Last total payment amount received\n",
    "data.last_pymnt_amnt.head()"
   ]
  },
  {
   "cell_type": "code",
   "execution_count": 88,
   "metadata": {
    "scrolled": true
   },
   "outputs": [
    {
     "data": {
      "text/plain": [
       "0    0.0\n",
       "1    0.0\n",
       "2    0.0\n",
       "3    0.0\n",
       "4    0.0\n",
       "Name: collections_12_mths_ex_med, dtype: float64"
      ]
     },
     "execution_count": 88,
     "metadata": {},
     "output_type": "execute_result"
    }
   ],
   "source": [
    "# collections_12_mths_ex_med - Number of collections in 12 months excluding medical collections\n",
    "data.collections_12_mths_ex_med.head()"
   ]
  },
  {
   "cell_type": "code",
   "execution_count": 89,
   "metadata": {},
   "outputs": [],
   "source": [
    "data.collections_12_mths_ex_med.fillna(round(data.collections_12_mths_ex_med.mean(),2), inplace = True)"
   ]
  },
  {
   "cell_type": "code",
   "execution_count": 90,
   "metadata": {},
   "outputs": [
    {
     "data": {
      "text/plain": [
       "0    0.0\n",
       "1    0.0\n",
       "2    0.0\n",
       "3    0.0\n",
       "4    0.0\n",
       "Name: acc_now_delinq, dtype: float64"
      ]
     },
     "execution_count": 90,
     "metadata": {},
     "output_type": "execute_result"
    }
   ],
   "source": [
    "# acc_now_delinq - The number of accounts on which the borrower is now delinquent.\n",
    "data.acc_now_delinq.head()"
   ]
  },
  {
   "cell_type": "code",
   "execution_count": 91,
   "metadata": {
    "scrolled": true
   },
   "outputs": [
    {
     "data": {
      "text/plain": [
       "0   NaN\n",
       "1   NaN\n",
       "2   NaN\n",
       "3   NaN\n",
       "4   NaN\n",
       "Name: tot_coll_amt, dtype: float64"
      ]
     },
     "execution_count": 91,
     "metadata": {},
     "output_type": "execute_result"
    }
   ],
   "source": [
    "# tot_coll_amt - Total collection amounts ever owed\n",
    "data.tot_coll_amt.head()"
   ]
  },
  {
   "cell_type": "code",
   "execution_count": 92,
   "metadata": {},
   "outputs": [],
   "source": [
    "data.tot_coll_amt.fillna(round(data.tot_coll_amt.mean(),2), inplace = True)"
   ]
  },
  {
   "cell_type": "code",
   "execution_count": 93,
   "metadata": {
    "scrolled": true
   },
   "outputs": [
    {
     "data": {
      "text/plain": [
       "0   NaN\n",
       "1   NaN\n",
       "2   NaN\n",
       "3   NaN\n",
       "4   NaN\n",
       "Name: tot_cur_bal, dtype: float64"
      ]
     },
     "execution_count": 93,
     "metadata": {},
     "output_type": "execute_result"
    }
   ],
   "source": [
    "# tot_cur_bal - Total collection amounts ever owed\n",
    "data.tot_cur_bal.head()"
   ]
  },
  {
   "cell_type": "code",
   "execution_count": 94,
   "metadata": {},
   "outputs": [],
   "source": [
    "data.tot_cur_bal.fillna(round(data.tot_cur_bal.mean(),2), inplace = True)"
   ]
  },
  {
   "cell_type": "code",
   "execution_count": 95,
   "metadata": {},
   "outputs": [
    {
     "data": {
      "text/plain": [
       "0"
      ]
     },
     "execution_count": 95,
     "metadata": {},
     "output_type": "execute_result"
    }
   ],
   "source": [
    "data.tot_cur_bal.isna().sum()"
   ]
  },
  {
   "cell_type": "code",
   "execution_count": 96,
   "metadata": {
    "scrolled": true
   },
   "outputs": [
    {
     "data": {
      "text/plain": [
       "855964    17100.0\n",
       "855965    10200.0\n",
       "855966    18000.0\n",
       "855967    27000.0\n",
       "855968    41700.0\n",
       "Name: total_rev_hi_lim, dtype: float64"
      ]
     },
     "execution_count": 96,
     "metadata": {},
     "output_type": "execute_result"
    }
   ],
   "source": [
    "# total_rev_hi_lim - Total revolving high credit/credit limit\n",
    "data.total_rev_hi_lim.tail()"
   ]
  },
  {
   "cell_type": "code",
   "execution_count": 97,
   "metadata": {},
   "outputs": [],
   "source": [
    "data.total_rev_hi_lim.fillna(round(data.total_rev_hi_lim.mean(),2), inplace = True)"
   ]
  },
  {
   "cell_type": "code",
   "execution_count": 98,
   "metadata": {
    "scrolled": true
   },
   "outputs": [
    {
     "data": {
      "text/plain": [
       "0     NaN\n",
       "1     NaN\n",
       "2     NaN\n",
       "3    35.0\n",
       "4    38.0\n",
       "Name: mths_since_last_delinq, dtype: float64"
      ]
     },
     "execution_count": 98,
     "metadata": {},
     "output_type": "execute_result"
    }
   ],
   "source": [
    "# mths_since_last_delinq - The number of months since the borrower's last delinquency.\n",
    "data.mths_since_last_delinq.head()"
   ]
  },
  {
   "cell_type": "code",
   "execution_count": 99,
   "metadata": {},
   "outputs": [],
   "source": [
    "data.mths_since_last_delinq.fillna(0,inplace= True)"
   ]
  },
  {
   "cell_type": "markdown",
   "metadata": {},
   "source": [
    "### List of Columns having NA values"
   ]
  },
  {
   "cell_type": "code",
   "execution_count": 100,
   "metadata": {
    "scrolled": true
   },
   "outputs": [
    {
     "name": "stdout",
     "output_type": "stream",
     "text": [
      "No column have NA values\n"
     ]
    }
   ],
   "source": [
    "get_na(data)"
   ]
  },
  {
   "cell_type": "code",
   "execution_count": 102,
   "metadata": {},
   "outputs": [],
   "source": [
    "# Sorting Data according to issue_d column\n",
    "data.issue_d = pd.to_datetime(data.issue_d)\n",
    "data = data.set_index(data.issue_d)\n",
    "data = data.sort_index()\n",
    "\n",
    "# Dropping issue_d as it is not required now\n",
    "data.drop('issue_d', axis = 1, inplace = True)"
   ]
  },
  {
   "cell_type": "code",
   "execution_count": 103,
   "metadata": {
    "scrolled": true
   },
   "outputs": [
    {
     "data": {
      "text/html": [
       "<div>\n",
       "<style scoped>\n",
       "    .dataframe tbody tr th:only-of-type {\n",
       "        vertical-align: middle;\n",
       "    }\n",
       "\n",
       "    .dataframe tbody tr th {\n",
       "        vertical-align: top;\n",
       "    }\n",
       "\n",
       "    .dataframe thead th {\n",
       "        text-align: right;\n",
       "    }\n",
       "</style>\n",
       "<table border=\"1\" class=\"dataframe\">\n",
       "  <thead>\n",
       "    <tr style=\"text-align: right;\">\n",
       "      <th></th>\n",
       "      <th>loan_amnt</th>\n",
       "      <th>funded_amnt</th>\n",
       "      <th>funded_amnt_inv</th>\n",
       "      <th>term</th>\n",
       "      <th>int_rate</th>\n",
       "      <th>installment</th>\n",
       "      <th>sub_grade</th>\n",
       "      <th>emp_length</th>\n",
       "      <th>home_ownership</th>\n",
       "      <th>annual_inc</th>\n",
       "      <th>...</th>\n",
       "      <th>recoveries</th>\n",
       "      <th>collection_recovery_fee</th>\n",
       "      <th>last_pymnt_amnt</th>\n",
       "      <th>collections_12_mths_ex_med</th>\n",
       "      <th>application_type</th>\n",
       "      <th>acc_now_delinq</th>\n",
       "      <th>tot_coll_amt</th>\n",
       "      <th>tot_cur_bal</th>\n",
       "      <th>total_rev_hi_lim</th>\n",
       "      <th>default_ind</th>\n",
       "    </tr>\n",
       "    <tr>\n",
       "      <th>issue_d</th>\n",
       "      <th></th>\n",
       "      <th></th>\n",
       "      <th></th>\n",
       "      <th></th>\n",
       "      <th></th>\n",
       "      <th></th>\n",
       "      <th></th>\n",
       "      <th></th>\n",
       "      <th></th>\n",
       "      <th></th>\n",
       "      <th></th>\n",
       "      <th></th>\n",
       "      <th></th>\n",
       "      <th></th>\n",
       "      <th></th>\n",
       "      <th></th>\n",
       "      <th></th>\n",
       "      <th></th>\n",
       "      <th></th>\n",
       "      <th></th>\n",
       "      <th></th>\n",
       "    </tr>\n",
       "  </thead>\n",
       "  <tbody>\n",
       "    <tr>\n",
       "      <th>2007-06-01</th>\n",
       "      <td>7500.0</td>\n",
       "      <td>7500.0</td>\n",
       "      <td>800.0</td>\n",
       "      <td>36 months</td>\n",
       "      <td>13.75</td>\n",
       "      <td>255.43</td>\n",
       "      <td>E2</td>\n",
       "      <td>1</td>\n",
       "      <td>Own</td>\n",
       "      <td>22000.0</td>\n",
       "      <td>...</td>\n",
       "      <td>0.0</td>\n",
       "      <td>0.0</td>\n",
       "      <td>256.59</td>\n",
       "      <td>0.01</td>\n",
       "      <td>INDIVIDUAL</td>\n",
       "      <td>0.0</td>\n",
       "      <td>225.41</td>\n",
       "      <td>139766.25</td>\n",
       "      <td>32163.57</td>\n",
       "      <td>0</td>\n",
       "    </tr>\n",
       "    <tr>\n",
       "      <th>2007-07-01</th>\n",
       "      <td>5000.0</td>\n",
       "      <td>5000.0</td>\n",
       "      <td>4150.0</td>\n",
       "      <td>36 months</td>\n",
       "      <td>7.43</td>\n",
       "      <td>155.38</td>\n",
       "      <td>A2</td>\n",
       "      <td>8</td>\n",
       "      <td>Mortgage</td>\n",
       "      <td>150000.0</td>\n",
       "      <td>...</td>\n",
       "      <td>0.0</td>\n",
       "      <td>0.0</td>\n",
       "      <td>4397.47</td>\n",
       "      <td>0.01</td>\n",
       "      <td>INDIVIDUAL</td>\n",
       "      <td>0.0</td>\n",
       "      <td>225.41</td>\n",
       "      <td>139766.25</td>\n",
       "      <td>32163.57</td>\n",
       "      <td>0</td>\n",
       "    </tr>\n",
       "    <tr>\n",
       "      <th>2007-07-01</th>\n",
       "      <td>5750.0</td>\n",
       "      <td>5750.0</td>\n",
       "      <td>3675.0</td>\n",
       "      <td>36 months</td>\n",
       "      <td>7.43</td>\n",
       "      <td>178.69</td>\n",
       "      <td>A2</td>\n",
       "      <td>10</td>\n",
       "      <td>Mortgage</td>\n",
       "      <td>125000.0</td>\n",
       "      <td>...</td>\n",
       "      <td>0.0</td>\n",
       "      <td>0.0</td>\n",
       "      <td>4.74</td>\n",
       "      <td>0.01</td>\n",
       "      <td>INDIVIDUAL</td>\n",
       "      <td>0.0</td>\n",
       "      <td>225.41</td>\n",
       "      <td>139766.25</td>\n",
       "      <td>32163.57</td>\n",
       "      <td>0</td>\n",
       "    </tr>\n",
       "    <tr>\n",
       "      <th>2007-07-01</th>\n",
       "      <td>5000.0</td>\n",
       "      <td>5000.0</td>\n",
       "      <td>3975.0</td>\n",
       "      <td>36 months</td>\n",
       "      <td>7.43</td>\n",
       "      <td>155.38</td>\n",
       "      <td>A2</td>\n",
       "      <td>6</td>\n",
       "      <td>Rent</td>\n",
       "      <td>40000.0</td>\n",
       "      <td>...</td>\n",
       "      <td>0.0</td>\n",
       "      <td>0.0</td>\n",
       "      <td>158.65</td>\n",
       "      <td>0.01</td>\n",
       "      <td>INDIVIDUAL</td>\n",
       "      <td>0.0</td>\n",
       "      <td>225.41</td>\n",
       "      <td>139766.25</td>\n",
       "      <td>32163.57</td>\n",
       "      <td>0</td>\n",
       "    </tr>\n",
       "    <tr>\n",
       "      <th>2007-07-01</th>\n",
       "      <td>1200.0</td>\n",
       "      <td>1200.0</td>\n",
       "      <td>0.0</td>\n",
       "      <td>36 months</td>\n",
       "      <td>11.54</td>\n",
       "      <td>39.60</td>\n",
       "      <td>C5</td>\n",
       "      <td>1</td>\n",
       "      <td>Rent</td>\n",
       "      <td>20000.0</td>\n",
       "      <td>...</td>\n",
       "      <td>0.0</td>\n",
       "      <td>0.0</td>\n",
       "      <td>39.45</td>\n",
       "      <td>0.01</td>\n",
       "      <td>INDIVIDUAL</td>\n",
       "      <td>0.0</td>\n",
       "      <td>225.41</td>\n",
       "      <td>139766.25</td>\n",
       "      <td>32163.57</td>\n",
       "      <td>0</td>\n",
       "    </tr>\n",
       "  </tbody>\n",
       "</table>\n",
       "<p>5 rows × 41 columns</p>\n",
       "</div>"
      ],
      "text/plain": [
       "            loan_amnt  funded_amnt  funded_amnt_inv        term  int_rate  \\\n",
       "issue_d                                                                     \n",
       "2007-06-01     7500.0       7500.0            800.0   36 months     13.75   \n",
       "2007-07-01     5000.0       5000.0           4150.0   36 months      7.43   \n",
       "2007-07-01     5750.0       5750.0           3675.0   36 months      7.43   \n",
       "2007-07-01     5000.0       5000.0           3975.0   36 months      7.43   \n",
       "2007-07-01     1200.0       1200.0              0.0   36 months     11.54   \n",
       "\n",
       "            installment sub_grade  emp_length home_ownership  annual_inc  ...  \\\n",
       "issue_d                                                                   ...   \n",
       "2007-06-01       255.43        E2           1            Own     22000.0  ...   \n",
       "2007-07-01       155.38        A2           8       Mortgage    150000.0  ...   \n",
       "2007-07-01       178.69        A2          10       Mortgage    125000.0  ...   \n",
       "2007-07-01       155.38        A2           6           Rent     40000.0  ...   \n",
       "2007-07-01        39.60        C5           1           Rent     20000.0  ...   \n",
       "\n",
       "           recoveries collection_recovery_fee last_pymnt_amnt  \\\n",
       "issue_d                                                         \n",
       "2007-06-01        0.0                     0.0          256.59   \n",
       "2007-07-01        0.0                     0.0         4397.47   \n",
       "2007-07-01        0.0                     0.0            4.74   \n",
       "2007-07-01        0.0                     0.0          158.65   \n",
       "2007-07-01        0.0                     0.0           39.45   \n",
       "\n",
       "           collections_12_mths_ex_med  application_type  acc_now_delinq  \\\n",
       "issue_d                                                                   \n",
       "2007-06-01                       0.01        INDIVIDUAL             0.0   \n",
       "2007-07-01                       0.01        INDIVIDUAL             0.0   \n",
       "2007-07-01                       0.01        INDIVIDUAL             0.0   \n",
       "2007-07-01                       0.01        INDIVIDUAL             0.0   \n",
       "2007-07-01                       0.01        INDIVIDUAL             0.0   \n",
       "\n",
       "            tot_coll_amt  tot_cur_bal  total_rev_hi_lim default_ind  \n",
       "issue_d                                                              \n",
       "2007-06-01        225.41    139766.25          32163.57           0  \n",
       "2007-07-01        225.41    139766.25          32163.57           0  \n",
       "2007-07-01        225.41    139766.25          32163.57           0  \n",
       "2007-07-01        225.41    139766.25          32163.57           0  \n",
       "2007-07-01        225.41    139766.25          32163.57           0  \n",
       "\n",
       "[5 rows x 41 columns]"
      ]
     },
     "execution_count": 103,
     "metadata": {},
     "output_type": "execute_result"
    }
   ],
   "source": [
    "data.head()"
   ]
  },
  {
   "cell_type": "code",
   "execution_count": 106,
   "metadata": {},
   "outputs": [
    {
     "data": {
      "text/plain": [
       "Index(['loan_amnt', 'funded_amnt', 'funded_amnt_inv', 'term', 'int_rate',\n",
       "       'installment', 'sub_grade', 'emp_length', 'home_ownership',\n",
       "       'annual_inc', 'verification_status', 'purpose', 'addr_state', 'dti',\n",
       "       'delinq_2yrs', 'inq_last_6mths', 'mths_since_last_delinq', 'open_acc',\n",
       "       'pub_rec', 'revol_bal', 'revol_util', 'total_acc',\n",
       "       'initial_list_status', 'out_prncp', 'out_prncp_inv', 'total_pymnt',\n",
       "       'total_pymnt_inv', 'total_rec_prncp', 'total_rec_int',\n",
       "       'total_rec_late_fee', 'recoveries', 'collection_recovery_fee',\n",
       "       'last_pymnt_amnt', 'collections_12_mths_ex_med', 'application_type',\n",
       "       'acc_now_delinq', 'tot_coll_amt', 'tot_cur_bal', 'total_rev_hi_lim',\n",
       "       'default_ind'],\n",
       "      dtype='object')"
      ]
     },
     "execution_count": 106,
     "metadata": {},
     "output_type": "execute_result"
    }
   ],
   "source": [
    "data.columns"
   ]
  },
  {
   "cell_type": "code",
   "execution_count": 107,
   "metadata": {},
   "outputs": [],
   "source": [
    "# Devide Categorical And Numerical Data\n",
    "cat_data = data.select_dtypes('O')\n",
    "num_data = data.drop(cat_data, axis=1)"
   ]
  },
  {
   "cell_type": "code",
   "execution_count": 108,
   "metadata": {},
   "outputs": [
    {
     "data": {
      "text/html": [
       "<div>\n",
       "<style scoped>\n",
       "    .dataframe tbody tr th:only-of-type {\n",
       "        vertical-align: middle;\n",
       "    }\n",
       "\n",
       "    .dataframe tbody tr th {\n",
       "        vertical-align: top;\n",
       "    }\n",
       "\n",
       "    .dataframe thead th {\n",
       "        text-align: right;\n",
       "    }\n",
       "</style>\n",
       "<table border=\"1\" class=\"dataframe\">\n",
       "  <thead>\n",
       "    <tr style=\"text-align: right;\">\n",
       "      <th></th>\n",
       "      <th>term</th>\n",
       "      <th>sub_grade</th>\n",
       "      <th>home_ownership</th>\n",
       "      <th>verification_status</th>\n",
       "      <th>purpose</th>\n",
       "      <th>addr_state</th>\n",
       "      <th>pub_rec</th>\n",
       "      <th>initial_list_status</th>\n",
       "      <th>application_type</th>\n",
       "    </tr>\n",
       "    <tr>\n",
       "      <th>issue_d</th>\n",
       "      <th></th>\n",
       "      <th></th>\n",
       "      <th></th>\n",
       "      <th></th>\n",
       "      <th></th>\n",
       "      <th></th>\n",
       "      <th></th>\n",
       "      <th></th>\n",
       "      <th></th>\n",
       "    </tr>\n",
       "  </thead>\n",
       "  <tbody>\n",
       "    <tr>\n",
       "      <th>2007-06-01</th>\n",
       "      <td>36 months</td>\n",
       "      <td>E2</td>\n",
       "      <td>Own</td>\n",
       "      <td>Not Verified</td>\n",
       "      <td>debt_consolidation</td>\n",
       "      <td>MA</td>\n",
       "      <td>Good</td>\n",
       "      <td>f</td>\n",
       "      <td>INDIVIDUAL</td>\n",
       "    </tr>\n",
       "    <tr>\n",
       "      <th>2007-07-01</th>\n",
       "      <td>36 months</td>\n",
       "      <td>A2</td>\n",
       "      <td>Mortgage</td>\n",
       "      <td>Not Verified</td>\n",
       "      <td>Other</td>\n",
       "      <td>GA</td>\n",
       "      <td>Good</td>\n",
       "      <td>f</td>\n",
       "      <td>INDIVIDUAL</td>\n",
       "    </tr>\n",
       "    <tr>\n",
       "      <th>2007-07-01</th>\n",
       "      <td>36 months</td>\n",
       "      <td>A2</td>\n",
       "      <td>Mortgage</td>\n",
       "      <td>Not Verified</td>\n",
       "      <td>debt_consolidation</td>\n",
       "      <td>MA</td>\n",
       "      <td>Good</td>\n",
       "      <td>f</td>\n",
       "      <td>INDIVIDUAL</td>\n",
       "    </tr>\n",
       "    <tr>\n",
       "      <th>2007-07-01</th>\n",
       "      <td>36 months</td>\n",
       "      <td>A2</td>\n",
       "      <td>Rent</td>\n",
       "      <td>Not Verified</td>\n",
       "      <td>Other</td>\n",
       "      <td>WI</td>\n",
       "      <td>Good</td>\n",
       "      <td>f</td>\n",
       "      <td>INDIVIDUAL</td>\n",
       "    </tr>\n",
       "    <tr>\n",
       "      <th>2007-07-01</th>\n",
       "      <td>36 months</td>\n",
       "      <td>C5</td>\n",
       "      <td>Rent</td>\n",
       "      <td>Not Verified</td>\n",
       "      <td>credit_card</td>\n",
       "      <td>ME</td>\n",
       "      <td>Good</td>\n",
       "      <td>f</td>\n",
       "      <td>INDIVIDUAL</td>\n",
       "    </tr>\n",
       "  </tbody>\n",
       "</table>\n",
       "</div>"
      ],
      "text/plain": [
       "                  term sub_grade home_ownership verification_status  \\\n",
       "issue_d                                                               \n",
       "2007-06-01   36 months        E2            Own        Not Verified   \n",
       "2007-07-01   36 months        A2       Mortgage        Not Verified   \n",
       "2007-07-01   36 months        A2       Mortgage        Not Verified   \n",
       "2007-07-01   36 months        A2           Rent        Not Verified   \n",
       "2007-07-01   36 months        C5           Rent        Not Verified   \n",
       "\n",
       "                       purpose addr_state pub_rec initial_list_status  \\\n",
       "issue_d                                                                 \n",
       "2007-06-01  debt_consolidation         MA    Good                   f   \n",
       "2007-07-01               Other         GA    Good                   f   \n",
       "2007-07-01  debt_consolidation         MA    Good                   f   \n",
       "2007-07-01               Other         WI    Good                   f   \n",
       "2007-07-01         credit_card         ME    Good                   f   \n",
       "\n",
       "           application_type  \n",
       "issue_d                      \n",
       "2007-06-01       INDIVIDUAL  \n",
       "2007-07-01       INDIVIDUAL  \n",
       "2007-07-01       INDIVIDUAL  \n",
       "2007-07-01       INDIVIDUAL  \n",
       "2007-07-01       INDIVIDUAL  "
      ]
     },
     "execution_count": 108,
     "metadata": {},
     "output_type": "execute_result"
    }
   ],
   "source": [
    "cat_data.head()"
   ]
  },
  {
   "cell_type": "code",
   "execution_count": 109,
   "metadata": {},
   "outputs": [
    {
     "data": {
      "text/html": [
       "<div>\n",
       "<style scoped>\n",
       "    .dataframe tbody tr th:only-of-type {\n",
       "        vertical-align: middle;\n",
       "    }\n",
       "\n",
       "    .dataframe tbody tr th {\n",
       "        vertical-align: top;\n",
       "    }\n",
       "\n",
       "    .dataframe thead th {\n",
       "        text-align: right;\n",
       "    }\n",
       "</style>\n",
       "<table border=\"1\" class=\"dataframe\">\n",
       "  <thead>\n",
       "    <tr style=\"text-align: right;\">\n",
       "      <th></th>\n",
       "      <th>loan_amnt</th>\n",
       "      <th>funded_amnt</th>\n",
       "      <th>funded_amnt_inv</th>\n",
       "      <th>int_rate</th>\n",
       "      <th>installment</th>\n",
       "      <th>emp_length</th>\n",
       "      <th>annual_inc</th>\n",
       "      <th>dti</th>\n",
       "      <th>delinq_2yrs</th>\n",
       "      <th>inq_last_6mths</th>\n",
       "      <th>...</th>\n",
       "      <th>total_rec_late_fee</th>\n",
       "      <th>recoveries</th>\n",
       "      <th>collection_recovery_fee</th>\n",
       "      <th>last_pymnt_amnt</th>\n",
       "      <th>collections_12_mths_ex_med</th>\n",
       "      <th>acc_now_delinq</th>\n",
       "      <th>tot_coll_amt</th>\n",
       "      <th>tot_cur_bal</th>\n",
       "      <th>total_rev_hi_lim</th>\n",
       "      <th>default_ind</th>\n",
       "    </tr>\n",
       "    <tr>\n",
       "      <th>issue_d</th>\n",
       "      <th></th>\n",
       "      <th></th>\n",
       "      <th></th>\n",
       "      <th></th>\n",
       "      <th></th>\n",
       "      <th></th>\n",
       "      <th></th>\n",
       "      <th></th>\n",
       "      <th></th>\n",
       "      <th></th>\n",
       "      <th></th>\n",
       "      <th></th>\n",
       "      <th></th>\n",
       "      <th></th>\n",
       "      <th></th>\n",
       "      <th></th>\n",
       "      <th></th>\n",
       "      <th></th>\n",
       "      <th></th>\n",
       "      <th></th>\n",
       "      <th></th>\n",
       "    </tr>\n",
       "  </thead>\n",
       "  <tbody>\n",
       "    <tr>\n",
       "      <th>2007-06-01</th>\n",
       "      <td>7500.0</td>\n",
       "      <td>7500.0</td>\n",
       "      <td>800.0</td>\n",
       "      <td>13.75</td>\n",
       "      <td>255.43</td>\n",
       "      <td>1</td>\n",
       "      <td>22000.0</td>\n",
       "      <td>14.29</td>\n",
       "      <td>1</td>\n",
       "      <td>0</td>\n",
       "      <td>...</td>\n",
       "      <td>0.0</td>\n",
       "      <td>0.0</td>\n",
       "      <td>0.0</td>\n",
       "      <td>256.59</td>\n",
       "      <td>0.01</td>\n",
       "      <td>0.0</td>\n",
       "      <td>225.41</td>\n",
       "      <td>139766.25</td>\n",
       "      <td>32163.57</td>\n",
       "      <td>0</td>\n",
       "    </tr>\n",
       "    <tr>\n",
       "      <th>2007-07-01</th>\n",
       "      <td>5000.0</td>\n",
       "      <td>5000.0</td>\n",
       "      <td>4150.0</td>\n",
       "      <td>7.43</td>\n",
       "      <td>155.38</td>\n",
       "      <td>8</td>\n",
       "      <td>150000.0</td>\n",
       "      <td>0.00</td>\n",
       "      <td>0</td>\n",
       "      <td>0</td>\n",
       "      <td>...</td>\n",
       "      <td>0.0</td>\n",
       "      <td>0.0</td>\n",
       "      <td>0.0</td>\n",
       "      <td>4397.47</td>\n",
       "      <td>0.01</td>\n",
       "      <td>0.0</td>\n",
       "      <td>225.41</td>\n",
       "      <td>139766.25</td>\n",
       "      <td>32163.57</td>\n",
       "      <td>0</td>\n",
       "    </tr>\n",
       "    <tr>\n",
       "      <th>2007-07-01</th>\n",
       "      <td>5750.0</td>\n",
       "      <td>5750.0</td>\n",
       "      <td>3675.0</td>\n",
       "      <td>7.43</td>\n",
       "      <td>178.69</td>\n",
       "      <td>10</td>\n",
       "      <td>125000.0</td>\n",
       "      <td>0.27</td>\n",
       "      <td>0</td>\n",
       "      <td>0</td>\n",
       "      <td>...</td>\n",
       "      <td>0.0</td>\n",
       "      <td>0.0</td>\n",
       "      <td>0.0</td>\n",
       "      <td>4.74</td>\n",
       "      <td>0.01</td>\n",
       "      <td>0.0</td>\n",
       "      <td>225.41</td>\n",
       "      <td>139766.25</td>\n",
       "      <td>32163.57</td>\n",
       "      <td>0</td>\n",
       "    </tr>\n",
       "    <tr>\n",
       "      <th>2007-07-01</th>\n",
       "      <td>5000.0</td>\n",
       "      <td>5000.0</td>\n",
       "      <td>3975.0</td>\n",
       "      <td>7.43</td>\n",
       "      <td>155.38</td>\n",
       "      <td>6</td>\n",
       "      <td>40000.0</td>\n",
       "      <td>2.55</td>\n",
       "      <td>0</td>\n",
       "      <td>2</td>\n",
       "      <td>...</td>\n",
       "      <td>0.0</td>\n",
       "      <td>0.0</td>\n",
       "      <td>0.0</td>\n",
       "      <td>158.65</td>\n",
       "      <td>0.01</td>\n",
       "      <td>0.0</td>\n",
       "      <td>225.41</td>\n",
       "      <td>139766.25</td>\n",
       "      <td>32163.57</td>\n",
       "      <td>0</td>\n",
       "    </tr>\n",
       "    <tr>\n",
       "      <th>2007-07-01</th>\n",
       "      <td>1200.0</td>\n",
       "      <td>1200.0</td>\n",
       "      <td>0.0</td>\n",
       "      <td>11.54</td>\n",
       "      <td>39.60</td>\n",
       "      <td>1</td>\n",
       "      <td>20000.0</td>\n",
       "      <td>2.04</td>\n",
       "      <td>0</td>\n",
       "      <td>2</td>\n",
       "      <td>...</td>\n",
       "      <td>0.0</td>\n",
       "      <td>0.0</td>\n",
       "      <td>0.0</td>\n",
       "      <td>39.45</td>\n",
       "      <td>0.01</td>\n",
       "      <td>0.0</td>\n",
       "      <td>225.41</td>\n",
       "      <td>139766.25</td>\n",
       "      <td>32163.57</td>\n",
       "      <td>0</td>\n",
       "    </tr>\n",
       "  </tbody>\n",
       "</table>\n",
       "<p>5 rows × 31 columns</p>\n",
       "</div>"
      ],
      "text/plain": [
       "            loan_amnt  funded_amnt  funded_amnt_inv  int_rate  installment  \\\n",
       "issue_d                                                                      \n",
       "2007-06-01     7500.0       7500.0            800.0     13.75       255.43   \n",
       "2007-07-01     5000.0       5000.0           4150.0      7.43       155.38   \n",
       "2007-07-01     5750.0       5750.0           3675.0      7.43       178.69   \n",
       "2007-07-01     5000.0       5000.0           3975.0      7.43       155.38   \n",
       "2007-07-01     1200.0       1200.0              0.0     11.54        39.60   \n",
       "\n",
       "            emp_length  annual_inc    dti  delinq_2yrs  inq_last_6mths  ...  \\\n",
       "issue_d                                                                 ...   \n",
       "2007-06-01           1     22000.0  14.29            1               0  ...   \n",
       "2007-07-01           8    150000.0   0.00            0               0  ...   \n",
       "2007-07-01          10    125000.0   0.27            0               0  ...   \n",
       "2007-07-01           6     40000.0   2.55            0               2  ...   \n",
       "2007-07-01           1     20000.0   2.04            0               2  ...   \n",
       "\n",
       "            total_rec_late_fee  recoveries  collection_recovery_fee  \\\n",
       "issue_d                                                               \n",
       "2007-06-01                 0.0         0.0                      0.0   \n",
       "2007-07-01                 0.0         0.0                      0.0   \n",
       "2007-07-01                 0.0         0.0                      0.0   \n",
       "2007-07-01                 0.0         0.0                      0.0   \n",
       "2007-07-01                 0.0         0.0                      0.0   \n",
       "\n",
       "            last_pymnt_amnt  collections_12_mths_ex_med  acc_now_delinq  \\\n",
       "issue_d                                                                   \n",
       "2007-06-01           256.59                        0.01             0.0   \n",
       "2007-07-01          4397.47                        0.01             0.0   \n",
       "2007-07-01             4.74                        0.01             0.0   \n",
       "2007-07-01           158.65                        0.01             0.0   \n",
       "2007-07-01            39.45                        0.01             0.0   \n",
       "\n",
       "            tot_coll_amt  tot_cur_bal  total_rev_hi_lim  default_ind  \n",
       "issue_d                                                               \n",
       "2007-06-01        225.41    139766.25          32163.57            0  \n",
       "2007-07-01        225.41    139766.25          32163.57            0  \n",
       "2007-07-01        225.41    139766.25          32163.57            0  \n",
       "2007-07-01        225.41    139766.25          32163.57            0  \n",
       "2007-07-01        225.41    139766.25          32163.57            0  \n",
       "\n",
       "[5 rows x 31 columns]"
      ]
     },
     "execution_count": 109,
     "metadata": {},
     "output_type": "execute_result"
    }
   ],
   "source": [
    "num_data.head()"
   ]
  },
  {
   "cell_type": "markdown",
   "metadata": {},
   "source": [
    "## EDA - Exploratory Data Analysis"
   ]
  },
  {
   "cell_type": "code",
   "execution_count": 115,
   "metadata": {},
   "outputs": [],
   "source": [
    "import matplotlib.pyplot as plt\n",
    "import seaborn as sns\n",
    "%matplotlib inline"
   ]
  },
  {
   "cell_type": "markdown",
   "metadata": {},
   "source": [
    "#### EDA for Categorical Variables"
   ]
  },
  {
   "cell_type": "code",
   "execution_count": 110,
   "metadata": {
    "scrolled": true
   },
   "outputs": [
    {
     "data": {
      "text/plain": [
       "Index(['term', 'sub_grade', 'home_ownership', 'verification_status', 'purpose',\n",
       "       'addr_state', 'pub_rec', 'initial_list_status', 'application_type'],\n",
       "      dtype='object')"
      ]
     },
     "execution_count": 110,
     "metadata": {},
     "output_type": "execute_result"
    }
   ],
   "source": [
    "cat_data.columns"
   ]
  },
  {
   "cell_type": "code",
   "execution_count": 120,
   "metadata": {
    "scrolled": false
   },
   "outputs": [
    {
     "data": {
      "text/plain": [
       "<matplotlib.axes._subplots.AxesSubplot at 0x576f0186a0>"
      ]
     },
     "execution_count": 120,
     "metadata": {},
     "output_type": "execute_result"
    },
    {
     "data": {
      "image/png": "[encoded data removed]",
      "text/plain": [
       "<Figure size 432x288 with 1 Axes>"
      ]
     },
     "metadata": {
      "needs_background": "light"
     },
     "output_type": "display_data"
    }
   ],
   "source": [
    "sns.countplot(data = cat_data, x = 'application_type')"
   ]
  },
  {
   "cell_type": "code",
   "execution_count": 128,
   "metadata": {},
   "outputs": [],
   "source": [
    "# application_type is not having sufficient Joint Label cases so We can Drop it\n",
    "data.drop('application_type', axis= 1, inplace = True)"
   ]
  },
  {
   "cell_type": "code",
   "execution_count": 121,
   "metadata": {},
   "outputs": [
    {
     "data": {
      "text/plain": [
       "<matplotlib.axes._subplots.AxesSubplot at 0x576f04f550>"
      ]
     },
     "execution_count": 121,
     "metadata": {},
     "output_type": "execute_result"
    },
    {
     "data": {
      "image/png": "[encoded data removed]",
      "text/plain": [
       "<Figure size 432x288 with 1 Axes>"
      ]
     },
     "metadata": {
      "needs_background": "light"
     },
     "output_type": "display_data"
    }
   ],
   "source": [
    "sns.countplot(data = cat_data, x = 'initial_list_status')"
   ]
  },
  {
   "cell_type": "code",
   "execution_count": 122,
   "metadata": {
    "scrolled": true
   },
   "outputs": [
    {
     "data": {
      "text/plain": [
       "<matplotlib.axes._subplots.AxesSubplot at 0x570c80da20>"
      ]
     },
     "execution_count": 122,
     "metadata": {},
     "output_type": "execute_result"
    },
    {
     "data": {
      "image/png": "[encoded data removed]",
      "text/plain": [
       "<Figure size 432x288 with 1 Axes>"
      ]
     },
     "metadata": {
      "needs_background": "light"
     },
     "output_type": "display_data"
    }
   ],
   "source": [
    "sns.countplot(data = cat_data, x = 'pub_rec')"
   ]
  },
  {
   "cell_type": "code",
   "execution_count": 129,
   "metadata": {},
   "outputs": [],
   "source": [
    "# pub_rec is not having sufficient Joint Label cases so We can Drop it\n",
    "data.drop('pub_rec', axis= 1, inplace = True)"
   ]
  },
  {
   "cell_type": "code",
   "execution_count": 123,
   "metadata": {},
   "outputs": [
    {
     "data": {
      "text/plain": [
       "<matplotlib.axes._subplots.AxesSubplot at 0x570c837c88>"
      ]
     },
     "execution_count": 123,
     "metadata": {},
     "output_type": "execute_result"
    },
    {
     "data": {
      "image/png": "[encoded data removed]",
      "text/plain": [
       "<Figure size 432x288 with 1 Axes>"
      ]
     },
     "metadata": {
      "needs_background": "light"
     },
     "output_type": "display_data"
    }
   ],
   "source": [
    "sns.countplot(data = cat_data, x = 'addr_state')"
   ]
  },
  {
   "cell_type": "code",
   "execution_count": 124,
   "metadata": {},
   "outputs": [
    {
     "data": {
      "text/plain": [
       "<matplotlib.axes._subplots.AxesSubplot at 0x576ddb1518>"
      ]
     },
     "execution_count": 124,
     "metadata": {},
     "output_type": "execute_result"
    },
    {
     "data": {
      "image/png": "[encoded data removed]",
      "text/plain": [
       "<Figure size 432x288 with 1 Axes>"
      ]
     },
     "metadata": {
      "needs_background": "light"
     },
     "output_type": "display_data"
    }
   ],
   "source": [
    "sns.countplot(data = cat_data, x = 'purpose')"
   ]
  },
  {
   "cell_type": "code",
   "execution_count": 125,
   "metadata": {},
   "outputs": [
    {
     "data": {
      "text/plain": [
       "<matplotlib.axes._subplots.AxesSubplot at 0x576de2d940>"
      ]
     },
     "execution_count": 125,
     "metadata": {},
     "output_type": "execute_result"
    },
    {
     "data": {
      "image/png": "[encoded data removed]",
      "text/plain": [
       "<Figure size 432x288 with 1 Axes>"
      ]
     },
     "metadata": {
      "needs_background": "light"
     },
     "output_type": "display_data"
    }
   ],
   "source": [
    "sns.countplot(data = cat_data, x = 'verification_status')"
   ]
  },
  {
   "cell_type": "code",
   "execution_count": 117,
   "metadata": {},
   "outputs": [
    {
     "data": {
      "text/plain": [
       "<matplotlib.axes._subplots.AxesSubplot at 0x570c789ac8>"
      ]
     },
     "execution_count": 117,
     "metadata": {},
     "output_type": "execute_result"
    },
    {
     "data": {
      "image/png": "[encoded data removed]",
      "text/plain": [
       "<Figure size 432x288 with 1 Axes>"
      ]
     },
     "metadata": {
      "needs_background": "light"
     },
     "output_type": "display_data"
    }
   ],
   "source": [
    "sns.countplot(data = cat_data, x = 'home_ownership')"
   ]
  },
  {
   "cell_type": "code",
   "execution_count": 119,
   "metadata": {},
   "outputs": [
    {
     "data": {
      "text/plain": [
       "<matplotlib.axes._subplots.AxesSubplot at 0x570ca26470>"
      ]
     },
     "execution_count": 119,
     "metadata": {},
     "output_type": "execute_result"
    },
    {
     "data": {
      "image/png": "[encoded data removed]",
      "text/plain": [
       "<Figure size 432x288 with 1 Axes>"
      ]
     },
     "metadata": {
      "needs_background": "light"
     },
     "output_type": "display_data"
    }
   ],
   "source": [
    "sns.countplot(data = cat_data, x = 'sub_grade')"
   ]
  },
  {
   "cell_type": "markdown",
   "metadata": {},
   "source": [
    "REF: https://www.kaggle.com/nextbigwhat/eda-for-categorical-variables-a-beginner-s-way"
   ]
  },
  {
   "cell_type": "code",
   "execution_count": 126,
   "metadata": {
    "scrolled": true
   },
   "outputs": [
    {
     "data": {
      "text/plain": [
       "Index(['loan_amnt', 'funded_amnt', 'funded_amnt_inv', 'int_rate',\n",
       "       'installment', 'emp_length', 'annual_inc', 'dti', 'delinq_2yrs',\n",
       "       'inq_last_6mths', 'mths_since_last_delinq', 'open_acc', 'revol_bal',\n",
       "       'revol_util', 'total_acc', 'out_prncp', 'out_prncp_inv', 'total_pymnt',\n",
       "       'total_pymnt_inv', 'total_rec_prncp', 'total_rec_int',\n",
       "       'total_rec_late_fee', 'recoveries', 'collection_recovery_fee',\n",
       "       'last_pymnt_amnt', 'collections_12_mths_ex_med', 'acc_now_delinq',\n",
       "       'tot_coll_amt', 'tot_cur_bal', 'total_rev_hi_lim', 'default_ind'],\n",
       "      dtype='object')"
      ]
     },
     "execution_count": 126,
     "metadata": {},
     "output_type": "execute_result"
    }
   ],
   "source": [
    "num_data.columns"
   ]
  },
  {
   "cell_type": "code",
   "execution_count": 130,
   "metadata": {},
   "outputs": [],
   "source": [
    "data.to_csv('dataset/ref_data.csv')"
   ]
  }
 ],
 "metadata": {
  "kernelspec": {
   "display_name": "Python 3",
   "language": "python",
   "name": "python3"
  },
  "language_info": {
   "codemirror_mode": {
    "name": "ipython",
    "version": 3
   },
   "file_extension": ".py",
   "mimetype": "text/x-python",
   "name": "python",
   "nbconvert_exporter": "python",
   "pygments_lexer": "ipython3",
   "version": "3.7.3"
  }
 },
 "nbformat": 4,
 "nbformat_minor": 2
}
