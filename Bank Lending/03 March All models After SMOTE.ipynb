{
 "cells": [
  {
   "cell_type": "markdown",
   "metadata": {},
   "source": [
    "<a id='Model_Building'></a>\n",
    "## Model Building\n",
    "\n",
    "As this is classification problem. So, we can apply following algorithms.\n",
    "* Logistic Regression\n",
    "* Random Forest\n",
    "* Support Vector Machine\n",
    "* K Nearest Neighbour"
   ]
  },
  {
   "cell_type": "code",
   "execution_count": 1,
   "metadata": {},
   "outputs": [],
   "source": [
    "import pandas as pd\n",
    "import numpy as np"
   ]
  },
  {
   "cell_type": "code",
   "execution_count": 2,
   "metadata": {},
   "outputs": [],
   "source": [
    "df = pd.read_csv('dataset/final_data.csv', index_col = 'issue_d')"
   ]
  },
  {
   "cell_type": "code",
   "execution_count": 3,
   "metadata": {
    "scrolled": false
   },
   "outputs": [
    {
     "data": {
      "text/html": [
       "<div>\n",
       "<style scoped>\n",
       "    .dataframe tbody tr th:only-of-type {\n",
       "        vertical-align: middle;\n",
       "    }\n",
       "\n",
       "    .dataframe tbody tr th {\n",
       "        vertical-align: top;\n",
       "    }\n",
       "\n",
       "    .dataframe thead th {\n",
       "        text-align: right;\n",
       "    }\n",
       "</style>\n",
       "<table border=\"1\" class=\"dataframe\">\n",
       "  <thead>\n",
       "    <tr style=\"text-align: right;\">\n",
       "      <th></th>\n",
       "      <th>inq_last_6mths</th>\n",
       "      <th>recoveries</th>\n",
       "      <th>annual_inc</th>\n",
       "      <th>loan_amnt</th>\n",
       "      <th>int_rate</th>\n",
       "      <th>emp_length</th>\n",
       "      <th>out_prncp</th>\n",
       "      <th>total_pymnt</th>\n",
       "      <th>collection_recovery_fee</th>\n",
       "      <th>default_ind</th>\n",
       "      <th>...</th>\n",
       "      <th>sub_grade_G5</th>\n",
       "      <th>home_ownership_Other</th>\n",
       "      <th>home_ownership_Own</th>\n",
       "      <th>home_ownership_Rent</th>\n",
       "      <th>verification_status_Verified</th>\n",
       "      <th>purpose_credit_card</th>\n",
       "      <th>purpose_debt_consolidation</th>\n",
       "      <th>purpose_other</th>\n",
       "      <th>pub_rec_Good</th>\n",
       "      <th>initial_list_status_w</th>\n",
       "    </tr>\n",
       "    <tr>\n",
       "      <th>issue_d</th>\n",
       "      <th></th>\n",
       "      <th></th>\n",
       "      <th></th>\n",
       "      <th></th>\n",
       "      <th></th>\n",
       "      <th></th>\n",
       "      <th></th>\n",
       "      <th></th>\n",
       "      <th></th>\n",
       "      <th></th>\n",
       "      <th></th>\n",
       "      <th></th>\n",
       "      <th></th>\n",
       "      <th></th>\n",
       "      <th></th>\n",
       "      <th></th>\n",
       "      <th></th>\n",
       "      <th></th>\n",
       "      <th></th>\n",
       "      <th></th>\n",
       "      <th></th>\n",
       "    </tr>\n",
       "  </thead>\n",
       "  <tbody>\n",
       "    <tr>\n",
       "      <th>2007-06-01</th>\n",
       "      <td>0</td>\n",
       "      <td>0.0</td>\n",
       "      <td>22000.0</td>\n",
       "      <td>7500.0</td>\n",
       "      <td>13.75</td>\n",
       "      <td>1</td>\n",
       "      <td>0.0</td>\n",
       "      <td>9194.98</td>\n",
       "      <td>0.0</td>\n",
       "      <td>0</td>\n",
       "      <td>...</td>\n",
       "      <td>0</td>\n",
       "      <td>0</td>\n",
       "      <td>1</td>\n",
       "      <td>0</td>\n",
       "      <td>0</td>\n",
       "      <td>0</td>\n",
       "      <td>1</td>\n",
       "      <td>0</td>\n",
       "      <td>1</td>\n",
       "      <td>0</td>\n",
       "    </tr>\n",
       "    <tr>\n",
       "      <th>2007-07-01</th>\n",
       "      <td>0</td>\n",
       "      <td>0.0</td>\n",
       "      <td>150000.0</td>\n",
       "      <td>5000.0</td>\n",
       "      <td>7.43</td>\n",
       "      <td>8</td>\n",
       "      <td>0.0</td>\n",
       "      <td>5174.17</td>\n",
       "      <td>0.0</td>\n",
       "      <td>0</td>\n",
       "      <td>...</td>\n",
       "      <td>0</td>\n",
       "      <td>0</td>\n",
       "      <td>0</td>\n",
       "      <td>0</td>\n",
       "      <td>0</td>\n",
       "      <td>0</td>\n",
       "      <td>0</td>\n",
       "      <td>0</td>\n",
       "      <td>1</td>\n",
       "      <td>0</td>\n",
       "    </tr>\n",
       "    <tr>\n",
       "      <th>2007-07-01</th>\n",
       "      <td>0</td>\n",
       "      <td>0.0</td>\n",
       "      <td>125000.0</td>\n",
       "      <td>5750.0</td>\n",
       "      <td>7.43</td>\n",
       "      <td>10</td>\n",
       "      <td>0.0</td>\n",
       "      <td>6421.50</td>\n",
       "      <td>0.0</td>\n",
       "      <td>0</td>\n",
       "      <td>...</td>\n",
       "      <td>0</td>\n",
       "      <td>0</td>\n",
       "      <td>0</td>\n",
       "      <td>0</td>\n",
       "      <td>0</td>\n",
       "      <td>0</td>\n",
       "      <td>1</td>\n",
       "      <td>0</td>\n",
       "      <td>1</td>\n",
       "      <td>0</td>\n",
       "    </tr>\n",
       "    <tr>\n",
       "      <th>2007-07-01</th>\n",
       "      <td>2</td>\n",
       "      <td>0.0</td>\n",
       "      <td>40000.0</td>\n",
       "      <td>5000.0</td>\n",
       "      <td>7.43</td>\n",
       "      <td>6</td>\n",
       "      <td>0.0</td>\n",
       "      <td>5593.39</td>\n",
       "      <td>0.0</td>\n",
       "      <td>0</td>\n",
       "      <td>...</td>\n",
       "      <td>0</td>\n",
       "      <td>0</td>\n",
       "      <td>0</td>\n",
       "      <td>1</td>\n",
       "      <td>0</td>\n",
       "      <td>0</td>\n",
       "      <td>0</td>\n",
       "      <td>0</td>\n",
       "      <td>1</td>\n",
       "      <td>0</td>\n",
       "    </tr>\n",
       "    <tr>\n",
       "      <th>2007-07-01</th>\n",
       "      <td>2</td>\n",
       "      <td>0.0</td>\n",
       "      <td>20000.0</td>\n",
       "      <td>1200.0</td>\n",
       "      <td>11.54</td>\n",
       "      <td>1</td>\n",
       "      <td>0.0</td>\n",
       "      <td>1425.37</td>\n",
       "      <td>0.0</td>\n",
       "      <td>0</td>\n",
       "      <td>...</td>\n",
       "      <td>0</td>\n",
       "      <td>0</td>\n",
       "      <td>0</td>\n",
       "      <td>1</td>\n",
       "      <td>0</td>\n",
       "      <td>1</td>\n",
       "      <td>0</td>\n",
       "      <td>0</td>\n",
       "      <td>1</td>\n",
       "      <td>0</td>\n",
       "    </tr>\n",
       "  </tbody>\n",
       "</table>\n",
       "<p>5 rows × 54 columns</p>\n",
       "</div>"
      ],
      "text/plain": [
       "            inq_last_6mths  recoveries  annual_inc  loan_amnt  int_rate  \\\n",
       "issue_d                                                                   \n",
       "2007-06-01               0         0.0     22000.0     7500.0     13.75   \n",
       "2007-07-01               0         0.0    150000.0     5000.0      7.43   \n",
       "2007-07-01               0         0.0    125000.0     5750.0      7.43   \n",
       "2007-07-01               2         0.0     40000.0     5000.0      7.43   \n",
       "2007-07-01               2         0.0     20000.0     1200.0     11.54   \n",
       "\n",
       "            emp_length  out_prncp  total_pymnt  collection_recovery_fee  \\\n",
       "issue_d                                                                   \n",
       "2007-06-01           1        0.0      9194.98                      0.0   \n",
       "2007-07-01           8        0.0      5174.17                      0.0   \n",
       "2007-07-01          10        0.0      6421.50                      0.0   \n",
       "2007-07-01           6        0.0      5593.39                      0.0   \n",
       "2007-07-01           1        0.0      1425.37                      0.0   \n",
       "\n",
       "            default_ind  ...  sub_grade_G5  home_ownership_Other  \\\n",
       "issue_d                  ...                                       \n",
       "2007-06-01            0  ...             0                     0   \n",
       "2007-07-01            0  ...             0                     0   \n",
       "2007-07-01            0  ...             0                     0   \n",
       "2007-07-01            0  ...             0                     0   \n",
       "2007-07-01            0  ...             0                     0   \n",
       "\n",
       "            home_ownership_Own  home_ownership_Rent  \\\n",
       "issue_d                                               \n",
       "2007-06-01                   1                    0   \n",
       "2007-07-01                   0                    0   \n",
       "2007-07-01                   0                    0   \n",
       "2007-07-01                   0                    1   \n",
       "2007-07-01                   0                    1   \n",
       "\n",
       "            verification_status_Verified  purpose_credit_card  \\\n",
       "issue_d                                                         \n",
       "2007-06-01                             0                    0   \n",
       "2007-07-01                             0                    0   \n",
       "2007-07-01                             0                    0   \n",
       "2007-07-01                             0                    0   \n",
       "2007-07-01                             0                    1   \n",
       "\n",
       "            purpose_debt_consolidation  purpose_other  pub_rec_Good  \\\n",
       "issue_d                                                               \n",
       "2007-06-01                           1              0             1   \n",
       "2007-07-01                           0              0             1   \n",
       "2007-07-01                           1              0             1   \n",
       "2007-07-01                           0              0             1   \n",
       "2007-07-01                           0              0             1   \n",
       "\n",
       "            initial_list_status_w  \n",
       "issue_d                            \n",
       "2007-06-01                      0  \n",
       "2007-07-01                      0  \n",
       "2007-07-01                      0  \n",
       "2007-07-01                      0  \n",
       "2007-07-01                      0  \n",
       "\n",
       "[5 rows x 54 columns]"
      ]
     },
     "execution_count": 3,
     "metadata": {},
     "output_type": "execute_result"
    }
   ],
   "source": [
    "df.head()"
   ]
  },
  {
   "cell_type": "code",
   "execution_count": 4,
   "metadata": {},
   "outputs": [],
   "source": [
    "# Deviding Dataset into x and y\n",
    "y = df['default_ind']\n",
    "x = df.drop('default_ind', axis=1)"
   ]
  },
  {
   "cell_type": "markdown",
   "metadata": {},
   "source": [
    "## Train Test Split\n",
    "\n",
    "We are using 'issue_d' column to divide the data into train and test split.\n",
    "\n",
    "* Train Data will consists => June 2007 - May 2015\n",
    "* Test Data will consists => June 2015 - Dec 2015\n",
    "\n",
    "REF : https://stackoverflow.com/questions/37532098/split-dataframe-into-two-on-the-basis-of-date"
   ]
  },
  {
   "cell_type": "code",
   "execution_count": 5,
   "metadata": {
    "scrolled": false
   },
   "outputs": [
    {
     "name": "stdout",
     "output_type": "stream",
     "text": [
      "Train Dataset: (598978, 54)\n",
      "Test Dataset: (256991, 54)\n"
     ]
    }
   ],
   "source": [
    "# Splitting Dataframe according to Date as given in problem statement\n",
    "train_dataset = df['2007-06-01':'2015-05-1']\n",
    "test_dataset = df['2015-05-1':]\n",
    "print('Train Dataset:',train_dataset.shape)\n",
    "print('Test Dataset:',test_dataset.shape)"
   ]
  },
  {
   "cell_type": "code",
   "execution_count": 8,
   "metadata": {
    "scrolled": false
   },
   "outputs": [
    {
     "name": "stdout",
     "output_type": "stream",
     "text": [
      "Dataset with Shape :\n",
      "x_train  (598978, 53) \n",
      "y_train  (598978,) \n",
      "x_test  (256991, 53) \n",
      "y_test  (256991,)\n"
     ]
    }
   ],
   "source": [
    "# Devide Dataset into Train and Test\n",
    "x_train, x_test, y_train, y_test = train_dataset[x.columns] , test_dataset[x.columns] , train_dataset['default_ind'] , test_dataset['default_ind']\n",
    "print(\"Dataset with Shape :\\nx_train \",x_train.shape,\"\\ny_train \",y_train.shape ,\"\\nx_test \",x_test.shape, \"\\ny_test \",y_test.shape)"
   ]
  },
  {
   "cell_type": "markdown",
   "metadata": {},
   "source": [
    "# Checking Dataset Balance Records\n",
    "\n",
    "We are checking total number of records for both classes. If we generate model with imbalance dataset then model will be bias and there is a possibilty that we will get very good accuracy but biasness can be present and ot will affect prediction."
   ]
  },
  {
   "cell_type": "code",
   "execution_count": 9,
   "metadata": {},
   "outputs": [
    {
     "data": {
      "text/plain": [
       "0    552822\n",
       "1     46156\n",
       "Name: default_ind, dtype: int64"
      ]
     },
     "execution_count": 9,
     "metadata": {},
     "output_type": "execute_result"
    }
   ],
   "source": [
    "train_dataset.default_ind.value_counts()"
   ]
  },
  {
   "cell_type": "markdown",
   "metadata": {},
   "source": [
    "As we can see this datset is not a valid or balance dataset.So, we can not use this for model building process. Before model building process we need to balance the dataset. We are using <b>SMOTE - Synthetic Minority Over-sampling Technique</b> technique for balancing dataset."
   ]
  },
  {
   "cell_type": "code",
   "execution_count": 10,
   "metadata": {},
   "outputs": [],
   "source": [
    "from imblearn.over_sampling import SMOTE "
   ]
  },
  {
   "cell_type": "code",
   "execution_count": 14,
   "metadata": {},
   "outputs": [],
   "source": [
    "smt = SMOTE(random_state = 37) \n",
    "x_train_res, y_train_res = smt.fit_sample(x_train, y_train.ravel())"
   ]
  },
  {
   "cell_type": "code",
   "execution_count": 15,
   "metadata": {},
   "outputs": [],
   "source": [
    "# Libraries for Validation of models\n",
    "from sklearn.metrics import confusion_matrix"
   ]
  },
  {
   "cell_type": "markdown",
   "metadata": {},
   "source": [
    "## Logistic Regression"
   ]
  },
  {
   "cell_type": "code",
   "execution_count": 19,
   "metadata": {
    "scrolled": true
   },
   "outputs": [],
   "source": [
    "# Logistic Regression\n",
    "from sklearn.linear_model import LogisticRegression\n",
    "logistic_model = LogisticRegression(solver='lbfgs').fit(x_train_res,y_train_res)\n",
    "logistic_predict = logistic_model.predict(x_test)"
   ]
  },
  {
   "cell_type": "code",
   "execution_count": 20,
   "metadata": {},
   "outputs": [
    {
     "data": {
      "text/plain": [
       "array([[240525,  16155],\n",
       "       [    51,    260]], dtype=int64)"
      ]
     },
     "execution_count": 20,
     "metadata": {},
     "output_type": "execute_result"
    }
   ],
   "source": [
    "# Checking Accuracy\n",
    "logistic_conusion_matrix = confusion_matrix(y_test,logistic_predict)\n",
    "logistic_conusion_matrix"
   ]
  },
  {
   "cell_type": "markdown",
   "metadata": {},
   "source": [
    "## Random Forest"
   ]
  },
  {
   "cell_type": "code",
   "execution_count": 21,
   "metadata": {},
   "outputs": [],
   "source": [
    "# Random Forest\n",
    "from sklearn.ensemble import RandomForestClassifier\n",
    "rf_model = RandomForestClassifier(n_estimators = 100, criterion='gini')\n",
    "rf_model = rf_model.fit(x_train_res, y_train_res)\n",
    "rf_model_predict = rf_model.predict(x_test)"
   ]
  },
  {
   "cell_type": "code",
   "execution_count": 22,
   "metadata": {},
   "outputs": [
    {
     "data": {
      "text/plain": [
       "array([[231686,  24994],\n",
       "       [    45,    266]], dtype=int64)"
      ]
     },
     "execution_count": 22,
     "metadata": {},
     "output_type": "execute_result"
    }
   ],
   "source": [
    "# Checking Accuracy\n",
    "rf_conusion_matrix = confusion_matrix(y_test,rf_model_predict)\n",
    "rf_conusion_matrix"
   ]
  },
  {
   "cell_type": "markdown",
   "metadata": {},
   "source": [
    "## KNN - K Nearest Neighbour"
   ]
  },
  {
   "cell_type": "code",
   "execution_count": 23,
   "metadata": {},
   "outputs": [],
   "source": [
    "# KNN - K Nearest Neighbour\n",
    "from sklearn.neighbors import KNeighborsClassifier\n",
    "knn_model = KNeighborsClassifier(n_neighbors=5)\n",
    "knn_model = knn_model.fit(x_train_res,y_train_res)\n",
    "knn_predict = knn_model.predict(x_test)"
   ]
  },
  {
   "cell_type": "code",
   "execution_count": 24,
   "metadata": {},
   "outputs": [
    {
     "data": {
      "text/plain": [
       "array([[195577,  61103],\n",
       "       [    40,    271]], dtype=int64)"
      ]
     },
     "execution_count": 24,
     "metadata": {},
     "output_type": "execute_result"
    }
   ],
   "source": [
    "# Checking Accuracy\n",
    "knn_conusion_matrix = confusion_matrix(y_test,knn_predict)\n",
    "knn_conusion_matrix"
   ]
  },
  {
   "cell_type": "code",
   "execution_count": 25,
   "metadata": {},
   "outputs": [],
   "source": [
    "# Choosing a K Value with Elbow method\n",
    "error_rate = []\n",
    "k_list = [3,7,9,11,13,15,17,19,21,23,25,27,29]\n",
    "for i in k_list:\n",
    "    knn = KNeighborsClassifier(n_neighbors=i)\n",
    "    knn.fit(x_train_res,y_train_res)\n",
    "    pred_i = knn.predict(x_test)\n",
    "    error_rate.append(np.mean(pred_i != y_test))"
   ]
  },
  {
   "cell_type": "code",
   "execution_count": 26,
   "metadata": {},
   "outputs": [],
   "source": [
    "import matplotlib.pyplot as plt"
   ]
  },
  {
   "cell_type": "code",
   "execution_count": 27,
   "metadata": {
    "scrolled": false
   },
   "outputs": [
    {
     "data": {
      "text/plain": [
       "Text(0, 0.5, 'Error Rate')"
      ]
     },
     "execution_count": 27,
     "metadata": {},
     "output_type": "execute_result"
    },
    {
     "data": {
      "image/png": "[encoded data removed]",
      "text/plain": [
       "<Figure size 720x432 with 1 Axes>"
      ]
     },
     "metadata": {
      "needs_background": "light"
     },
     "output_type": "display_data"
    }
   ],
   "source": [
    "plt.figure(figsize=(10,6))\n",
    "plt.plot(k_list,error_rate,color='blue', linestyle='dashed', marker='o', markerfacecolor='red', markersize=10)\n",
    "plt.title('Error Rate vs. K Value')\n",
    "plt.xlabel('K')\n",
    "plt.ylabel('Error Rate')"
   ]
  },
  {
   "cell_type": "code",
   "execution_count": 31,
   "metadata": {},
   "outputs": [],
   "source": [
    "knn_model2 = KNeighborsClassifier(n_neighbors=29)\n",
    "knn_model2 = knn_model.fit(x_train_res,y_train_res)"
   ]
  },
  {
   "cell_type": "code",
   "execution_count": 32,
   "metadata": {},
   "outputs": [],
   "source": [
    "knn_predict2 = knn_model2.predict(x_test)"
   ]
  },
  {
   "cell_type": "code",
   "execution_count": 33,
   "metadata": {},
   "outputs": [
    {
     "data": {
      "text/plain": [
       "array([[195577,  61103],\n",
       "       [    40,    271]], dtype=int64)"
      ]
     },
     "execution_count": 33,
     "metadata": {},
     "output_type": "execute_result"
    }
   ],
   "source": [
    "# Checking Accuracy\n",
    "knn_conusion_matrix2 = confusion_matrix(y_test,knn_predict2)\n",
    "knn_conusion_matrix2"
   ]
  },
  {
   "cell_type": "markdown",
   "metadata": {},
   "source": [
    "<a id='Model_Evaluation'></a>\n",
    "## Model Evaluation\n",
    "\n",
    "* Confusion Matrix\n",
    "* Accuracy\n",
    "* Precision\n",
    "* Recall\n",
    "* F1 Score\n",
    "\n",
    "### Method for Report Generation"
   ]
  },
  {
   "cell_type": "code",
   "execution_count": 40,
   "metadata": {},
   "outputs": [],
   "source": [
    "# Report All Results into Dataframe - Creating Method Where Evaluation Parameters will generate from Concusion Matrix\n",
    "report_comments, report_Accuracy, report_Precision, report_Recall , report_F1_Score= [],[],[],[],[]\n",
    "\n",
    "def report_generate(conf_mat,comment):\n",
    "\n",
    "    # Append Comment into List\n",
    "    report_comments.append(comment)\n",
    "\n",
    "    # Calculating Accuracy and Append into List\n",
    "    accuracy = (conf_mat[1][1] + conf_mat[0][0])/ (conf_mat[1][1] + conf_mat[0][0] + conf_mat[0][1] + conf_mat[1][0])\n",
    "    report_Accuracy.append(accuracy)\n",
    "    \n",
    "    # Calculating Precision and Append into List\n",
    "    precisoin = (conf_mat[0][0])/(conf_mat[0][1] + conf_mat[0][0])\n",
    "    report_Precision.append(precisoin)\n",
    "    \n",
    "    # Calculating Recall and Append into List\n",
    "    recall = (conf_mat[0][0])/(conf_mat[1][0] + conf_mat[0][0])\n",
    "    report_Recall.append(recall)\n",
    "    \n",
    "    # Calculating F1-Score and Append into List\n",
    "    f1scrore = 2 * precisoin * recall / (precisoin + recall) \n",
    "    report_F1_Score.append(f1scrore)"
   ]
  },
  {
   "cell_type": "code",
   "execution_count": 35,
   "metadata": {},
   "outputs": [],
   "source": [
    "# Report All Results into Dataframe\n",
    "def show_report():\n",
    "    report_data = {'Comment': report_comments,\n",
    "               'Accuracy': report_Accuracy,\n",
    "               'Precision': report_Precision,\n",
    "               'Recall': report_Recall ,\n",
    "               'F1 Score': report_F1_Score\n",
    "              }\n",
    "    df_results = pd.DataFrame.from_dict(report_data)\n",
    "    return(df_results)"
   ]
  },
  {
   "cell_type": "markdown",
   "metadata": {},
   "source": [
    "# Final Report"
   ]
  },
  {
   "cell_type": "code",
   "execution_count": 41,
   "metadata": {},
   "outputs": [],
   "source": [
    "# Pass all Generated Confusion Matrix for generate report\n",
    "report_generate(logistic_conusion_matrix, comment='After SMOTE Logistic Regression')\n",
    "report_generate(knn_conusion_matrix, comment='After SMOTE KNN for K = 3')\n",
    "report_generate(rf_conusion_matrix, comment='After SMOTE Random Forest')"
   ]
  },
  {
   "cell_type": "code",
   "execution_count": 42,
   "metadata": {},
   "outputs": [
    {
     "data": {
      "text/html": [
       "<div>\n",
       "<style scoped>\n",
       "    .dataframe tbody tr th:only-of-type {\n",
       "        vertical-align: middle;\n",
       "    }\n",
       "\n",
       "    .dataframe tbody tr th {\n",
       "        vertical-align: top;\n",
       "    }\n",
       "\n",
       "    .dataframe thead th {\n",
       "        text-align: right;\n",
       "    }\n",
       "</style>\n",
       "<table border=\"1\" class=\"dataframe\">\n",
       "  <thead>\n",
       "    <tr style=\"text-align: right;\">\n",
       "      <th></th>\n",
       "      <th>Comment</th>\n",
       "      <th>Accuracy</th>\n",
       "      <th>Precision</th>\n",
       "      <th>Recall</th>\n",
       "      <th>F1 Score</th>\n",
       "    </tr>\n",
       "  </thead>\n",
       "  <tbody>\n",
       "    <tr>\n",
       "      <th>0</th>\n",
       "      <td>After SMOTE Logistic Regression</td>\n",
       "      <td>0.936939</td>\n",
       "      <td>0.937062</td>\n",
       "      <td>0.999788</td>\n",
       "      <td>0.967409</td>\n",
       "    </tr>\n",
       "    <tr>\n",
       "      <th>1</th>\n",
       "      <td>After SMOTE KNN for K = 3</td>\n",
       "      <td>0.762081</td>\n",
       "      <td>0.761949</td>\n",
       "      <td>0.999796</td>\n",
       "      <td>0.864817</td>\n",
       "    </tr>\n",
       "    <tr>\n",
       "      <th>2</th>\n",
       "      <td>After SMOTE Random Forest</td>\n",
       "      <td>0.902569</td>\n",
       "      <td>0.902626</td>\n",
       "      <td>0.999806</td>\n",
       "      <td>0.948734</td>\n",
       "    </tr>\n",
       "  </tbody>\n",
       "</table>\n",
       "</div>"
      ],
      "text/plain": [
       "                           Comment  Accuracy  Precision    Recall  F1 Score\n",
       "0  After SMOTE Logistic Regression  0.936939   0.937062  0.999788  0.967409\n",
       "1        After SMOTE KNN for K = 3  0.762081   0.761949  0.999796  0.864817\n",
       "2        After SMOTE Random Forest  0.902569   0.902626  0.999806  0.948734"
      ]
     },
     "execution_count": 42,
     "metadata": {},
     "output_type": "execute_result"
    }
   ],
   "source": [
    "show_report()"
   ]
  },
  {
   "cell_type": "markdown",
   "metadata": {},
   "source": [
    "<a id='conclusion'></a>\n",
    "## Conclusion"
   ]
  },
  {
   "cell_type": "markdown",
   "metadata": {},
   "source": [
    "With references of the above models and model evaluations we can say that <b>Logistic Regression model</b> is giving the best solution for the given \n",
    "problem."
   ]
  }
 ],
 "metadata": {
  "kernelspec": {
   "display_name": "Python 3",
   "language": "python",
   "name": "python3"
  },
  "language_info": {
   "codemirror_mode": {
    "name": "ipython",
    "version": 3
   },
   "file_extension": ".py",
   "mimetype": "text/x-python",
   "name": "python",
   "nbconvert_exporter": "python",
   "pygments_lexer": "ipython3",
   "version": "3.7.3"
  }
 },
 "nbformat": 4,
 "nbformat_minor": 2
}
