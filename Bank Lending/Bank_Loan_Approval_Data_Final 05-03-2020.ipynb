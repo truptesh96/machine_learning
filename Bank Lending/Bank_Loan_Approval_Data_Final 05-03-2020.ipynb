{
 "cells": [
  {
   "cell_type": "markdown",
   "metadata": {},
   "source": [
    "## Project Index\n",
    "\n",
    "\n",
    "\n",
    "1. **[Import packages And Data](#import_packages)**\n",
    "\n",
    "    \n",
    "2. **[Preprocessing](#Preprocessing)**\n",
    "\n",
    "    * 2.1 **[Missing Values Treatment](#missing_values)**\n",
    "    * 2.2 **[Unerstanding Variable Importance](#var_importance)**\n",
    "    * 2.3 **[Outlier Treatment](#outlier_treatment)**\n",
    "    * 2.4 **[Dimensionality Reduction with PCA](#pca)**\n",
    "    \n",
    "3. **[EDA](#eda)**\n",
    "\n",
    "\n",
    "4. **[Model Building](#Model_Building)**\n",
    "  \n",
    "    * 4.1 **[Over Sampling for Balancing Dataset With SMOTE](#SMOTE)**\n",
    "    * 4.2 **[Logistic Regression](#Logistic_Regression)**\n",
    "    * 4.3 **[Random Forest](#Random_Forest)**\n",
    "    * 4.4 **[KNN - K nearest Neighbour](#knn)**\n",
    "    \n",
    "\n",
    "5. **[Model Evaluation](#Model_Evaluation)**\n",
    "    \n",
    "    * 5.1 **[Model Performance](#report)**\n",
    "\n",
    "\n",
    "6. **[Conclusion](#Conclusion)**"
   ]
  },
  {
   "cell_type": "markdown",
   "metadata": {},
   "source": [
    "<a id='import_packages'></a>\n",
    "## Importing Data And Packages"
   ]
  },
  {
   "cell_type": "code",
   "execution_count": 1,
   "metadata": {},
   "outputs": [],
   "source": [
    "# Importing Libraries\n",
    "import numpy as np\n",
    "import pandas as pd\n",
    "import matplotlib.pyplot as plt\n",
    "import seaborn as sns\n",
    "%matplotlib inline"
   ]
  },
  {
   "cell_type": "code",
   "execution_count": 2,
   "metadata": {
    "scrolled": true
   },
   "outputs": [
    {
     "name": "stderr",
     "output_type": "stream",
     "text": [
      "C:\\Users\\HP\\Anaconda\\lib\\site-packages\\IPython\\core\\interactiveshell.py:3057: DtypeWarning: Columns (17,45,53) have mixed types. Specify dtype option on import or set low_memory=False.\n",
      "  interactivity=interactivity, compiler=compiler, result=result)\n"
     ]
    }
   ],
   "source": [
    "# Loading Data\n",
    "data = pd.read_csv('XYZCorp_LendingData.txt', sep = '\\t', na_values = None)"
   ]
  },
  {
   "cell_type": "code",
   "execution_count": 3,
   "metadata": {
    "scrolled": true
   },
   "outputs": [
    {
     "data": {
      "text/html": [
       "<div>\n",
       "<style scoped>\n",
       "    .dataframe tbody tr th:only-of-type {\n",
       "        vertical-align: middle;\n",
       "    }\n",
       "\n",
       "    .dataframe tbody tr th {\n",
       "        vertical-align: top;\n",
       "    }\n",
       "\n",
       "    .dataframe thead th {\n",
       "        text-align: right;\n",
       "    }\n",
       "</style>\n",
       "<table border=\"1\" class=\"dataframe\">\n",
       "  <thead>\n",
       "    <tr style=\"text-align: right;\">\n",
       "      <th></th>\n",
       "      <th>id</th>\n",
       "      <th>member_id</th>\n",
       "      <th>loan_amnt</th>\n",
       "      <th>funded_amnt</th>\n",
       "      <th>funded_amnt_inv</th>\n",
       "      <th>term</th>\n",
       "      <th>int_rate</th>\n",
       "      <th>installment</th>\n",
       "      <th>grade</th>\n",
       "      <th>sub_grade</th>\n",
       "      <th>...</th>\n",
       "      <th>il_util</th>\n",
       "      <th>open_rv_12m</th>\n",
       "      <th>open_rv_24m</th>\n",
       "      <th>max_bal_bc</th>\n",
       "      <th>all_util</th>\n",
       "      <th>total_rev_hi_lim</th>\n",
       "      <th>inq_fi</th>\n",
       "      <th>total_cu_tl</th>\n",
       "      <th>inq_last_12m</th>\n",
       "      <th>default_ind</th>\n",
       "    </tr>\n",
       "  </thead>\n",
       "  <tbody>\n",
       "    <tr>\n",
       "      <th>0</th>\n",
       "      <td>1077501</td>\n",
       "      <td>1296599</td>\n",
       "      <td>5000.0</td>\n",
       "      <td>5000.0</td>\n",
       "      <td>4975.0</td>\n",
       "      <td>36 months</td>\n",
       "      <td>10.65</td>\n",
       "      <td>162.87</td>\n",
       "      <td>B</td>\n",
       "      <td>B2</td>\n",
       "      <td>...</td>\n",
       "      <td>NaN</td>\n",
       "      <td>NaN</td>\n",
       "      <td>NaN</td>\n",
       "      <td>NaN</td>\n",
       "      <td>NaN</td>\n",
       "      <td>NaN</td>\n",
       "      <td>NaN</td>\n",
       "      <td>NaN</td>\n",
       "      <td>NaN</td>\n",
       "      <td>0</td>\n",
       "    </tr>\n",
       "    <tr>\n",
       "      <th>1</th>\n",
       "      <td>1077430</td>\n",
       "      <td>1314167</td>\n",
       "      <td>2500.0</td>\n",
       "      <td>2500.0</td>\n",
       "      <td>2500.0</td>\n",
       "      <td>60 months</td>\n",
       "      <td>15.27</td>\n",
       "      <td>59.83</td>\n",
       "      <td>C</td>\n",
       "      <td>C4</td>\n",
       "      <td>...</td>\n",
       "      <td>NaN</td>\n",
       "      <td>NaN</td>\n",
       "      <td>NaN</td>\n",
       "      <td>NaN</td>\n",
       "      <td>NaN</td>\n",
       "      <td>NaN</td>\n",
       "      <td>NaN</td>\n",
       "      <td>NaN</td>\n",
       "      <td>NaN</td>\n",
       "      <td>1</td>\n",
       "    </tr>\n",
       "    <tr>\n",
       "      <th>2</th>\n",
       "      <td>1077175</td>\n",
       "      <td>1313524</td>\n",
       "      <td>2400.0</td>\n",
       "      <td>2400.0</td>\n",
       "      <td>2400.0</td>\n",
       "      <td>36 months</td>\n",
       "      <td>15.96</td>\n",
       "      <td>84.33</td>\n",
       "      <td>C</td>\n",
       "      <td>C5</td>\n",
       "      <td>...</td>\n",
       "      <td>NaN</td>\n",
       "      <td>NaN</td>\n",
       "      <td>NaN</td>\n",
       "      <td>NaN</td>\n",
       "      <td>NaN</td>\n",
       "      <td>NaN</td>\n",
       "      <td>NaN</td>\n",
       "      <td>NaN</td>\n",
       "      <td>NaN</td>\n",
       "      <td>0</td>\n",
       "    </tr>\n",
       "    <tr>\n",
       "      <th>3</th>\n",
       "      <td>1076863</td>\n",
       "      <td>1277178</td>\n",
       "      <td>10000.0</td>\n",
       "      <td>10000.0</td>\n",
       "      <td>10000.0</td>\n",
       "      <td>36 months</td>\n",
       "      <td>13.49</td>\n",
       "      <td>339.31</td>\n",
       "      <td>C</td>\n",
       "      <td>C1</td>\n",
       "      <td>...</td>\n",
       "      <td>NaN</td>\n",
       "      <td>NaN</td>\n",
       "      <td>NaN</td>\n",
       "      <td>NaN</td>\n",
       "      <td>NaN</td>\n",
       "      <td>NaN</td>\n",
       "      <td>NaN</td>\n",
       "      <td>NaN</td>\n",
       "      <td>NaN</td>\n",
       "      <td>0</td>\n",
       "    </tr>\n",
       "  </tbody>\n",
       "</table>\n",
       "<p>4 rows × 73 columns</p>\n",
       "</div>"
      ],
      "text/plain": [
       "        id  member_id  loan_amnt  funded_amnt  funded_amnt_inv        term  \\\n",
       "0  1077501    1296599     5000.0       5000.0           4975.0   36 months   \n",
       "1  1077430    1314167     2500.0       2500.0           2500.0   60 months   \n",
       "2  1077175    1313524     2400.0       2400.0           2400.0   36 months   \n",
       "3  1076863    1277178    10000.0      10000.0          10000.0   36 months   \n",
       "\n",
       "   int_rate  installment grade sub_grade  ... il_util open_rv_12m open_rv_24m  \\\n",
       "0     10.65       162.87     B        B2  ...     NaN         NaN         NaN   \n",
       "1     15.27        59.83     C        C4  ...     NaN         NaN         NaN   \n",
       "2     15.96        84.33     C        C5  ...     NaN         NaN         NaN   \n",
       "3     13.49       339.31     C        C1  ...     NaN         NaN         NaN   \n",
       "\n",
       "   max_bal_bc all_util total_rev_hi_lim inq_fi total_cu_tl inq_last_12m  \\\n",
       "0         NaN      NaN              NaN    NaN         NaN          NaN   \n",
       "1         NaN      NaN              NaN    NaN         NaN          NaN   \n",
       "2         NaN      NaN              NaN    NaN         NaN          NaN   \n",
       "3         NaN      NaN              NaN    NaN         NaN          NaN   \n",
       "\n",
       "  default_ind  \n",
       "0           0  \n",
       "1           1  \n",
       "2           0  \n",
       "3           0  \n",
       "\n",
       "[4 rows x 73 columns]"
      ]
     },
     "execution_count": 3,
     "metadata": {},
     "output_type": "execute_result"
    }
   ],
   "source": [
    "data.head(4)"
   ]
  },
  {
   "cell_type": "code",
   "execution_count": 4,
   "metadata": {
    "scrolled": false
   },
   "outputs": [
    {
     "data": {
      "text/html": [
       "<div>\n",
       "<style scoped>\n",
       "    .dataframe tbody tr th:only-of-type {\n",
       "        vertical-align: middle;\n",
       "    }\n",
       "\n",
       "    .dataframe tbody tr th {\n",
       "        vertical-align: top;\n",
       "    }\n",
       "\n",
       "    .dataframe thead th {\n",
       "        text-align: right;\n",
       "    }\n",
       "</style>\n",
       "<table border=\"1\" class=\"dataframe\">\n",
       "  <thead>\n",
       "    <tr style=\"text-align: right;\">\n",
       "      <th></th>\n",
       "      <th>id</th>\n",
       "      <th>member_id</th>\n",
       "      <th>loan_amnt</th>\n",
       "      <th>funded_amnt</th>\n",
       "      <th>funded_amnt_inv</th>\n",
       "      <th>int_rate</th>\n",
       "      <th>installment</th>\n",
       "      <th>annual_inc</th>\n",
       "      <th>dti</th>\n",
       "      <th>delinq_2yrs</th>\n",
       "      <th>...</th>\n",
       "      <th>il_util</th>\n",
       "      <th>open_rv_12m</th>\n",
       "      <th>open_rv_24m</th>\n",
       "      <th>max_bal_bc</th>\n",
       "      <th>all_util</th>\n",
       "      <th>total_rev_hi_lim</th>\n",
       "      <th>inq_fi</th>\n",
       "      <th>total_cu_tl</th>\n",
       "      <th>inq_last_12m</th>\n",
       "      <th>default_ind</th>\n",
       "    </tr>\n",
       "  </thead>\n",
       "  <tbody>\n",
       "    <tr>\n",
       "      <th>count</th>\n",
       "      <td>8.559690e+05</td>\n",
       "      <td>8.559690e+05</td>\n",
       "      <td>855969.000000</td>\n",
       "      <td>855969.000000</td>\n",
       "      <td>855969.000000</td>\n",
       "      <td>855969.000000</td>\n",
       "      <td>855969.000000</td>\n",
       "      <td>8.559690e+05</td>\n",
       "      <td>855969.000000</td>\n",
       "      <td>855969.000000</td>\n",
       "      <td>...</td>\n",
       "      <td>11609.000000</td>\n",
       "      <td>13288.000000</td>\n",
       "      <td>13288.000000</td>\n",
       "      <td>13288.000000</td>\n",
       "      <td>13288.000000</td>\n",
       "      <td>7.886560e+05</td>\n",
       "      <td>13288.000000</td>\n",
       "      <td>13288.000000</td>\n",
       "      <td>13288.000000</td>\n",
       "      <td>855969.000000</td>\n",
       "    </tr>\n",
       "    <tr>\n",
       "      <th>mean</th>\n",
       "      <td>3.224073e+07</td>\n",
       "      <td>3.476269e+07</td>\n",
       "      <td>14745.571335</td>\n",
       "      <td>14732.378305</td>\n",
       "      <td>14700.061226</td>\n",
       "      <td>13.192320</td>\n",
       "      <td>436.238072</td>\n",
       "      <td>7.507119e+04</td>\n",
       "      <td>18.122165</td>\n",
       "      <td>0.311621</td>\n",
       "      <td>...</td>\n",
       "      <td>71.486993</td>\n",
       "      <td>1.354305</td>\n",
       "      <td>2.945515</td>\n",
       "      <td>5840.443332</td>\n",
       "      <td>61.024526</td>\n",
       "      <td>3.216357e+04</td>\n",
       "      <td>0.947772</td>\n",
       "      <td>1.524232</td>\n",
       "      <td>1.841963</td>\n",
       "      <td>0.054286</td>\n",
       "    </tr>\n",
       "    <tr>\n",
       "      <th>std</th>\n",
       "      <td>2.271969e+07</td>\n",
       "      <td>2.399418e+07</td>\n",
       "      <td>8425.340005</td>\n",
       "      <td>8419.471653</td>\n",
       "      <td>8425.805478</td>\n",
       "      <td>4.368365</td>\n",
       "      <td>243.726876</td>\n",
       "      <td>6.426447e+04</td>\n",
       "      <td>17.423629</td>\n",
       "      <td>0.857189</td>\n",
       "      <td>...</td>\n",
       "      <td>23.015293</td>\n",
       "      <td>1.483710</td>\n",
       "      <td>2.595313</td>\n",
       "      <td>5108.500262</td>\n",
       "      <td>20.018117</td>\n",
       "      <td>3.769964e+04</td>\n",
       "      <td>1.441667</td>\n",
       "      <td>2.697601</td>\n",
       "      <td>2.975049</td>\n",
       "      <td>0.226581</td>\n",
       "    </tr>\n",
       "    <tr>\n",
       "      <th>min</th>\n",
       "      <td>5.473400e+04</td>\n",
       "      <td>7.069900e+04</td>\n",
       "      <td>500.000000</td>\n",
       "      <td>500.000000</td>\n",
       "      <td>0.000000</td>\n",
       "      <td>5.320000</td>\n",
       "      <td>15.690000</td>\n",
       "      <td>0.000000e+00</td>\n",
       "      <td>0.000000</td>\n",
       "      <td>0.000000</td>\n",
       "      <td>...</td>\n",
       "      <td>0.000000</td>\n",
       "      <td>0.000000</td>\n",
       "      <td>0.000000</td>\n",
       "      <td>0.000000</td>\n",
       "      <td>0.000000</td>\n",
       "      <td>0.000000e+00</td>\n",
       "      <td>0.000000</td>\n",
       "      <td>0.000000</td>\n",
       "      <td>-4.000000</td>\n",
       "      <td>0.000000</td>\n",
       "    </tr>\n",
       "    <tr>\n",
       "      <th>25%</th>\n",
       "      <td>9.067986e+06</td>\n",
       "      <td>1.079273e+07</td>\n",
       "      <td>8000.000000</td>\n",
       "      <td>8000.000000</td>\n",
       "      <td>8000.000000</td>\n",
       "      <td>9.990000</td>\n",
       "      <td>260.550000</td>\n",
       "      <td>4.500000e+04</td>\n",
       "      <td>11.880000</td>\n",
       "      <td>0.000000</td>\n",
       "      <td>...</td>\n",
       "      <td>58.500000</td>\n",
       "      <td>0.000000</td>\n",
       "      <td>1.000000</td>\n",
       "      <td>2405.000000</td>\n",
       "      <td>47.900000</td>\n",
       "      <td>1.400000e+04</td>\n",
       "      <td>0.000000</td>\n",
       "      <td>0.000000</td>\n",
       "      <td>0.000000</td>\n",
       "      <td>0.000000</td>\n",
       "    </tr>\n",
       "    <tr>\n",
       "      <th>50%</th>\n",
       "      <td>3.431355e+07</td>\n",
       "      <td>3.697532e+07</td>\n",
       "      <td>13000.000000</td>\n",
       "      <td>13000.000000</td>\n",
       "      <td>13000.000000</td>\n",
       "      <td>12.990000</td>\n",
       "      <td>382.550000</td>\n",
       "      <td>6.500000e+04</td>\n",
       "      <td>17.610000</td>\n",
       "      <td>0.000000</td>\n",
       "      <td>...</td>\n",
       "      <td>75.000000</td>\n",
       "      <td>1.000000</td>\n",
       "      <td>2.000000</td>\n",
       "      <td>4485.500000</td>\n",
       "      <td>62.100000</td>\n",
       "      <td>2.380000e+04</td>\n",
       "      <td>0.000000</td>\n",
       "      <td>0.000000</td>\n",
       "      <td>2.000000</td>\n",
       "      <td>0.000000</td>\n",
       "    </tr>\n",
       "    <tr>\n",
       "      <th>75%</th>\n",
       "      <td>5.446311e+07</td>\n",
       "      <td>5.803559e+07</td>\n",
       "      <td>20000.000000</td>\n",
       "      <td>20000.000000</td>\n",
       "      <td>20000.000000</td>\n",
       "      <td>15.990000</td>\n",
       "      <td>571.560000</td>\n",
       "      <td>9.000000e+04</td>\n",
       "      <td>23.900000</td>\n",
       "      <td>0.000000</td>\n",
       "      <td>...</td>\n",
       "      <td>87.500000</td>\n",
       "      <td>2.000000</td>\n",
       "      <td>4.000000</td>\n",
       "      <td>7701.250000</td>\n",
       "      <td>75.300000</td>\n",
       "      <td>3.990000e+04</td>\n",
       "      <td>1.000000</td>\n",
       "      <td>2.000000</td>\n",
       "      <td>3.000000</td>\n",
       "      <td>0.000000</td>\n",
       "    </tr>\n",
       "    <tr>\n",
       "      <th>max</th>\n",
       "      <td>6.861687e+07</td>\n",
       "      <td>7.351969e+07</td>\n",
       "      <td>35000.000000</td>\n",
       "      <td>35000.000000</td>\n",
       "      <td>35000.000000</td>\n",
       "      <td>28.990000</td>\n",
       "      <td>1445.460000</td>\n",
       "      <td>9.500000e+06</td>\n",
       "      <td>9999.000000</td>\n",
       "      <td>39.000000</td>\n",
       "      <td>...</td>\n",
       "      <td>223.300000</td>\n",
       "      <td>22.000000</td>\n",
       "      <td>43.000000</td>\n",
       "      <td>83047.000000</td>\n",
       "      <td>151.400000</td>\n",
       "      <td>9.999999e+06</td>\n",
       "      <td>15.000000</td>\n",
       "      <td>33.000000</td>\n",
       "      <td>32.000000</td>\n",
       "      <td>1.000000</td>\n",
       "    </tr>\n",
       "  </tbody>\n",
       "</table>\n",
       "<p>8 rows × 52 columns</p>\n",
       "</div>"
      ],
      "text/plain": [
       "                 id     member_id      loan_amnt    funded_amnt  \\\n",
       "count  8.559690e+05  8.559690e+05  855969.000000  855969.000000   \n",
       "mean   3.224073e+07  3.476269e+07   14745.571335   14732.378305   \n",
       "std    2.271969e+07  2.399418e+07    8425.340005    8419.471653   \n",
       "min    5.473400e+04  7.069900e+04     500.000000     500.000000   \n",
       "25%    9.067986e+06  1.079273e+07    8000.000000    8000.000000   \n",
       "50%    3.431355e+07  3.697532e+07   13000.000000   13000.000000   \n",
       "75%    5.446311e+07  5.803559e+07   20000.000000   20000.000000   \n",
       "max    6.861687e+07  7.351969e+07   35000.000000   35000.000000   \n",
       "\n",
       "       funded_amnt_inv       int_rate    installment    annual_inc  \\\n",
       "count    855969.000000  855969.000000  855969.000000  8.559690e+05   \n",
       "mean      14700.061226      13.192320     436.238072  7.507119e+04   \n",
       "std        8425.805478       4.368365     243.726876  6.426447e+04   \n",
       "min           0.000000       5.320000      15.690000  0.000000e+00   \n",
       "25%        8000.000000       9.990000     260.550000  4.500000e+04   \n",
       "50%       13000.000000      12.990000     382.550000  6.500000e+04   \n",
       "75%       20000.000000      15.990000     571.560000  9.000000e+04   \n",
       "max       35000.000000      28.990000    1445.460000  9.500000e+06   \n",
       "\n",
       "                 dti    delinq_2yrs  ...       il_util   open_rv_12m  \\\n",
       "count  855969.000000  855969.000000  ...  11609.000000  13288.000000   \n",
       "mean       18.122165       0.311621  ...     71.486993      1.354305   \n",
       "std        17.423629       0.857189  ...     23.015293      1.483710   \n",
       "min         0.000000       0.000000  ...      0.000000      0.000000   \n",
       "25%        11.880000       0.000000  ...     58.500000      0.000000   \n",
       "50%        17.610000       0.000000  ...     75.000000      1.000000   \n",
       "75%        23.900000       0.000000  ...     87.500000      2.000000   \n",
       "max      9999.000000      39.000000  ...    223.300000     22.000000   \n",
       "\n",
       "        open_rv_24m    max_bal_bc      all_util  total_rev_hi_lim  \\\n",
       "count  13288.000000  13288.000000  13288.000000      7.886560e+05   \n",
       "mean       2.945515   5840.443332     61.024526      3.216357e+04   \n",
       "std        2.595313   5108.500262     20.018117      3.769964e+04   \n",
       "min        0.000000      0.000000      0.000000      0.000000e+00   \n",
       "25%        1.000000   2405.000000     47.900000      1.400000e+04   \n",
       "50%        2.000000   4485.500000     62.100000      2.380000e+04   \n",
       "75%        4.000000   7701.250000     75.300000      3.990000e+04   \n",
       "max       43.000000  83047.000000    151.400000      9.999999e+06   \n",
       "\n",
       "             inq_fi   total_cu_tl  inq_last_12m    default_ind  \n",
       "count  13288.000000  13288.000000  13288.000000  855969.000000  \n",
       "mean       0.947772      1.524232      1.841963       0.054286  \n",
       "std        1.441667      2.697601      2.975049       0.226581  \n",
       "min        0.000000      0.000000     -4.000000       0.000000  \n",
       "25%        0.000000      0.000000      0.000000       0.000000  \n",
       "50%        0.000000      0.000000      2.000000       0.000000  \n",
       "75%        1.000000      2.000000      3.000000       0.000000  \n",
       "max       15.000000     33.000000     32.000000       1.000000  \n",
       "\n",
       "[8 rows x 52 columns]"
      ]
     },
     "execution_count": 4,
     "metadata": {},
     "output_type": "execute_result"
    }
   ],
   "source": [
    "data.describe()"
   ]
  },
  {
   "cell_type": "markdown",
   "metadata": {},
   "source": [
    "<a id='Preprocessing'></a>\n",
    "## Preprocessing"
   ]
  },
  {
   "cell_type": "markdown",
   "metadata": {},
   "source": [
    "<a id='missing_values'></a>\n",
    "### Missing Values Treatment"
   ]
  },
  {
   "cell_type": "code",
   "execution_count": 5,
   "metadata": {
    "scrolled": true
   },
   "outputs": [],
   "source": [
    "# Checking For NAs Variables Having NA's\n",
    "def get_na(data): \n",
    "    null_vars = data.isnull().sum()\n",
    "    null_vars = null_vars[null_vars > 0]\n",
    "    if(len(null_vars) > 0):\n",
    "        null_vars.sort_values(inplace=True)\n",
    "        print(str(null_vars/data.shape[0] * 100))\n",
    "        null_vars.plot.bar(figsize=(15,4))\n",
    "    else:\n",
    "        print(\"No column have NA values\")"
   ]
  },
  {
   "cell_type": "code",
   "execution_count": 6,
   "metadata": {
    "scrolled": false
   },
   "outputs": [
    {
     "name": "stdout",
     "output_type": "stream",
     "text": [
      "title                           0.003855\n",
      "last_credit_pull_d              0.005841\n",
      "collections_12_mths_ex_med      0.006542\n",
      "revol_util                      0.052105\n",
      "last_pymnt_d                    1.035318\n",
      "emp_length                      5.030673\n",
      "emp_title                       5.776261\n",
      "total_rev_hi_lim                7.863953\n",
      "tot_cur_bal                     7.863953\n",
      "tot_coll_amt                    7.863953\n",
      "next_pymnt_d                   29.553757\n",
      "mths_since_last_delinq         51.381767\n",
      "mths_since_last_major_derog    75.099682\n",
      "mths_since_last_record         84.674211\n",
      "desc                           85.769111\n",
      "inq_fi                         98.447607\n",
      "all_util                       98.447607\n",
      "max_bal_bc                     98.447607\n",
      "open_rv_24m                    98.447607\n",
      "open_rv_12m                    98.447607\n",
      "total_bal_il                   98.447607\n",
      "open_il_24m                    98.447607\n",
      "open_il_12m                    98.447607\n",
      "open_il_6m                     98.447607\n",
      "open_acc_6m                    98.447607\n",
      "total_cu_tl                    98.447607\n",
      "inq_last_12m                   98.447607\n",
      "mths_since_rcnt_il             98.488964\n",
      "il_util                        98.643759\n",
      "verification_status_joint      99.948363\n",
      "annual_inc_joint               99.948363\n",
      "dti_joint                      99.948596\n",
      "dtype: float64\n"
     ]
    },
    {
     "data": {
      "image/png": "[encoded data removed]",
      "text/plain": [
       "<Figure size 1080x288 with 1 Axes>"
      ]
     },
     "metadata": {
      "needs_background": "light"
     },
     "output_type": "display_data"
    }
   ],
   "source": [
    "get_na(data)"
   ]
  },
  {
   "cell_type": "code",
   "execution_count": 7,
   "metadata": {},
   "outputs": [],
   "source": [
    "## Removing Columns those are having more than 70% missing data\n",
    "drop_columns_list = ['mths_since_last_major_derog', 'mths_since_last_record','desc', 'inq_fi','all_util','max_bal_bc',\n",
    "                     'open_rv_24m','open_rv_12m','total_bal_il','open_il_24m','open_il_12m','open_il_6m','open_acc_6m',\n",
    "                     'total_cu_tl','inq_last_12m','mths_since_rcnt_il','il_util','verification_status_joint',\n",
    "                     'annual_inc_joint','dti_joint']"
   ]
  },
  {
   "cell_type": "code",
   "execution_count": 8,
   "metadata": {},
   "outputs": [
    {
     "name": "stdout",
     "output_type": "stream",
     "text": [
      "Before Dropping Shape of Data :(855969, 73)\n",
      "After Dropping Shape of Data :(855969, 53)\n"
     ]
    }
   ],
   "source": [
    "# Dropping Columns those having more than 70% NA Values\n",
    "print('Before Dropping Shape of Data :{}'.format(data.shape))\n",
    "data.drop(drop_columns_list, inplace = True, axis = 1)\n",
    "print('After Dropping Shape of Data :{}'.format(data.shape))"
   ]
  },
  {
   "cell_type": "code",
   "execution_count": 9,
   "metadata": {},
   "outputs": [
    {
     "name": "stdout",
     "output_type": "stream",
     "text": [
      "Before Dropping Shape of Data :(855969, 53)\n",
      "After Dropping Shape of Data :(855969, 51)\n"
     ]
    }
   ],
   "source": [
    "# Dropping ['id', 'member_id'] as it will not play important role into model building process.\n",
    "print('Before Dropping Shape of Data :{}'.format(data.shape))\n",
    "data.drop(['id', 'member_id'],inplace = True, axis = 1)\n",
    "print('After Dropping Shape of Data :{}'.format(data.shape))"
   ]
  },
  {
   "cell_type": "code",
   "execution_count": 10,
   "metadata": {},
   "outputs": [
    {
     "data": {
      "text/plain": [
       "Index(['loan_amnt', 'funded_amnt', 'funded_amnt_inv', 'term', 'int_rate',\n",
       "       'installment', 'grade', 'sub_grade', 'emp_title', 'emp_length',\n",
       "       'home_ownership', 'annual_inc', 'verification_status', 'issue_d',\n",
       "       'pymnt_plan', 'purpose', 'title', 'zip_code', 'addr_state', 'dti',\n",
       "       'delinq_2yrs', 'earliest_cr_line', 'inq_last_6mths',\n",
       "       'mths_since_last_delinq', 'open_acc', 'pub_rec', 'revol_bal',\n",
       "       'revol_util', 'total_acc', 'initial_list_status', 'out_prncp',\n",
       "       'out_prncp_inv', 'total_pymnt', 'total_pymnt_inv', 'total_rec_prncp',\n",
       "       'total_rec_int', 'total_rec_late_fee', 'recoveries',\n",
       "       'collection_recovery_fee', 'last_pymnt_d', 'last_pymnt_amnt',\n",
       "       'next_pymnt_d', 'last_credit_pull_d', 'collections_12_mths_ex_med',\n",
       "       'policy_code', 'application_type', 'acc_now_delinq', 'tot_coll_amt',\n",
       "       'tot_cur_bal', 'total_rev_hi_lim', 'default_ind'],\n",
       "      dtype='object')"
      ]
     },
     "execution_count": 10,
     "metadata": {},
     "output_type": "execute_result"
    }
   ],
   "source": [
    "# Feature List\n",
    "data.columns"
   ]
  },
  {
   "cell_type": "code",
   "execution_count": 11,
   "metadata": {},
   "outputs": [
    {
     "data": {
      "text/plain": [
       "0    860xx\n",
       "1    309xx\n",
       "2    606xx\n",
       "3    917xx\n",
       "4    972xx\n",
       "Name: zip_code, dtype: object"
      ]
     },
     "execution_count": 11,
     "metadata": {},
     "output_type": "execute_result"
    }
   ],
   "source": [
    "# zip_code\n",
    "data.zip_code.head()"
   ]
  },
  {
   "cell_type": "code",
   "execution_count": 12,
   "metadata": {},
   "outputs": [],
   "source": [
    "# We are dropping zip_code as it can't be use into model building\n",
    "data.drop('zip_code', inplace = True, axis = 1)"
   ]
  },
  {
   "cell_type": "code",
   "execution_count": 13,
   "metadata": {},
   "outputs": [
    {
     "data": {
      "text/plain": [
       "0    1.0\n",
       "1    1.0\n",
       "2    1.0\n",
       "3    1.0\n",
       "4    1.0\n",
       "Name: policy_code, dtype: float64"
      ]
     },
     "execution_count": 13,
     "metadata": {},
     "output_type": "execute_result"
    }
   ],
   "source": [
    "# Reviewing policy_code Column\n",
    "data.policy_code.head()"
   ]
  },
  {
   "cell_type": "code",
   "execution_count": 14,
   "metadata": {
    "scrolled": true
   },
   "outputs": [
    {
     "data": {
      "text/plain": [
       "1.0    855969\n",
       "Name: policy_code, dtype: int64"
      ]
     },
     "execution_count": 14,
     "metadata": {},
     "output_type": "execute_result"
    }
   ],
   "source": [
    "data.policy_code.value_counts()"
   ]
  },
  {
   "cell_type": "code",
   "execution_count": 15,
   "metadata": {},
   "outputs": [],
   "source": [
    "# We are dropping policy_code as it only have one label for entire dataset that will lead to bias into model\n",
    "data.drop('policy_code', inplace = True, axis = 1)"
   ]
  },
  {
   "cell_type": "code",
   "execution_count": 16,
   "metadata": {},
   "outputs": [
    {
     "data": {
      "text/plain": [
       "0                         NaN\n",
       "1                       Ryder\n",
       "2                         NaN\n",
       "3         AIR RESOURCES BOARD\n",
       "4    University Medical Group\n",
       "Name: emp_title, dtype: object"
      ]
     },
     "execution_count": 16,
     "metadata": {},
     "output_type": "execute_result"
    }
   ],
   "source": [
    "# emp_title - The job title supplied by the Borrower when applying for the loan.\n",
    "data.emp_title.head()"
   ]
  },
  {
   "cell_type": "code",
   "execution_count": 17,
   "metadata": {},
   "outputs": [
    {
     "data": {
      "text/plain": [
       "Teacher                                     12965\n",
       "Manager                                     10821\n",
       "Registered Nurse                             5341\n",
       "RN                                           5182\n",
       "Owner                                        5157\n",
       "Supervisor                                   4792\n",
       "Sales                                        4051\n",
       "Project Manager                              3856\n",
       "Driver                                       3417\n",
       "Office Manager                               3404\n",
       "Director                                     3067\n",
       "General Manager                              3060\n",
       "manager                                      2994\n",
       "teacher                                      2820\n",
       "owner                                        2727\n",
       "Engineer                                     2574\n",
       "President                                    2478\n",
       "driver                                       2319\n",
       "Vice President                               2283\n",
       "Attorney                                     2074\n",
       "Operations Manager                           1995\n",
       "Accountant                                   1978\n",
       "Administrative Assistant                     1943\n",
       "Sales Manager                                1780\n",
       "Police Officer                               1668\n",
       "Account Manager                              1665\n",
       "sales                                        1651\n",
       "supervisor                                   1611\n",
       "Executive Assistant                          1549\n",
       "Analyst                                      1494\n",
       "                                            ...  \n",
       "Mansfield Plumbing Products                     1\n",
       "The joule under Richfield mangement             1\n",
       "Circle Travel                                   1\n",
       "distillation                                    1\n",
       "Darien Park District                            1\n",
       "Teardown                                        1\n",
       "SOGDA Limited, Inc.                             1\n",
       "Program Attorney                                1\n",
       "MONARCH LEASING INC                             1\n",
       "Peconic Bay Medical Center                      1\n",
       "Work at home RN                                 1\n",
       "Senior private banker                           1\n",
       "southern star inc. dish network                 1\n",
       "USD 437 Auburn- Washburn school district        1\n",
       "Good Food Inc                                   1\n",
       "Sales Associate(floater)                        1\n",
       "Certified registered nurse anesthetist          1\n",
       "OpenSided MRI                                   1\n",
       "Staff Dev & Training Coordinator                1\n",
       "Building Surerintendent                         1\n",
       "SET Environmental                               1\n",
       "Warehouse Operation                             1\n",
       "LaSalle Bakery                                  1\n",
       "School Employees CU of WA                       1\n",
       "Sr. Creative Services Manager                   1\n",
       "office administrative assistant                 1\n",
       "Dechert-Hampe & Co.                             1\n",
       "Escalation Supervisor                           1\n",
       "FLIGHT NURSE                                    1\n",
       "director of staff development                   1\n",
       "Name: emp_title, Length: 290912, dtype: int64"
      ]
     },
     "execution_count": 17,
     "metadata": {},
     "output_type": "execute_result"
    }
   ],
   "source": [
    "data.emp_title.value_counts()"
   ]
  },
  {
   "cell_type": "code",
   "execution_count": 18,
   "metadata": {},
   "outputs": [],
   "source": [
    "# Dropping emp_title as it is having 290912 lables and it will not impact on model.\n",
    "data.drop('emp_title',inplace = True, axis = 1)"
   ]
  },
  {
   "cell_type": "code",
   "execution_count": 19,
   "metadata": {},
   "outputs": [
    {
     "data": {
      "text/plain": [
       "0    10+ years\n",
       "1     < 1 year\n",
       "2    10+ years\n",
       "3    10+ years\n",
       "4       1 year\n",
       "Name: emp_length, dtype: object"
      ]
     },
     "execution_count": 19,
     "metadata": {},
     "output_type": "execute_result"
    }
   ],
   "source": [
    "# Treatment for emp_length - Employment length in years.\n",
    "data.emp_length.head()"
   ]
  },
  {
   "cell_type": "code",
   "execution_count": 20,
   "metadata": {},
   "outputs": [
    {
     "data": {
      "text/plain": [
       "0    10\n",
       "1     1\n",
       "2    10\n",
       "3    10\n",
       "4     1\n",
       "Name: emp_length, dtype: object"
      ]
     },
     "execution_count": 20,
     "metadata": {},
     "output_type": "execute_result"
    }
   ],
   "source": [
    "data.emp_length = data.emp_length.str.replace(r'\\D', '')\n",
    "data.emp_length.head()"
   ]
  },
  {
   "cell_type": "code",
   "execution_count": 21,
   "metadata": {
    "scrolled": true
   },
   "outputs": [
    {
     "data": {
      "text/plain": [
       "43061"
      ]
     },
     "execution_count": 21,
     "metadata": {},
     "output_type": "execute_result"
    }
   ],
   "source": [
    "data.emp_length.isna().sum()"
   ]
  },
  {
   "cell_type": "code",
   "execution_count": 22,
   "metadata": {},
   "outputs": [
    {
     "data": {
      "text/plain": [
       "10    282090\n",
       "1     122452\n",
       "2      75986\n",
       "3      67392\n",
       "5      53812\n",
       "4      50643\n",
       "7      43204\n",
       "8      42421\n",
       "6      41446\n",
       "9      33462\n",
       "Name: emp_length, dtype: int64"
      ]
     },
     "execution_count": 22,
     "metadata": {},
     "output_type": "execute_result"
    }
   ],
   "source": [
    "data.emp_length.value_counts()"
   ]
  },
  {
   "cell_type": "code",
   "execution_count": 23,
   "metadata": {},
   "outputs": [
    {
     "data": {
      "text/plain": [
       "dtype('int32')"
      ]
     },
     "execution_count": 23,
     "metadata": {},
     "output_type": "execute_result"
    }
   ],
   "source": [
    "# Filling NA values\n",
    "data.emp_length.fillna(0, inplace = True)\n",
    "# Change Datatype of variable to numeric as it is represanting no of years\n",
    "data.emp_length = data.emp_length.astype('int32')\n",
    "data.emp_length.dtype"
   ]
  },
  {
   "cell_type": "code",
   "execution_count": 24,
   "metadata": {},
   "outputs": [
    {
     "data": {
      "text/plain": [
       "0     36 months\n",
       "1     60 months\n",
       "2     36 months\n",
       "3     36 months\n",
       "4     60 months\n",
       "Name: term, dtype: object"
      ]
     },
     "execution_count": 24,
     "metadata": {},
     "output_type": "execute_result"
    }
   ],
   "source": [
    "# Treatment for term Variable - The number of payments on the loan. Values are in months and can be either 36 or 60.\n",
    "data.term.head()"
   ]
  },
  {
   "cell_type": "code",
   "execution_count": 25,
   "metadata": {},
   "outputs": [
    {
     "data": {
      "text/plain": [
       " 36 months    600221\n",
       " 60 months    255748\n",
       "Name: term, dtype: int64"
      ]
     },
     "execution_count": 25,
     "metadata": {},
     "output_type": "execute_result"
    }
   ],
   "source": [
    "data.term.value_counts()"
   ]
  },
  {
   "cell_type": "code",
   "execution_count": 26,
   "metadata": {},
   "outputs": [
    {
     "data": {
      "text/plain": [
       "0    Jan-2016\n",
       "1    Sep-2013\n",
       "2    Jan-2016\n",
       "3    Jan-2015\n",
       "4    Jan-2016\n",
       "Name: last_credit_pull_d, dtype: object"
      ]
     },
     "execution_count": 26,
     "metadata": {},
     "output_type": "execute_result"
    }
   ],
   "source": [
    "# last_credit_pull_d - The most recent month XYZ corp. pulled credit for this loan\n",
    "data.last_credit_pull_d.head()"
   ]
  },
  {
   "cell_type": "code",
   "execution_count": 27,
   "metadata": {},
   "outputs": [
    {
     "data": {
      "text/plain": [
       "0         NaN\n",
       "1         NaN\n",
       "2         NaN\n",
       "3         NaN\n",
       "4    Feb-2016\n",
       "Name: next_pymnt_d, dtype: object"
      ]
     },
     "execution_count": 27,
     "metadata": {},
     "output_type": "execute_result"
    }
   ],
   "source": [
    "# next_pymnt_d - Next scheduled payment date\n",
    "data.next_pymnt_d.head()"
   ]
  },
  {
   "cell_type": "code",
   "execution_count": 28,
   "metadata": {},
   "outputs": [
    {
     "data": {
      "text/plain": [
       "0    Jan-1985\n",
       "1    Apr-1999\n",
       "2    Nov-2001\n",
       "3    Feb-1996\n",
       "4    Jan-1996\n",
       "Name: earliest_cr_line, dtype: object"
      ]
     },
     "execution_count": 28,
     "metadata": {},
     "output_type": "execute_result"
    }
   ],
   "source": [
    "# earliest_cr_line - The month the borrower's earliest reported credit line was opened\n",
    "data.earliest_cr_line.head()"
   ]
  },
  {
   "cell_type": "code",
   "execution_count": 29,
   "metadata": {},
   "outputs": [],
   "source": [
    "# Dropping Time Variables (Dates) from dataset\n",
    "date_cols = ['last_credit_pull_d', 'next_pymnt_d', 'earliest_cr_line']\n",
    "data.drop(date_cols,inplace = True, axis = 1)"
   ]
  },
  {
   "cell_type": "code",
   "execution_count": 30,
   "metadata": {},
   "outputs": [
    {
     "data": {
      "text/plain": [
       "0                Computer\n",
       "1                    bike\n",
       "2    real estate business\n",
       "3                personel\n",
       "4                Personal\n",
       "Name: title, dtype: object"
      ]
     },
     "execution_count": 30,
     "metadata": {},
     "output_type": "execute_result"
    }
   ],
   "source": [
    "# title - The loan title provided by the borrower\n",
    "data.title.head()"
   ]
  },
  {
   "cell_type": "code",
   "execution_count": 31,
   "metadata": {
    "scrolled": false
   },
   "outputs": [
    {
     "data": {
      "text/plain": [
       "Debt consolidation                          398089\n",
       "Credit card refinancing                     159228\n",
       "Home improvement                             38633\n",
       "Other                                        30522\n",
       "Debt Consolidation                           15469\n",
       "Major purchase                               11519\n",
       "Medical expenses                              6408\n",
       "Business                                      6325\n",
       "Car financing                                 5372\n",
       "Consolidation                                 5266\n",
       "debt consolidation                            4718\n",
       "Debt Consolidation Loan                       3744\n",
       "Moving and relocation                         3724\n",
       "Vacation                                      3640\n",
       "Credit Card Consolidation                     2326\n",
       "Home buying                                   2229\n",
       "consolidation                                 2120\n",
       "Personal Loan                                 2057\n",
       "Consolidation Loan                            1743\n",
       "Home Improvement                              1736\n",
       "Credit Card Refinance                         1442\n",
       "Credit Card Payoff                            1364\n",
       "Consolidate                                   1236\n",
       "Personal                                      1141\n",
       "Loan                                          1013\n",
       "Freedom                                        787\n",
       "Credit Card Loan                               776\n",
       "consolidate                                    737\n",
       "personal                                       736\n",
       "personal loan                                  704\n",
       "                                             ...  \n",
       "Debt Restructure                                 1\n",
       "Getter done                                      1\n",
       "Paul's Debit Consolidation                       1\n",
       "Debt.vacation                                    1\n",
       "Starving Artist Recovery Program                 1\n",
       "Future plans                                     1\n",
       "Travel Resorts of America TNC23                  1\n",
       "redit card payoff                                1\n",
       "hopefully                                        1\n",
       "Bye Bye Bank Loans                               1\n",
       "Seeking a Debt Consolidation Loan                1\n",
       "Pay off 401K Loan                                1\n",
       " Credit Card Payment                             1\n",
       "debt consilidation 2012                          1\n",
       "VacDebtLoan                                      1\n",
       "crisol                                           1\n",
       "Debt consillidation                              1\n",
       "Debt Consolidation Step 1                        1\n",
       "MRC Loan                                         1\n",
       "HOME IMPROVEMENT SHORT TERM LOAN                 1\n",
       "Helping to relieve monthly payments !!           1\n",
       "Aircraft challenger                              1\n",
       "Debt consolidation for transition to phd         1\n",
       "Art Institute of Washington                      1\n",
       "Credit Cards Be Gone Loan                        1\n",
       "longbeach                                        1\n",
       "Getting out of debt !yay!                        1\n",
       "Old house needs help                             1\n",
       "combined cards                                   1\n",
       "UU                                               1\n",
       "Name: title, Length: 60991, dtype: int64"
      ]
     },
     "execution_count": 31,
     "metadata": {},
     "output_type": "execute_result"
    }
   ],
   "source": [
    "data.title.value_counts()"
   ]
  },
  {
   "cell_type": "code",
   "execution_count": 32,
   "metadata": {},
   "outputs": [],
   "source": [
    "data.drop('title', axis = 1, inplace = True)"
   ]
  },
  {
   "cell_type": "code",
   "execution_count": 33,
   "metadata": {},
   "outputs": [
    {
     "data": {
      "text/plain": [
       "0           Verified\n",
       "1    Source Verified\n",
       "2       Not Verified\n",
       "3    Source Verified\n",
       "4    Source Verified\n",
       "Name: verification_status, dtype: object"
      ]
     },
     "execution_count": 33,
     "metadata": {},
     "output_type": "execute_result"
    }
   ],
   "source": [
    "# verification_status - Was the income source verified\n",
    "data.verification_status.head()"
   ]
  },
  {
   "cell_type": "code",
   "execution_count": 34,
   "metadata": {},
   "outputs": [],
   "source": [
    "# Mapping and Set Lable for 'Source Verified' to 'Verified'\n",
    "data.verification_status = data.verification_status.map({'Verified': 'Verified', 'Source Verified': 'Verified','Not Verified':'Not Verified'})"
   ]
  },
  {
   "cell_type": "code",
   "execution_count": 35,
   "metadata": {},
   "outputs": [
    {
     "data": {
      "text/plain": [
       "0    INDIVIDUAL\n",
       "1    INDIVIDUAL\n",
       "2    INDIVIDUAL\n",
       "3    INDIVIDUAL\n",
       "4    INDIVIDUAL\n",
       "Name: application_type, dtype: object"
      ]
     },
     "execution_count": 35,
     "metadata": {},
     "output_type": "execute_result"
    }
   ],
   "source": [
    "# application_type - Indicates whether the loan is an individual application or a joint application with two co-borrowers\n",
    "data.application_type.head()"
   ]
  },
  {
   "cell_type": "code",
   "execution_count": 36,
   "metadata": {
    "scrolled": true
   },
   "outputs": [
    {
     "data": {
      "text/plain": [
       "INDIVIDUAL    855527\n",
       "JOINT            442\n",
       "Name: application_type, dtype: int64"
      ]
     },
     "execution_count": 36,
     "metadata": {},
     "output_type": "execute_result"
    }
   ],
   "source": [
    "data.application_type.value_counts()"
   ]
  },
  {
   "cell_type": "code",
   "execution_count": 37,
   "metadata": {},
   "outputs": [],
   "source": [
    "# application_type is not having sufficient Joint Label cases so We can Drop it\n",
    "data.drop('application_type', axis= 1, inplace = True)"
   ]
  },
  {
   "cell_type": "code",
   "execution_count": 38,
   "metadata": {},
   "outputs": [
    {
     "data": {
      "text/plain": [
       "0    AZ\n",
       "1    GA\n",
       "2    IL\n",
       "3    CA\n",
       "4    OR\n",
       "Name: addr_state, dtype: object"
      ]
     },
     "execution_count": 38,
     "metadata": {},
     "output_type": "execute_result"
    }
   ],
   "source": [
    "# addr_state - The state provided by the borrower in the loan application\n",
    "data.addr_state.head()"
   ]
  },
  {
   "cell_type": "code",
   "execution_count": 39,
   "metadata": {},
   "outputs": [
    {
     "name": "stdout",
     "output_type": "stream",
     "text": [
      "Total No of values for state : 51\n"
     ]
    }
   ],
   "source": [
    "print('Total No of values for state : {}'.format(len(data.addr_state.value_counts())))"
   ]
  },
  {
   "cell_type": "code",
   "execution_count": 40,
   "metadata": {},
   "outputs": [
    {
     "data": {
      "text/plain": [
       "0       credit_card\n",
       "1               car\n",
       "2    small_business\n",
       "3             other\n",
       "4             other\n",
       "Name: purpose, dtype: object"
      ]
     },
     "execution_count": 40,
     "metadata": {},
     "output_type": "execute_result"
    }
   ],
   "source": [
    "# purpose - A category provided by the borrower for the loan request\n",
    "data.purpose.head()"
   ]
  },
  {
   "cell_type": "code",
   "execution_count": 41,
   "metadata": {},
   "outputs": [
    {
     "data": {
      "text/plain": [
       "debt_consolidation    505392\n",
       "credit_card           200144\n",
       "home_improvement       49956\n",
       "other                  40949\n",
       "major_purchase         16587\n",
       "small_business          9785\n",
       "car                     8593\n",
       "medical                 8193\n",
       "moving                  5160\n",
       "vacation                4542\n",
       "house                   3513\n",
       "wedding                 2280\n",
       "renewable_energy         549\n",
       "educational              326\n",
       "Name: purpose, dtype: int64"
      ]
     },
     "execution_count": 41,
     "metadata": {},
     "output_type": "execute_result"
    }
   ],
   "source": [
    "data.purpose.value_counts()"
   ]
  },
  {
   "cell_type": "code",
   "execution_count": 42,
   "metadata": {},
   "outputs": [],
   "source": [
    "data.purpose = data.purpose.map({'debt_consolidation': 'debt_consolidation','credit_card':'credit_card',\n",
    "'home_improvement':'home_improvement', 'major_purchase':'Personal', 'small_business':'Personal', 'car':'Personal', \n",
    "'medical':'Personal','moving':'Personal','vacation':'Personal', 'house':'home_improvement', 'wedding':'Personal', \n",
    "'renewable_energy':'Personal', 'educational':'Personal'})"
   ]
  },
  {
   "cell_type": "markdown",
   "metadata": {},
   "source": [
    "Here we add <b>'Personal'</b> class for all personal reason and club all together. And House is replaced with Home Improvement."
   ]
  },
  {
   "cell_type": "code",
   "execution_count": 43,
   "metadata": {},
   "outputs": [
    {
     "data": {
      "text/plain": [
       "debt_consolidation    505392\n",
       "credit_card           200144\n",
       "Personal               56015\n",
       "home_improvement       53469\n",
       "Name: purpose, dtype: int64"
      ]
     },
     "execution_count": 43,
     "metadata": {},
     "output_type": "execute_result"
    }
   ],
   "source": [
    "data.purpose.value_counts()"
   ]
  },
  {
   "cell_type": "code",
   "execution_count": 44,
   "metadata": {},
   "outputs": [],
   "source": [
    "data.purpose.fillna('Other', inplace = True)"
   ]
  },
  {
   "cell_type": "code",
   "execution_count": 45,
   "metadata": {},
   "outputs": [
    {
     "data": {
      "text/plain": [
       "<matplotlib.axes._subplots.AxesSubplot at 0x2d583e2828>"
      ]
     },
     "execution_count": 45,
     "metadata": {},
     "output_type": "execute_result"
    },
    {
     "data": {
      "image/png": "[encoded data removed]",
      "text/plain": [
       "<Figure size 432x288 with 1 Axes>"
      ]
     },
     "metadata": {
      "needs_background": "light"
     },
     "output_type": "display_data"
    }
   ],
   "source": [
    "# loan_amnt - The listed amount of the loan applied for by the borrower.\n",
    "data.boxplot(column =\"loan_amnt\")"
   ]
  },
  {
   "cell_type": "code",
   "execution_count": 46,
   "metadata": {},
   "outputs": [
    {
     "data": {
      "text/plain": [
       "0    RENT\n",
       "1    RENT\n",
       "2    RENT\n",
       "3    RENT\n",
       "4    RENT\n",
       "Name: home_ownership, dtype: object"
      ]
     },
     "execution_count": 46,
     "metadata": {},
     "output_type": "execute_result"
    }
   ],
   "source": [
    "# home_ownership - The home ownership status provided by the borrower during registratio\n",
    "data.home_ownership.head()"
   ]
  },
  {
   "cell_type": "code",
   "execution_count": 47,
   "metadata": {},
   "outputs": [
    {
     "data": {
      "text/plain": [
       "MORTGAGE    429106\n",
       "RENT        342535\n",
       "OWN          84136\n",
       "OTHER          144\n",
       "NONE            45\n",
       "ANY              3\n",
       "Name: home_ownership, dtype: int64"
      ]
     },
     "execution_count": 47,
     "metadata": {},
     "output_type": "execute_result"
    }
   ],
   "source": [
    "data.home_ownership.value_counts()"
   ]
  },
  {
   "cell_type": "code",
   "execution_count": 48,
   "metadata": {},
   "outputs": [],
   "source": [
    "# Replacing OTHER , NONE , ANY to Other for Reducing Columns while Dummy Coding\n",
    "data.home_ownership = data.home_ownership.map({'MORTGAGE':'Mortgage', 'RENT': 'Rent', 'OWN':'Own', 'OTHER':'Other', 'NONE': 'Other','ANY':'Other' })"
   ]
  },
  {
   "cell_type": "code",
   "execution_count": 49,
   "metadata": {},
   "outputs": [
    {
     "data": {
      "text/plain": [
       "Mortgage    429106\n",
       "Rent        342535\n",
       "Own          84136\n",
       "Other          192\n",
       "Name: home_ownership, dtype: int64"
      ]
     },
     "execution_count": 49,
     "metadata": {},
     "output_type": "execute_result"
    }
   ],
   "source": [
    "data.home_ownership.value_counts()"
   ]
  },
  {
   "cell_type": "code",
   "execution_count": 50,
   "metadata": {},
   "outputs": [
    {
     "data": {
      "text/plain": [
       "0    B\n",
       "1    C\n",
       "2    C\n",
       "3    C\n",
       "4    B\n",
       "Name: grade, dtype: object"
      ]
     },
     "execution_count": 50,
     "metadata": {},
     "output_type": "execute_result"
    }
   ],
   "source": [
    "# grade - Assigned loan grade\n",
    "data.grade.head()"
   ]
  },
  {
   "cell_type": "code",
   "execution_count": 51,
   "metadata": {},
   "outputs": [
    {
     "data": {
      "text/plain": [
       "0    B2\n",
       "1    C4\n",
       "2    C5\n",
       "3    C1\n",
       "4    B5\n",
       "Name: sub_grade, dtype: object"
      ]
     },
     "execution_count": 51,
     "metadata": {},
     "output_type": "execute_result"
    }
   ],
   "source": [
    "# sub_grade - Assigned loan sub_grade\n",
    "data.sub_grade.head()"
   ]
  },
  {
   "cell_type": "code",
   "execution_count": 52,
   "metadata": {},
   "outputs": [],
   "source": [
    "# Grade and Sub_grade are similar kind of factor. In this case Sub_grade can be better parameter to consider into model building process. So, we can remove Grade from dataset.\n",
    "data.drop('grade',inplace = True, axis = 1)"
   ]
  },
  {
   "cell_type": "code",
   "execution_count": 53,
   "metadata": {},
   "outputs": [
    {
     "data": {
      "text/plain": [
       "0     3.0\n",
       "1     3.0\n",
       "2     2.0\n",
       "3    10.0\n",
       "4    15.0\n",
       "Name: open_acc, dtype: float64"
      ]
     },
     "execution_count": 53,
     "metadata": {},
     "output_type": "execute_result"
    }
   ],
   "source": [
    "# open_acc - The number of in the borrower's credit file.\n",
    "data.open_acc.head()"
   ]
  },
  {
   "cell_type": "code",
   "execution_count": 54,
   "metadata": {},
   "outputs": [
    {
     "data": {
      "text/plain": [
       "dtype('int32')"
      ]
     },
     "execution_count": 54,
     "metadata": {},
     "output_type": "execute_result"
    }
   ],
   "source": [
    "# Converting Datatype of open_acc as it is representing numbers\n",
    "data.open_acc = data.open_acc.astype('int32')\n",
    "data.open_acc.dtype"
   ]
  },
  {
   "cell_type": "code",
   "execution_count": 55,
   "metadata": {},
   "outputs": [
    {
     "data": {
      "text/plain": [
       "0    0.0\n",
       "1    0.0\n",
       "2    0.0\n",
       "3    0.0\n",
       "4    0.0\n",
       "Name: delinq_2yrs, dtype: float64"
      ]
     },
     "execution_count": 55,
     "metadata": {},
     "output_type": "execute_result"
    }
   ],
   "source": [
    "# delinq_2yrs - The number of 30+ days past-due incidences of delinquency in the borrower's credit file for the past 2 years\n",
    "data.delinq_2yrs.head()"
   ]
  },
  {
   "cell_type": "code",
   "execution_count": 56,
   "metadata": {},
   "outputs": [],
   "source": [
    "# Here we are converting this feature into class variable based on occurances of delinquency.\n",
    "data['delinq_2yrs'] = np.where((data['delinq_2yrs'] < 4), 'Low' , 'High')"
   ]
  },
  {
   "cell_type": "code",
   "execution_count": 57,
   "metadata": {},
   "outputs": [
    {
     "data": {
      "text/plain": [
       "0     5000.0\n",
       "1     2500.0\n",
       "2     2400.0\n",
       "3    10000.0\n",
       "4     3000.0\n",
       "Name: funded_amnt, dtype: float64"
      ]
     },
     "execution_count": 57,
     "metadata": {},
     "output_type": "execute_result"
    }
   ],
   "source": [
    "# funded_amnt - The total amount committed to that loan at that point in time.\n",
    "data.funded_amnt.head()"
   ]
  },
  {
   "cell_type": "code",
   "execution_count": 58,
   "metadata": {
    "scrolled": true
   },
   "outputs": [
    {
     "data": {
      "text/plain": [
       "<matplotlib.axes._subplots.AxesSubplot at 0x2d16fc62e8>"
      ]
     },
     "execution_count": 58,
     "metadata": {},
     "output_type": "execute_result"
    },
    {
     "data": {
      "image/png": "[encoded data removed]",
      "text/plain": [
       "<Figure size 432x288 with 1 Axes>"
      ]
     },
     "metadata": {
      "needs_background": "light"
     },
     "output_type": "display_data"
    }
   ],
   "source": [
    "data.boxplot(column =\"funded_amnt\")"
   ]
  },
  {
   "cell_type": "code",
   "execution_count": 59,
   "metadata": {
    "scrolled": true
   },
   "outputs": [
    {
     "data": {
      "text/plain": [
       "<matplotlib.axes._subplots.AxesSubplot at 0x2d060d17f0>"
      ]
     },
     "execution_count": 59,
     "metadata": {},
     "output_type": "execute_result"
    },
    {
     "data": {
      "image/png": "[encoded data removed]",
      "text/plain": [
       "<Figure size 432x288 with 1 Axes>"
      ]
     },
     "metadata": {
      "needs_background": "light"
     },
     "output_type": "display_data"
    }
   ],
   "source": [
    "sns.distplot(np.sqrt(data.funded_amnt))"
   ]
  },
  {
   "cell_type": "code",
   "execution_count": 60,
   "metadata": {},
   "outputs": [
    {
     "data": {
      "text/plain": [
       "0     4975.0\n",
       "1     2500.0\n",
       "2     2400.0\n",
       "3    10000.0\n",
       "4     3000.0\n",
       "Name: funded_amnt_inv, dtype: float64"
      ]
     },
     "execution_count": 60,
     "metadata": {},
     "output_type": "execute_result"
    }
   ],
   "source": [
    "# funded_amnt_inv - The total amount committed by investors for that loan at that point in time.\n",
    "data.funded_amnt_inv.head()"
   ]
  },
  {
   "cell_type": "code",
   "execution_count": 61,
   "metadata": {
    "scrolled": true
   },
   "outputs": [
    {
     "data": {
      "text/plain": [
       "<matplotlib.axes._subplots.AxesSubplot at 0x2d061cd668>"
      ]
     },
     "execution_count": 61,
     "metadata": {},
     "output_type": "execute_result"
    },
    {
     "data": {
      "image/png": "[encoded data removed]",
      "text/plain": [
       "<Figure size 432x288 with 1 Axes>"
      ]
     },
     "metadata": {
      "needs_background": "light"
     },
     "output_type": "display_data"
    }
   ],
   "source": [
    "sns.distplot(np.sqrt(data.funded_amnt_inv))"
   ]
  },
  {
   "cell_type": "code",
   "execution_count": 62,
   "metadata": {},
   "outputs": [
    {
     "data": {
      "text/html": [
       "<div>\n",
       "<style scoped>\n",
       "    .dataframe tbody tr th:only-of-type {\n",
       "        vertical-align: middle;\n",
       "    }\n",
       "\n",
       "    .dataframe tbody tr th {\n",
       "        vertical-align: top;\n",
       "    }\n",
       "\n",
       "    .dataframe thead th {\n",
       "        text-align: right;\n",
       "    }\n",
       "</style>\n",
       "<table border=\"1\" class=\"dataframe\">\n",
       "  <thead>\n",
       "    <tr style=\"text-align: right;\">\n",
       "      <th></th>\n",
       "      <th>funded_amnt_inv</th>\n",
       "    </tr>\n",
       "  </thead>\n",
       "  <tbody>\n",
       "    <tr>\n",
       "      <th>funded_amnt_inv</th>\n",
       "      <td>1.0</td>\n",
       "    </tr>\n",
       "  </tbody>\n",
       "</table>\n",
       "</div>"
      ],
      "text/plain": [
       "                 funded_amnt_inv\n",
       "funded_amnt_inv              1.0"
      ]
     },
     "execution_count": 62,
     "metadata": {},
     "output_type": "execute_result"
    }
   ],
   "source": [
    "# Checking Corelation with funded_amnt_inv and funded_amnt for avoid Multicolinearity\n",
    "funced_df = pd.DataFrame(data.funded_amnt_inv, data.funded_amnt)\n",
    "funced_df.corr()"
   ]
  },
  {
   "cell_type": "markdown",
   "metadata": {},
   "source": [
    "NOTE: As we can see funded_amnt_inv and funded_amnt is having perfect corelation so we can drop one of them."
   ]
  },
  {
   "cell_type": "code",
   "execution_count": 63,
   "metadata": {},
   "outputs": [],
   "source": [
    "data.drop('funded_amnt_inv', axis= 1, inplace = True)"
   ]
  },
  {
   "cell_type": "code",
   "execution_count": 64,
   "metadata": {
    "scrolled": true
   },
   "outputs": [
    {
     "data": {
      "text/plain": [
       "0    10.65\n",
       "1    15.27\n",
       "2    15.96\n",
       "3    13.49\n",
       "4    12.69\n",
       "Name: int_rate, dtype: float64"
      ]
     },
     "execution_count": 64,
     "metadata": {},
     "output_type": "execute_result"
    }
   ],
   "source": [
    "# int_rate - Interest Rate on the loan\n",
    "data.int_rate.head()"
   ]
  },
  {
   "cell_type": "code",
   "execution_count": 65,
   "metadata": {},
   "outputs": [
    {
     "data": {
      "text/plain": [
       "0    162.87\n",
       "1     59.83\n",
       "2     84.33\n",
       "3    339.31\n",
       "4     67.79\n",
       "Name: installment, dtype: float64"
      ]
     },
     "execution_count": 65,
     "metadata": {},
     "output_type": "execute_result"
    }
   ],
   "source": [
    "# installment - The monthly payment owed by the borrower if the loan originates.\n",
    "data.installment.head()"
   ]
  },
  {
   "cell_type": "code",
   "execution_count": 66,
   "metadata": {},
   "outputs": [
    {
     "data": {
      "text/plain": [
       "0    24000.0\n",
       "1    30000.0\n",
       "2    12252.0\n",
       "3    49200.0\n",
       "4    80000.0\n",
       "Name: annual_inc, dtype: float64"
      ]
     },
     "execution_count": 66,
     "metadata": {},
     "output_type": "execute_result"
    }
   ],
   "source": [
    "# annual_inc - The self-reported annual income provided by the borrower during registration.\n",
    "data.annual_inc.head()"
   ]
  },
  {
   "cell_type": "code",
   "execution_count": 67,
   "metadata": {},
   "outputs": [
    {
     "data": {
      "text/plain": [
       "0    n\n",
       "1    n\n",
       "2    n\n",
       "3    n\n",
       "4    n\n",
       "Name: pymnt_plan, dtype: object"
      ]
     },
     "execution_count": 67,
     "metadata": {},
     "output_type": "execute_result"
    }
   ],
   "source": [
    "# pymnt_plan - Indicates if a payment plan has been put in place for the loan\n",
    "data.pymnt_plan.head()"
   ]
  },
  {
   "cell_type": "code",
   "execution_count": 68,
   "metadata": {},
   "outputs": [
    {
     "data": {
      "text/plain": [
       "n    855964\n",
       "y         5\n",
       "Name: pymnt_plan, dtype: int64"
      ]
     },
     "execution_count": 68,
     "metadata": {},
     "output_type": "execute_result"
    }
   ],
   "source": [
    "data.pymnt_plan.value_counts()"
   ]
  },
  {
   "cell_type": "code",
   "execution_count": 69,
   "metadata": {},
   "outputs": [],
   "source": [
    "# We can't consider pymnt_plan column as it is showing same value for almost all records\n",
    "data.drop('pymnt_plan', axis = 1, inplace= True)"
   ]
  },
  {
   "cell_type": "code",
   "execution_count": 70,
   "metadata": {},
   "outputs": [
    {
     "data": {
      "text/plain": [
       "0    27.65\n",
       "1     1.00\n",
       "2     8.72\n",
       "3    20.00\n",
       "4    17.94\n",
       "Name: dti, dtype: float64"
      ]
     },
     "execution_count": 70,
     "metadata": {},
     "output_type": "execute_result"
    }
   ],
   "source": [
    "# dti - A ratio calculated using the borrower’s total monthly debt payments on the total debt obligations, \n",
    "# excluding mortgage and the requested loan, divided by the borrower’s self-reported monthly income.\n",
    "data.dti.head()"
   ]
  },
  {
   "cell_type": "code",
   "execution_count": 71,
   "metadata": {},
   "outputs": [
    {
     "data": {
      "text/plain": [
       "0    0.0\n",
       "1    0.0\n",
       "2    0.0\n",
       "3    0.0\n",
       "4    0.0\n",
       "Name: pub_rec, dtype: float64"
      ]
     },
     "execution_count": 71,
     "metadata": {},
     "output_type": "execute_result"
    }
   ],
   "source": [
    "# pub_rec - Number of derogatory public records\n",
    "data.pub_rec.head()"
   ]
  },
  {
   "cell_type": "code",
   "execution_count": 72,
   "metadata": {},
   "outputs": [
    {
     "data": {
      "text/plain": [
       "0.0     725455\n",
       "1.0     108920\n",
       "2.0      14250\n",
       "3.0       4305\n",
       "4.0       1496\n",
       "5.0        728\n",
       "6.0        366\n",
       "7.0        167\n",
       "8.0        110\n",
       "9.0         46\n",
       "10.0        41\n",
       "11.0        21\n",
       "12.0        14\n",
       "13.0        12\n",
       "15.0         6\n",
       "18.0         5\n",
       "16.0         5\n",
       "21.0         4\n",
       "17.0         3\n",
       "14.0         2\n",
       "19.0         2\n",
       "49.0         2\n",
       "40.0         1\n",
       "26.0         1\n",
       "63.0         1\n",
       "22.0         1\n",
       "28.0         1\n",
       "86.0         1\n",
       "34.0         1\n",
       "23.0         1\n",
       "54.0         1\n",
       "Name: pub_rec, dtype: int64"
      ]
     },
     "execution_count": 72,
     "metadata": {},
     "output_type": "execute_result"
    }
   ],
   "source": [
    "data.pub_rec.value_counts()"
   ]
  },
  {
   "cell_type": "code",
   "execution_count": 73,
   "metadata": {},
   "outputs": [],
   "source": [
    "#Feature Engineering for pub_rec. If Number of derogatory public records is less than 3 will go for good else go in fever of bad\n",
    "data.pub_rec = np.where(data.pub_rec <= 2, 'Good', 'Bad')"
   ]
  },
  {
   "cell_type": "code",
   "execution_count": 74,
   "metadata": {},
   "outputs": [
    {
     "data": {
      "text/plain": [
       "0    13648.0\n",
       "1     1687.0\n",
       "2     2956.0\n",
       "3     5598.0\n",
       "4    27783.0\n",
       "Name: revol_bal, dtype: float64"
      ]
     },
     "execution_count": 74,
     "metadata": {},
     "output_type": "execute_result"
    }
   ],
   "source": [
    "# revol_bal - Total credit revolving balance\n",
    "data.revol_bal.head()"
   ]
  },
  {
   "cell_type": "code",
   "execution_count": 75,
   "metadata": {},
   "outputs": [
    {
     "data": {
      "text/plain": [
       "0    83.7\n",
       "1     9.4\n",
       "2    98.5\n",
       "3    21.0\n",
       "4    53.9\n",
       "Name: revol_util, dtype: float64"
      ]
     },
     "execution_count": 75,
     "metadata": {},
     "output_type": "execute_result"
    }
   ],
   "source": [
    "# revol_util - Revolving line utilization rate, or \n",
    "# the amount of credit the borrower is using relative to all available revolving credit.\n",
    "data.revol_util.head()"
   ]
  },
  {
   "cell_type": "code",
   "execution_count": 76,
   "metadata": {},
   "outputs": [],
   "source": [
    "data.revol_util.fillna(data.revol_util.mean(),inplace = True )"
   ]
  },
  {
   "cell_type": "code",
   "execution_count": 77,
   "metadata": {},
   "outputs": [
    {
     "data": {
      "text/plain": [
       "0     9.0\n",
       "1     4.0\n",
       "2    10.0\n",
       "3    37.0\n",
       "4    38.0\n",
       "Name: total_acc, dtype: float64"
      ]
     },
     "execution_count": 77,
     "metadata": {},
     "output_type": "execute_result"
    }
   ],
   "source": [
    "# total_acc - The total number of credit lines currently in the borrower's credit file\n",
    "data.total_acc.head()"
   ]
  },
  {
   "cell_type": "code",
   "execution_count": 78,
   "metadata": {},
   "outputs": [
    {
     "data": {
      "text/plain": [
       "0      0.0\n",
       "1      0.0\n",
       "2      0.0\n",
       "3      0.0\n",
       "4    766.9\n",
       "Name: out_prncp, dtype: float64"
      ]
     },
     "execution_count": 78,
     "metadata": {},
     "output_type": "execute_result"
    }
   ],
   "source": [
    "# out_prncp - Remaining outstanding principal for total amount funded\n",
    "data.out_prncp.head()"
   ]
  },
  {
   "cell_type": "code",
   "execution_count": 79,
   "metadata": {},
   "outputs": [
    {
     "data": {
      "text/plain": [
       "0      0.0\n",
       "1      0.0\n",
       "2      0.0\n",
       "3      0.0\n",
       "4    766.9\n",
       "Name: out_prncp_inv, dtype: float64"
      ]
     },
     "execution_count": 79,
     "metadata": {},
     "output_type": "execute_result"
    }
   ],
   "source": [
    "# out_prncp_inv - Remaining outstanding principal for portion of total amount funded by investors\n",
    "data.out_prncp_inv.head()"
   ]
  },
  {
   "cell_type": "code",
   "execution_count": 80,
   "metadata": {},
   "outputs": [
    {
     "data": {
      "text/html": [
       "<div>\n",
       "<style scoped>\n",
       "    .dataframe tbody tr th:only-of-type {\n",
       "        vertical-align: middle;\n",
       "    }\n",
       "\n",
       "    .dataframe tbody tr th {\n",
       "        vertical-align: top;\n",
       "    }\n",
       "\n",
       "    .dataframe thead th {\n",
       "        text-align: right;\n",
       "    }\n",
       "</style>\n",
       "<table border=\"1\" class=\"dataframe\">\n",
       "  <thead>\n",
       "    <tr style=\"text-align: right;\">\n",
       "      <th></th>\n",
       "      <th>out_prncp_inv</th>\n",
       "    </tr>\n",
       "  </thead>\n",
       "  <tbody>\n",
       "    <tr>\n",
       "      <th>out_prncp_inv</th>\n",
       "      <td>1.0</td>\n",
       "    </tr>\n",
       "  </tbody>\n",
       "</table>\n",
       "</div>"
      ],
      "text/plain": [
       "               out_prncp_inv\n",
       "out_prncp_inv            1.0"
      ]
     },
     "execution_count": 80,
     "metadata": {},
     "output_type": "execute_result"
    }
   ],
   "source": [
    "# Checking Corelation with out_prncp_inv and out_prncp for avoid Multicolinearity\n",
    "out_prncp_df = pd.DataFrame(data.out_prncp_inv, data.out_prncp)\n",
    "out_prncp_df.corr()"
   ]
  },
  {
   "cell_type": "markdown",
   "metadata": {},
   "source": [
    "NOTE: As we can see out_prncp_inv and out_prncp are perfectly corelated with eachother so we can drop out_prncp_inv form dataset to avoid multi-colinearity."
   ]
  },
  {
   "cell_type": "code",
   "execution_count": 81,
   "metadata": {},
   "outputs": [],
   "source": [
    "data.drop('out_prncp_inv', axis=1, inplace= True)"
   ]
  },
  {
   "cell_type": "code",
   "execution_count": 82,
   "metadata": {},
   "outputs": [
    {
     "data": {
      "text/plain": [
       "0     5861.071414\n",
       "1     1008.710000\n",
       "2     3003.653644\n",
       "3    12226.302212\n",
       "4     3242.170000\n",
       "Name: total_pymnt, dtype: float64"
      ]
     },
     "execution_count": 82,
     "metadata": {},
     "output_type": "execute_result"
    }
   ],
   "source": [
    "# total_pymnt - Payments received to date for total amount funded\n",
    "data.total_pymnt.head()"
   ]
  },
  {
   "cell_type": "code",
   "execution_count": 83,
   "metadata": {
    "scrolled": true
   },
   "outputs": [
    {
     "data": {
      "text/plain": [
       "0     5831.78\n",
       "1     1008.71\n",
       "2     3003.65\n",
       "3    12226.30\n",
       "4     3242.17\n",
       "Name: total_pymnt_inv, dtype: float64"
      ]
     },
     "execution_count": 83,
     "metadata": {},
     "output_type": "execute_result"
    }
   ],
   "source": [
    "# total_pymnt_inv - Payments received to date for portion of total amount funded by investors\n",
    "data.total_pymnt_inv.head()"
   ]
  },
  {
   "cell_type": "code",
   "execution_count": 84,
   "metadata": {},
   "outputs": [
    {
     "data": {
      "text/html": [
       "<div>\n",
       "<style scoped>\n",
       "    .dataframe tbody tr th:only-of-type {\n",
       "        vertical-align: middle;\n",
       "    }\n",
       "\n",
       "    .dataframe tbody tr th {\n",
       "        vertical-align: top;\n",
       "    }\n",
       "\n",
       "    .dataframe thead th {\n",
       "        text-align: right;\n",
       "    }\n",
       "</style>\n",
       "<table border=\"1\" class=\"dataframe\">\n",
       "  <thead>\n",
       "    <tr style=\"text-align: right;\">\n",
       "      <th></th>\n",
       "      <th>total_pymnt_inv</th>\n",
       "    </tr>\n",
       "  </thead>\n",
       "  <tbody>\n",
       "    <tr>\n",
       "      <th>total_pymnt_inv</th>\n",
       "      <td>1.0</td>\n",
       "    </tr>\n",
       "  </tbody>\n",
       "</table>\n",
       "</div>"
      ],
      "text/plain": [
       "                 total_pymnt_inv\n",
       "total_pymnt_inv              1.0"
      ]
     },
     "execution_count": 84,
     "metadata": {},
     "output_type": "execute_result"
    }
   ],
   "source": [
    "# Checking Corelation with total_pymnt_inv and total_pymnt for avoid Multicolinearity\n",
    "out_prncp_df = pd.DataFrame(data.total_pymnt_inv, data.total_pymnt)\n",
    "out_prncp_df.corr()"
   ]
  },
  {
   "cell_type": "markdown",
   "metadata": {},
   "source": [
    "NOTE: As we can see total_pymnt_inv and total_pymnt are perfectly corelated with eachother so we can drop out_prncp_inv form \n",
    "dataset to avoid multi-colinearity."
   ]
  },
  {
   "cell_type": "code",
   "execution_count": 85,
   "metadata": {},
   "outputs": [],
   "source": [
    "data.drop('total_pymnt_inv', axis=1, inplace= True)"
   ]
  },
  {
   "cell_type": "code",
   "execution_count": 86,
   "metadata": {},
   "outputs": [
    {
     "data": {
      "text/plain": [
       "0     5000.00\n",
       "1      456.46\n",
       "2     2400.00\n",
       "3    10000.00\n",
       "4     2233.10\n",
       "Name: total_rec_prncp, dtype: float64"
      ]
     },
     "execution_count": 86,
     "metadata": {},
     "output_type": "execute_result"
    }
   ],
   "source": [
    "# total_rec_prncp - Principal received to date\n",
    "data.total_rec_prncp.head()"
   ]
  },
  {
   "cell_type": "code",
   "execution_count": 87,
   "metadata": {},
   "outputs": [
    {
     "data": {
      "text/plain": [
       "0     861.07\n",
       "1     435.17\n",
       "2     603.65\n",
       "3    2209.33\n",
       "4    1009.07\n",
       "Name: total_rec_int, dtype: float64"
      ]
     },
     "execution_count": 87,
     "metadata": {},
     "output_type": "execute_result"
    }
   ],
   "source": [
    "# total_rec_int - Interest received to date\n",
    "data.total_rec_int.head()"
   ]
  },
  {
   "cell_type": "code",
   "execution_count": 88,
   "metadata": {
    "scrolled": true
   },
   "outputs": [
    {
     "data": {
      "text/plain": [
       "0    0.00\n",
       "1    1.11\n",
       "2    0.00\n",
       "3    0.00\n",
       "4    0.00\n",
       "Name: collection_recovery_fee, dtype: float64"
      ]
     },
     "execution_count": 88,
     "metadata": {},
     "output_type": "execute_result"
    }
   ],
   "source": [
    "# collection_recovery_fee - post charge off collection fee\n",
    "data.collection_recovery_fee.head()"
   ]
  },
  {
   "cell_type": "code",
   "execution_count": 89,
   "metadata": {},
   "outputs": [
    {
     "data": {
      "text/plain": [
       "0      0.00\n",
       "1    117.08\n",
       "2      0.00\n",
       "3      0.00\n",
       "4      0.00\n",
       "Name: recoveries, dtype: float64"
      ]
     },
     "execution_count": 89,
     "metadata": {},
     "output_type": "execute_result"
    }
   ],
   "source": [
    "# recoveries - post charge off gross recovery\n",
    "data.recoveries.head()"
   ]
  },
  {
   "cell_type": "code",
   "execution_count": 90,
   "metadata": {},
   "outputs": [
    {
     "data": {
      "text/plain": [
       "0    Jan-2015\n",
       "1    Apr-2013\n",
       "2    Jun-2014\n",
       "3    Jan-2015\n",
       "4    Jan-2016\n",
       "Name: last_pymnt_d, dtype: object"
      ]
     },
     "execution_count": 90,
     "metadata": {},
     "output_type": "execute_result"
    }
   ],
   "source": [
    "# last_pymnt_d - Last month payment was received\n",
    "data.last_pymnt_d.head()"
   ]
  },
  {
   "cell_type": "code",
   "execution_count": 91,
   "metadata": {},
   "outputs": [],
   "source": [
    "data.drop('last_pymnt_d', inplace = True, axis = 1)"
   ]
  },
  {
   "cell_type": "code",
   "execution_count": 92,
   "metadata": {},
   "outputs": [
    {
     "data": {
      "text/plain": [
       "0    171.62\n",
       "1    119.66\n",
       "2    649.91\n",
       "3    357.48\n",
       "4     67.79\n",
       "Name: last_pymnt_amnt, dtype: float64"
      ]
     },
     "execution_count": 92,
     "metadata": {},
     "output_type": "execute_result"
    }
   ],
   "source": [
    "# last_pymnt_amnt - Last total payment amount received\n",
    "data.last_pymnt_amnt.head()"
   ]
  },
  {
   "cell_type": "code",
   "execution_count": 93,
   "metadata": {},
   "outputs": [
    {
     "data": {
      "text/plain": [
       "0    0.0\n",
       "1    0.0\n",
       "2    0.0\n",
       "3    0.0\n",
       "4    0.0\n",
       "Name: collections_12_mths_ex_med, dtype: float64"
      ]
     },
     "execution_count": 93,
     "metadata": {},
     "output_type": "execute_result"
    }
   ],
   "source": [
    "# collections_12_mths_ex_med - Number of collections in 12 months excluding medical collections\n",
    "data.collections_12_mths_ex_med.head()"
   ]
  },
  {
   "cell_type": "code",
   "execution_count": 94,
   "metadata": {},
   "outputs": [],
   "source": [
    "data.collections_12_mths_ex_med.fillna(round(data.collections_12_mths_ex_med.mean(),2), inplace = True)"
   ]
  },
  {
   "cell_type": "code",
   "execution_count": 95,
   "metadata": {},
   "outputs": [
    {
     "data": {
      "text/plain": [
       "0    0.0\n",
       "1    0.0\n",
       "2    0.0\n",
       "3    0.0\n",
       "4    0.0\n",
       "Name: acc_now_delinq, dtype: float64"
      ]
     },
     "execution_count": 95,
     "metadata": {},
     "output_type": "execute_result"
    }
   ],
   "source": [
    "# acc_now_delinq - The number of accounts on which the borrower is now delinquent.\n",
    "data.acc_now_delinq.head()"
   ]
  },
  {
   "cell_type": "code",
   "execution_count": 96,
   "metadata": {},
   "outputs": [
    {
     "data": {
      "text/plain": [
       "0   NaN\n",
       "1   NaN\n",
       "2   NaN\n",
       "3   NaN\n",
       "4   NaN\n",
       "Name: tot_coll_amt, dtype: float64"
      ]
     },
     "execution_count": 96,
     "metadata": {},
     "output_type": "execute_result"
    }
   ],
   "source": [
    "# tot_coll_amt - Total collection amounts ever owed\n",
    "data.tot_coll_amt.head()"
   ]
  },
  {
   "cell_type": "code",
   "execution_count": 97,
   "metadata": {},
   "outputs": [],
   "source": [
    "data.tot_coll_amt.fillna(round(data.tot_coll_amt.mean(),2), inplace = True)"
   ]
  },
  {
   "cell_type": "code",
   "execution_count": 98,
   "metadata": {},
   "outputs": [
    {
     "data": {
      "text/plain": [
       "0   NaN\n",
       "1   NaN\n",
       "2   NaN\n",
       "3   NaN\n",
       "4   NaN\n",
       "Name: tot_cur_bal, dtype: float64"
      ]
     },
     "execution_count": 98,
     "metadata": {},
     "output_type": "execute_result"
    }
   ],
   "source": [
    "# tot_cur_bal - Total collection amounts ever owed\n",
    "data.tot_cur_bal.head()"
   ]
  },
  {
   "cell_type": "code",
   "execution_count": 99,
   "metadata": {},
   "outputs": [],
   "source": [
    "data.tot_cur_bal.fillna(round(data.tot_cur_bal.mean(),2), inplace = True)"
   ]
  },
  {
   "cell_type": "code",
   "execution_count": 100,
   "metadata": {},
   "outputs": [
    {
     "data": {
      "text/plain": [
       "855964    17100.0\n",
       "855965    10200.0\n",
       "855966    18000.0\n",
       "855967    27000.0\n",
       "855968    41700.0\n",
       "Name: total_rev_hi_lim, dtype: float64"
      ]
     },
     "execution_count": 100,
     "metadata": {},
     "output_type": "execute_result"
    }
   ],
   "source": [
    "# total_rev_hi_lim - Total revolving high credit/credit limit\n",
    "data.total_rev_hi_lim.tail()"
   ]
  },
  {
   "cell_type": "code",
   "execution_count": 101,
   "metadata": {},
   "outputs": [],
   "source": [
    "data.total_rev_hi_lim.fillna(round(data.total_rev_hi_lim.mean(),2), inplace = True)"
   ]
  },
  {
   "cell_type": "code",
   "execution_count": 102,
   "metadata": {},
   "outputs": [
    {
     "data": {
      "text/plain": [
       "0     NaN\n",
       "1     NaN\n",
       "2     NaN\n",
       "3    35.0\n",
       "4    38.0\n",
       "Name: mths_since_last_delinq, dtype: float64"
      ]
     },
     "execution_count": 102,
     "metadata": {},
     "output_type": "execute_result"
    }
   ],
   "source": [
    "# mths_since_last_delinq - The number of months since the borrower's last delinquency.\n",
    "data.mths_since_last_delinq.head()"
   ]
  },
  {
   "cell_type": "code",
   "execution_count": 103,
   "metadata": {},
   "outputs": [],
   "source": [
    "data.mths_since_last_delinq.fillna(0,inplace= True)"
   ]
  },
  {
   "cell_type": "code",
   "execution_count": 104,
   "metadata": {
    "scrolled": true
   },
   "outputs": [
    {
     "name": "stdout",
     "output_type": "stream",
     "text": [
      "No column have NA values\n"
     ]
    }
   ],
   "source": [
    "get_na(data)"
   ]
  },
  {
   "cell_type": "code",
   "execution_count": 105,
   "metadata": {},
   "outputs": [],
   "source": [
    "# Sorting Data according to issue_d column\n",
    "data.issue_d = pd.to_datetime(data.issue_d)\n",
    "data = data.set_index(data.issue_d)\n",
    "data = data.sort_index()\n",
    "\n",
    "# Dropping issue_d as it is not required now\n",
    "data.drop('issue_d', axis = 1, inplace = True)"
   ]
  },
  {
   "cell_type": "code",
   "execution_count": 106,
   "metadata": {},
   "outputs": [
    {
     "data": {
      "text/html": [
       "<div>\n",
       "<style scoped>\n",
       "    .dataframe tbody tr th:only-of-type {\n",
       "        vertical-align: middle;\n",
       "    }\n",
       "\n",
       "    .dataframe tbody tr th {\n",
       "        vertical-align: top;\n",
       "    }\n",
       "\n",
       "    .dataframe thead th {\n",
       "        text-align: right;\n",
       "    }\n",
       "</style>\n",
       "<table border=\"1\" class=\"dataframe\">\n",
       "  <thead>\n",
       "    <tr style=\"text-align: right;\">\n",
       "      <th></th>\n",
       "      <th>loan_amnt</th>\n",
       "      <th>funded_amnt</th>\n",
       "      <th>term</th>\n",
       "      <th>int_rate</th>\n",
       "      <th>installment</th>\n",
       "      <th>sub_grade</th>\n",
       "      <th>emp_length</th>\n",
       "      <th>home_ownership</th>\n",
       "      <th>annual_inc</th>\n",
       "      <th>verification_status</th>\n",
       "      <th>...</th>\n",
       "      <th>total_rec_late_fee</th>\n",
       "      <th>recoveries</th>\n",
       "      <th>collection_recovery_fee</th>\n",
       "      <th>last_pymnt_amnt</th>\n",
       "      <th>collections_12_mths_ex_med</th>\n",
       "      <th>acc_now_delinq</th>\n",
       "      <th>tot_coll_amt</th>\n",
       "      <th>tot_cur_bal</th>\n",
       "      <th>total_rev_hi_lim</th>\n",
       "      <th>default_ind</th>\n",
       "    </tr>\n",
       "    <tr>\n",
       "      <th>issue_d</th>\n",
       "      <th></th>\n",
       "      <th></th>\n",
       "      <th></th>\n",
       "      <th></th>\n",
       "      <th></th>\n",
       "      <th></th>\n",
       "      <th></th>\n",
       "      <th></th>\n",
       "      <th></th>\n",
       "      <th></th>\n",
       "      <th></th>\n",
       "      <th></th>\n",
       "      <th></th>\n",
       "      <th></th>\n",
       "      <th></th>\n",
       "      <th></th>\n",
       "      <th></th>\n",
       "      <th></th>\n",
       "      <th></th>\n",
       "      <th></th>\n",
       "      <th></th>\n",
       "    </tr>\n",
       "  </thead>\n",
       "  <tbody>\n",
       "    <tr>\n",
       "      <th>2007-06-01</th>\n",
       "      <td>7500.0</td>\n",
       "      <td>7500.0</td>\n",
       "      <td>36 months</td>\n",
       "      <td>13.75</td>\n",
       "      <td>255.43</td>\n",
       "      <td>E2</td>\n",
       "      <td>1</td>\n",
       "      <td>Own</td>\n",
       "      <td>22000.0</td>\n",
       "      <td>Not Verified</td>\n",
       "      <td>...</td>\n",
       "      <td>0.0</td>\n",
       "      <td>0.0</td>\n",
       "      <td>0.0</td>\n",
       "      <td>256.59</td>\n",
       "      <td>0.01</td>\n",
       "      <td>0.0</td>\n",
       "      <td>225.41</td>\n",
       "      <td>139766.25</td>\n",
       "      <td>32163.57</td>\n",
       "      <td>0</td>\n",
       "    </tr>\n",
       "    <tr>\n",
       "      <th>2007-07-01</th>\n",
       "      <td>5000.0</td>\n",
       "      <td>5000.0</td>\n",
       "      <td>36 months</td>\n",
       "      <td>7.43</td>\n",
       "      <td>155.38</td>\n",
       "      <td>A2</td>\n",
       "      <td>8</td>\n",
       "      <td>Mortgage</td>\n",
       "      <td>150000.0</td>\n",
       "      <td>Not Verified</td>\n",
       "      <td>...</td>\n",
       "      <td>0.0</td>\n",
       "      <td>0.0</td>\n",
       "      <td>0.0</td>\n",
       "      <td>4397.47</td>\n",
       "      <td>0.01</td>\n",
       "      <td>0.0</td>\n",
       "      <td>225.41</td>\n",
       "      <td>139766.25</td>\n",
       "      <td>32163.57</td>\n",
       "      <td>0</td>\n",
       "    </tr>\n",
       "    <tr>\n",
       "      <th>2007-07-01</th>\n",
       "      <td>5750.0</td>\n",
       "      <td>5750.0</td>\n",
       "      <td>36 months</td>\n",
       "      <td>7.43</td>\n",
       "      <td>178.69</td>\n",
       "      <td>A2</td>\n",
       "      <td>10</td>\n",
       "      <td>Mortgage</td>\n",
       "      <td>125000.0</td>\n",
       "      <td>Not Verified</td>\n",
       "      <td>...</td>\n",
       "      <td>0.0</td>\n",
       "      <td>0.0</td>\n",
       "      <td>0.0</td>\n",
       "      <td>4.74</td>\n",
       "      <td>0.01</td>\n",
       "      <td>0.0</td>\n",
       "      <td>225.41</td>\n",
       "      <td>139766.25</td>\n",
       "      <td>32163.57</td>\n",
       "      <td>0</td>\n",
       "    </tr>\n",
       "    <tr>\n",
       "      <th>2007-07-01</th>\n",
       "      <td>5000.0</td>\n",
       "      <td>5000.0</td>\n",
       "      <td>36 months</td>\n",
       "      <td>7.43</td>\n",
       "      <td>155.38</td>\n",
       "      <td>A2</td>\n",
       "      <td>6</td>\n",
       "      <td>Rent</td>\n",
       "      <td>40000.0</td>\n",
       "      <td>Not Verified</td>\n",
       "      <td>...</td>\n",
       "      <td>0.0</td>\n",
       "      <td>0.0</td>\n",
       "      <td>0.0</td>\n",
       "      <td>158.65</td>\n",
       "      <td>0.01</td>\n",
       "      <td>0.0</td>\n",
       "      <td>225.41</td>\n",
       "      <td>139766.25</td>\n",
       "      <td>32163.57</td>\n",
       "      <td>0</td>\n",
       "    </tr>\n",
       "    <tr>\n",
       "      <th>2007-07-01</th>\n",
       "      <td>1200.0</td>\n",
       "      <td>1200.0</td>\n",
       "      <td>36 months</td>\n",
       "      <td>11.54</td>\n",
       "      <td>39.60</td>\n",
       "      <td>C5</td>\n",
       "      <td>1</td>\n",
       "      <td>Rent</td>\n",
       "      <td>20000.0</td>\n",
       "      <td>Not Verified</td>\n",
       "      <td>...</td>\n",
       "      <td>0.0</td>\n",
       "      <td>0.0</td>\n",
       "      <td>0.0</td>\n",
       "      <td>39.45</td>\n",
       "      <td>0.01</td>\n",
       "      <td>0.0</td>\n",
       "      <td>225.41</td>\n",
       "      <td>139766.25</td>\n",
       "      <td>32163.57</td>\n",
       "      <td>0</td>\n",
       "    </tr>\n",
       "  </tbody>\n",
       "</table>\n",
       "<p>5 rows × 36 columns</p>\n",
       "</div>"
      ],
      "text/plain": [
       "            loan_amnt  funded_amnt        term  int_rate  installment  \\\n",
       "issue_d                                                                 \n",
       "2007-06-01     7500.0       7500.0   36 months     13.75       255.43   \n",
       "2007-07-01     5000.0       5000.0   36 months      7.43       155.38   \n",
       "2007-07-01     5750.0       5750.0   36 months      7.43       178.69   \n",
       "2007-07-01     5000.0       5000.0   36 months      7.43       155.38   \n",
       "2007-07-01     1200.0       1200.0   36 months     11.54        39.60   \n",
       "\n",
       "           sub_grade  emp_length home_ownership  annual_inc  \\\n",
       "issue_d                                                       \n",
       "2007-06-01        E2           1            Own     22000.0   \n",
       "2007-07-01        A2           8       Mortgage    150000.0   \n",
       "2007-07-01        A2          10       Mortgage    125000.0   \n",
       "2007-07-01        A2           6           Rent     40000.0   \n",
       "2007-07-01        C5           1           Rent     20000.0   \n",
       "\n",
       "           verification_status  ... total_rec_late_fee recoveries  \\\n",
       "issue_d                         ...                                 \n",
       "2007-06-01        Not Verified  ...                0.0        0.0   \n",
       "2007-07-01        Not Verified  ...                0.0        0.0   \n",
       "2007-07-01        Not Verified  ...                0.0        0.0   \n",
       "2007-07-01        Not Verified  ...                0.0        0.0   \n",
       "2007-07-01        Not Verified  ...                0.0        0.0   \n",
       "\n",
       "            collection_recovery_fee last_pymnt_amnt  \\\n",
       "issue_d                                               \n",
       "2007-06-01                      0.0          256.59   \n",
       "2007-07-01                      0.0         4397.47   \n",
       "2007-07-01                      0.0            4.74   \n",
       "2007-07-01                      0.0          158.65   \n",
       "2007-07-01                      0.0           39.45   \n",
       "\n",
       "            collections_12_mths_ex_med  acc_now_delinq  tot_coll_amt  \\\n",
       "issue_d                                                                \n",
       "2007-06-01                        0.01             0.0        225.41   \n",
       "2007-07-01                        0.01             0.0        225.41   \n",
       "2007-07-01                        0.01             0.0        225.41   \n",
       "2007-07-01                        0.01             0.0        225.41   \n",
       "2007-07-01                        0.01             0.0        225.41   \n",
       "\n",
       "           tot_cur_bal  total_rev_hi_lim  default_ind  \n",
       "issue_d                                                \n",
       "2007-06-01   139766.25          32163.57            0  \n",
       "2007-07-01   139766.25          32163.57            0  \n",
       "2007-07-01   139766.25          32163.57            0  \n",
       "2007-07-01   139766.25          32163.57            0  \n",
       "2007-07-01   139766.25          32163.57            0  \n",
       "\n",
       "[5 rows x 36 columns]"
      ]
     },
     "execution_count": 106,
     "metadata": {},
     "output_type": "execute_result"
    }
   ],
   "source": [
    "data.head()"
   ]
  },
  {
   "cell_type": "code",
   "execution_count": 107,
   "metadata": {
    "scrolled": true
   },
   "outputs": [
    {
     "data": {
      "text/plain": [
       "(855969, 36)"
      ]
     },
     "execution_count": 107,
     "metadata": {},
     "output_type": "execute_result"
    }
   ],
   "source": [
    "data.shape"
   ]
  },
  {
   "cell_type": "markdown",
   "metadata": {},
   "source": [
    "References:\n",
    "* https://seaborn.pydata.org/\n",
    "* https://seaborn.pydata.org/tutorial/categorical.html\n",
    "* https://www.kaggle.com/nextbigwhat/eda-for-categorical-variables-a-beginner-s-way\n",
    "* https://www.drawingfromdata.com/how-to-rotate-axis-labels-in-seaborn-and-matplotlib\n",
    "* https://medium.com/@purnasaigudikandula/exploratory-data-analysis-beginner-univariate-bivariate-and-multivariate-habberman-dataset-2365264b751"
   ]
  },
  {
   "cell_type": "markdown",
   "metadata": {},
   "source": [
    "<a id='outlier_treatment'></a>\n",
    "### Outlier Treatment"
   ]
  },
  {
   "cell_type": "code",
   "execution_count": 108,
   "metadata": {},
   "outputs": [],
   "source": [
    "# Upper Caping and Lower Caping for numerical Feature\n",
    "\n",
    "def set_caping(column, capping):\n",
    "   \n",
    "    mean = data[column].mean() # Mean of the column\n",
    "    std = data[column].std() # Standard Deviation of the column\n",
    "   \n",
    "    UCL = mean + 3 * std\n",
    "    LCL = mean - 3 * std\n",
    "    if capping == \"both\":\n",
    "        data[column] = np.where((data[column] > UCL), UCL , data[column])\n",
    "        data[column] = np.where((data[column] < UCL), LCL , data[column])\n",
    "       \n",
    "    elif capping == \"upper\":\n",
    "        data[column] = np.where((data[column] > UCL), UCL , data[column])\n",
    "       \n",
    "    elif capping == \"lower\":\n",
    "        data[column] = np.where((data[column] < UCL), LCL ,data[column])\n",
    "    else:\n",
    "        print(\"Please enter proper value of capping parameter. \\n Possible values:\\tboth\\tupper\\tlower\")\n",
    "\n",
    "\n",
    "# set_caping(\"age\", capping = \"both\")\n",
    "# data.boxplot(column = \"age\")"
   ]
  },
  {
   "cell_type": "code",
   "execution_count": 109,
   "metadata": {
    "scrolled": true
   },
   "outputs": [
    {
     "data": {
      "text/plain": [
       "<matplotlib.axes._subplots.AxesSubplot at 0x2dad54d588>"
      ]
     },
     "execution_count": 109,
     "metadata": {},
     "output_type": "execute_result"
    },
    {
     "data": {
      "image/png": "[encoded data removed]",
      "text/plain": [
       "<Figure size 432x288 with 1 Axes>"
      ]
     },
     "metadata": {
      "needs_background": "light"
     },
     "output_type": "display_data"
    }
   ],
   "source": [
    "data.boxplot(column =\"dti\")"
   ]
  },
  {
   "cell_type": "code",
   "execution_count": 110,
   "metadata": {
    "scrolled": false
   },
   "outputs": [
    {
     "data": {
      "text/plain": [
       "<matplotlib.axes._subplots.AxesSubplot at 0x2dad53c400>"
      ]
     },
     "execution_count": 110,
     "metadata": {},
     "output_type": "execute_result"
    },
    {
     "data": {
      "image/png": "[encoded data removed]",
      "text/plain": [
       "<Figure size 432x288 with 1 Axes>"
      ]
     },
     "metadata": {
      "needs_background": "light"
     },
     "output_type": "display_data"
    }
   ],
   "source": [
    "set_caping(\"dti\", capping = \"upper\")\n",
    "data.boxplot(column =\"dti\")"
   ]
  },
  {
   "cell_type": "code",
   "execution_count": 111,
   "metadata": {
    "scrolled": true
   },
   "outputs": [
    {
     "data": {
      "text/plain": [
       "<matplotlib.axes._subplots.AxesSubplot at 0x2d1409e278>"
      ]
     },
     "execution_count": 111,
     "metadata": {},
     "output_type": "execute_result"
    },
    {
     "data": {
      "image/png": "[encoded data removed]",
      "text/plain": [
       "<Figure size 432x288 with 1 Axes>"
      ]
     },
     "metadata": {
      "needs_background": "light"
     },
     "output_type": "display_data"
    }
   ],
   "source": [
    "sns.distplot(data.dti)"
   ]
  },
  {
   "cell_type": "code",
   "execution_count": 112,
   "metadata": {},
   "outputs": [
    {
     "data": {
      "text/plain": [
       "<matplotlib.axes._subplots.AxesSubplot at 0x2dad53c4a8>"
      ]
     },
     "execution_count": 112,
     "metadata": {},
     "output_type": "execute_result"
    },
    {
     "data": {
      "image/png": "[encoded data removed]",
      "text/plain": [
       "<Figure size 432x288 with 1 Axes>"
      ]
     },
     "metadata": {
      "needs_background": "light"
     },
     "output_type": "display_data"
    }
   ],
   "source": [
    "data.boxplot(column =\"open_acc\")"
   ]
  },
  {
   "cell_type": "code",
   "execution_count": 113,
   "metadata": {},
   "outputs": [
    {
     "data": {
      "text/plain": [
       "<matplotlib.axes._subplots.AxesSubplot at 0x2d018a7a90>"
      ]
     },
     "execution_count": 113,
     "metadata": {},
     "output_type": "execute_result"
    },
    {
     "data": {
      "image/png": "[encoded data removed]",
      "text/plain": [
       "<Figure size 432x288 with 1 Axes>"
      ]
     },
     "metadata": {
      "needs_background": "light"
     },
     "output_type": "display_data"
    }
   ],
   "source": [
    "set_caping(\"open_acc\", capping = \"upper\")\n",
    "data.boxplot(column =\"open_acc\")"
   ]
  },
  {
   "cell_type": "code",
   "execution_count": 114,
   "metadata": {},
   "outputs": [
    {
     "data": {
      "text/plain": [
       "<matplotlib.axes._subplots.AxesSubplot at 0x2d14192780>"
      ]
     },
     "execution_count": 114,
     "metadata": {},
     "output_type": "execute_result"
    },
    {
     "data": {
      "image/png": "[encoded data removed]",
      "text/plain": [
       "<Figure size 432x288 with 1 Axes>"
      ]
     },
     "metadata": {
      "needs_background": "light"
     },
     "output_type": "display_data"
    }
   ],
   "source": [
    "data.boxplot(column =\"installment\")"
   ]
  },
  {
   "cell_type": "code",
   "execution_count": 115,
   "metadata": {},
   "outputs": [
    {
     "data": {
      "text/plain": [
       "<matplotlib.axes._subplots.AxesSubplot at 0x2d141ade10>"
      ]
     },
     "execution_count": 115,
     "metadata": {},
     "output_type": "execute_result"
    },
    {
     "data": {
      "image/png": "[encoded data removed]",
      "text/plain": [
       "<Figure size 432x288 with 1 Axes>"
      ]
     },
     "metadata": {
      "needs_background": "light"
     },
     "output_type": "display_data"
    }
   ],
   "source": [
    "set_caping(\"installment\", capping = \"upper\")\n",
    "data.boxplot(column =\"installment\")"
   ]
  },
  {
   "cell_type": "code",
   "execution_count": 116,
   "metadata": {},
   "outputs": [
    {
     "data": {
      "text/plain": [
       "<matplotlib.axes._subplots.AxesSubplot at 0x2d01acdcc0>"
      ]
     },
     "execution_count": 116,
     "metadata": {},
     "output_type": "execute_result"
    },
    {
     "data": {
      "image/png": "[encoded data removed]",
      "text/plain": [
       "<Figure size 432x288 with 1 Axes>"
      ]
     },
     "metadata": {
      "needs_background": "light"
     },
     "output_type": "display_data"
    }
   ],
   "source": [
    "data.boxplot(column =\"int_rate\")"
   ]
  },
  {
   "cell_type": "code",
   "execution_count": 117,
   "metadata": {},
   "outputs": [
    {
     "data": {
      "text/plain": [
       "<matplotlib.axes._subplots.AxesSubplot at 0x2d01b2fa58>"
      ]
     },
     "execution_count": 117,
     "metadata": {},
     "output_type": "execute_result"
    },
    {
     "data": {
      "image/png": "[encoded data removed]",
      "text/plain": [
       "<Figure size 432x288 with 1 Axes>"
      ]
     },
     "metadata": {
      "needs_background": "light"
     },
     "output_type": "display_data"
    }
   ],
   "source": [
    "set_caping(\"int_rate\", capping = \"upper\")\n",
    "data.boxplot(column =\"int_rate\")"
   ]
  },
  {
   "cell_type": "code",
   "execution_count": 118,
   "metadata": {},
   "outputs": [
    {
     "data": {
      "text/plain": [
       "<matplotlib.axes._subplots.AxesSubplot at 0x2d01b87e80>"
      ]
     },
     "execution_count": 118,
     "metadata": {},
     "output_type": "execute_result"
    },
    {
     "data": {
      "image/png": "[encoded data removed]",
      "text/plain": [
       "<Figure size 432x288 with 1 Axes>"
      ]
     },
     "metadata": {
      "needs_background": "light"
     },
     "output_type": "display_data"
    }
   ],
   "source": [
    "data.boxplot(column =\"revol_util\")"
   ]
  },
  {
   "cell_type": "code",
   "execution_count": 119,
   "metadata": {},
   "outputs": [
    {
     "data": {
      "text/plain": [
       "<matplotlib.axes._subplots.AxesSubplot at 0x2d1454c0b8>"
      ]
     },
     "execution_count": 119,
     "metadata": {},
     "output_type": "execute_result"
    },
    {
     "data": {
      "image/png": "[encoded data removed]",
      "text/plain": [
       "<Figure size 432x288 with 1 Axes>"
      ]
     },
     "metadata": {
      "needs_background": "light"
     },
     "output_type": "display_data"
    }
   ],
   "source": [
    "set_caping(\"revol_util\", capping = \"upper\")\n",
    "data.boxplot(column =\"revol_util\")"
   ]
  },
  {
   "cell_type": "code",
   "execution_count": 120,
   "metadata": {},
   "outputs": [
    {
     "data": {
      "text/plain": [
       "<matplotlib.axes._subplots.AxesSubplot at 0x2d145bc048>"
      ]
     },
     "execution_count": 120,
     "metadata": {},
     "output_type": "execute_result"
    },
    {
     "data": {
      "image/png": "[encoded data removed]",
      "text/plain": [
       "<Figure size 432x288 with 1 Axes>"
      ]
     },
     "metadata": {
      "needs_background": "light"
     },
     "output_type": "display_data"
    }
   ],
   "source": [
    "data.boxplot(column =\"total_acc\")"
   ]
  },
  {
   "cell_type": "code",
   "execution_count": 121,
   "metadata": {},
   "outputs": [
    {
     "data": {
      "text/plain": [
       "<matplotlib.axes._subplots.AxesSubplot at 0x2d1461c2b0>"
      ]
     },
     "execution_count": 121,
     "metadata": {},
     "output_type": "execute_result"
    },
    {
     "data": {
      "image/png": "[encoded data removed]",
      "text/plain": [
       "<Figure size 432x288 with 1 Axes>"
      ]
     },
     "metadata": {
      "needs_background": "light"
     },
     "output_type": "display_data"
    }
   ],
   "source": [
    "set_caping(\"total_acc\", capping = \"upper\")\n",
    "data.boxplot(column =\"total_acc\")"
   ]
  },
  {
   "cell_type": "code",
   "execution_count": 122,
   "metadata": {},
   "outputs": [
    {
     "data": {
      "text/plain": [
       "<matplotlib.axes._subplots.AxesSubplot at 0x2d14688978>"
      ]
     },
     "execution_count": 122,
     "metadata": {},
     "output_type": "execute_result"
    },
    {
     "data": {
      "image/png": "[encoded data removed]",
      "text/plain": [
       "<Figure size 432x288 with 1 Axes>"
      ]
     },
     "metadata": {
      "needs_background": "light"
     },
     "output_type": "display_data"
    }
   ],
   "source": [
    "data.boxplot(column =\"out_prncp\")"
   ]
  },
  {
   "cell_type": "code",
   "execution_count": 123,
   "metadata": {
    "scrolled": true
   },
   "outputs": [
    {
     "data": {
      "text/plain": [
       "<matplotlib.axes._subplots.AxesSubplot at 0x2d146f0b00>"
      ]
     },
     "execution_count": 123,
     "metadata": {},
     "output_type": "execute_result"
    },
    {
     "data": {
      "image/png": "[encoded data removed]",
      "text/plain": [
       "<Figure size 432x288 with 1 Axes>"
      ]
     },
     "metadata": {
      "needs_background": "light"
     },
     "output_type": "display_data"
    }
   ],
   "source": [
    "set_caping(\"out_prncp\", capping = \"upper\")\n",
    "data.boxplot(column =\"out_prncp\")"
   ]
  },
  {
   "cell_type": "code",
   "execution_count": 124,
   "metadata": {},
   "outputs": [
    {
     "data": {
      "text/plain": [
       "<matplotlib.axes._subplots.AxesSubplot at 0x2d5d5d2a20>"
      ]
     },
     "execution_count": 124,
     "metadata": {},
     "output_type": "execute_result"
    },
    {
     "data": {
      "image/png": "[encoded data removed]",
      "text/plain": [
       "<Figure size 432x288 with 1 Axes>"
      ]
     },
     "metadata": {
      "needs_background": "light"
     },
     "output_type": "display_data"
    }
   ],
   "source": [
    "data.boxplot(column =\"tot_coll_amt\")"
   ]
  },
  {
   "cell_type": "code",
   "execution_count": 125,
   "metadata": {},
   "outputs": [
    {
     "data": {
      "text/plain": [
       "<matplotlib.axes._subplots.AxesSubplot at 0x2d5d63acf8>"
      ]
     },
     "execution_count": 125,
     "metadata": {},
     "output_type": "execute_result"
    },
    {
     "data": {
      "image/png": "[encoded data removed]",
      "text/plain": [
       "<Figure size 432x288 with 1 Axes>"
      ]
     },
     "metadata": {
      "needs_background": "light"
     },
     "output_type": "display_data"
    }
   ],
   "source": [
    "set_caping(\"tot_coll_amt\", capping = \"upper\")\n",
    "data.boxplot(column =\"tot_coll_amt\")"
   ]
  },
  {
   "cell_type": "code",
   "execution_count": 126,
   "metadata": {},
   "outputs": [
    {
     "data": {
      "text/plain": [
       "<matplotlib.axes._subplots.AxesSubplot at 0x2d5dc500f0>"
      ]
     },
     "execution_count": 126,
     "metadata": {},
     "output_type": "execute_result"
    },
    {
     "data": {
      "image/png": "[encoded data removed]",
      "text/plain": [
       "<Figure size 432x288 with 1 Axes>"
      ]
     },
     "metadata": {
      "needs_background": "light"
     },
     "output_type": "display_data"
    }
   ],
   "source": [
    "data.boxplot(column =\"tot_cur_bal\")"
   ]
  },
  {
   "cell_type": "code",
   "execution_count": 127,
   "metadata": {},
   "outputs": [
    {
     "data": {
      "text/plain": [
       "<matplotlib.axes._subplots.AxesSubplot at 0x2d5e11c8d0>"
      ]
     },
     "execution_count": 127,
     "metadata": {},
     "output_type": "execute_result"
    },
    {
     "data": {
      "image/png": "[encoded data removed]",
      "text/plain": [
       "<Figure size 432x288 with 1 Axes>"
      ]
     },
     "metadata": {
      "needs_background": "light"
     },
     "output_type": "display_data"
    }
   ],
   "source": [
    "set_caping(\"tot_cur_bal\", capping = \"upper\")\n",
    "data.boxplot(column =\"tot_cur_bal\")"
   ]
  },
  {
   "cell_type": "code",
   "execution_count": 128,
   "metadata": {},
   "outputs": [
    {
     "data": {
      "text/plain": [
       "<matplotlib.axes._subplots.AxesSubplot at 0x2d5e177710>"
      ]
     },
     "execution_count": 128,
     "metadata": {},
     "output_type": "execute_result"
    },
    {
     "data": {
      "image/png": "[encoded data removed]",
      "text/plain": [
       "<Figure size 432x288 with 1 Axes>"
      ]
     },
     "metadata": {
      "needs_background": "light"
     },
     "output_type": "display_data"
    }
   ],
   "source": [
    "data.boxplot(column =\"mths_since_last_delinq\")"
   ]
  },
  {
   "cell_type": "code",
   "execution_count": 129,
   "metadata": {},
   "outputs": [
    {
     "data": {
      "text/plain": [
       "<matplotlib.axes._subplots.AxesSubplot at 0x2d5e1e39e8>"
      ]
     },
     "execution_count": 129,
     "metadata": {},
     "output_type": "execute_result"
    },
    {
     "data": {
      "image/png": "[encoded data removed]",
      "text/plain": [
       "<Figure size 432x288 with 1 Axes>"
      ]
     },
     "metadata": {
      "needs_background": "light"
     },
     "output_type": "display_data"
    }
   ],
   "source": [
    "set_caping(\"mths_since_last_delinq\", capping = \"upper\")\n",
    "data.boxplot(column =\"mths_since_last_delinq\")"
   ]
  },
  {
   "cell_type": "markdown",
   "metadata": {},
   "source": [
    "<a id='eda'></a>\n",
    "## EDA - Exploratory Data Analysis"
   ]
  },
  {
   "cell_type": "code",
   "execution_count": 130,
   "metadata": {},
   "outputs": [],
   "source": [
    "# Devide Categorical And Numerical Data\n",
    "cat_data = data.select_dtypes('O')\n",
    "num_data = data.drop(cat_data, axis=1)"
   ]
  },
  {
   "cell_type": "code",
   "execution_count": 131,
   "metadata": {},
   "outputs": [
    {
     "data": {
      "text/html": [
       "<div>\n",
       "<style scoped>\n",
       "    .dataframe tbody tr th:only-of-type {\n",
       "        vertical-align: middle;\n",
       "    }\n",
       "\n",
       "    .dataframe tbody tr th {\n",
       "        vertical-align: top;\n",
       "    }\n",
       "\n",
       "    .dataframe thead th {\n",
       "        text-align: right;\n",
       "    }\n",
       "</style>\n",
       "<table border=\"1\" class=\"dataframe\">\n",
       "  <thead>\n",
       "    <tr style=\"text-align: right;\">\n",
       "      <th></th>\n",
       "      <th>term</th>\n",
       "      <th>sub_grade</th>\n",
       "      <th>home_ownership</th>\n",
       "      <th>verification_status</th>\n",
       "      <th>purpose</th>\n",
       "      <th>addr_state</th>\n",
       "      <th>delinq_2yrs</th>\n",
       "      <th>pub_rec</th>\n",
       "      <th>initial_list_status</th>\n",
       "    </tr>\n",
       "    <tr>\n",
       "      <th>issue_d</th>\n",
       "      <th></th>\n",
       "      <th></th>\n",
       "      <th></th>\n",
       "      <th></th>\n",
       "      <th></th>\n",
       "      <th></th>\n",
       "      <th></th>\n",
       "      <th></th>\n",
       "      <th></th>\n",
       "    </tr>\n",
       "  </thead>\n",
       "  <tbody>\n",
       "    <tr>\n",
       "      <th>2007-06-01</th>\n",
       "      <td>36 months</td>\n",
       "      <td>E2</td>\n",
       "      <td>Own</td>\n",
       "      <td>Not Verified</td>\n",
       "      <td>debt_consolidation</td>\n",
       "      <td>MA</td>\n",
       "      <td>Low</td>\n",
       "      <td>Good</td>\n",
       "      <td>f</td>\n",
       "    </tr>\n",
       "    <tr>\n",
       "      <th>2007-07-01</th>\n",
       "      <td>36 months</td>\n",
       "      <td>A2</td>\n",
       "      <td>Mortgage</td>\n",
       "      <td>Not Verified</td>\n",
       "      <td>home_improvement</td>\n",
       "      <td>GA</td>\n",
       "      <td>Low</td>\n",
       "      <td>Good</td>\n",
       "      <td>f</td>\n",
       "    </tr>\n",
       "    <tr>\n",
       "      <th>2007-07-01</th>\n",
       "      <td>36 months</td>\n",
       "      <td>A2</td>\n",
       "      <td>Mortgage</td>\n",
       "      <td>Not Verified</td>\n",
       "      <td>debt_consolidation</td>\n",
       "      <td>MA</td>\n",
       "      <td>Low</td>\n",
       "      <td>Good</td>\n",
       "      <td>f</td>\n",
       "    </tr>\n",
       "    <tr>\n",
       "      <th>2007-07-01</th>\n",
       "      <td>36 months</td>\n",
       "      <td>A2</td>\n",
       "      <td>Rent</td>\n",
       "      <td>Not Verified</td>\n",
       "      <td>Personal</td>\n",
       "      <td>WI</td>\n",
       "      <td>Low</td>\n",
       "      <td>Good</td>\n",
       "      <td>f</td>\n",
       "    </tr>\n",
       "    <tr>\n",
       "      <th>2007-07-01</th>\n",
       "      <td>36 months</td>\n",
       "      <td>C5</td>\n",
       "      <td>Rent</td>\n",
       "      <td>Not Verified</td>\n",
       "      <td>credit_card</td>\n",
       "      <td>ME</td>\n",
       "      <td>Low</td>\n",
       "      <td>Good</td>\n",
       "      <td>f</td>\n",
       "    </tr>\n",
       "  </tbody>\n",
       "</table>\n",
       "</div>"
      ],
      "text/plain": [
       "                  term sub_grade home_ownership verification_status  \\\n",
       "issue_d                                                               \n",
       "2007-06-01   36 months        E2            Own        Not Verified   \n",
       "2007-07-01   36 months        A2       Mortgage        Not Verified   \n",
       "2007-07-01   36 months        A2       Mortgage        Not Verified   \n",
       "2007-07-01   36 months        A2           Rent        Not Verified   \n",
       "2007-07-01   36 months        C5           Rent        Not Verified   \n",
       "\n",
       "                       purpose addr_state delinq_2yrs pub_rec  \\\n",
       "issue_d                                                         \n",
       "2007-06-01  debt_consolidation         MA         Low    Good   \n",
       "2007-07-01    home_improvement         GA         Low    Good   \n",
       "2007-07-01  debt_consolidation         MA         Low    Good   \n",
       "2007-07-01            Personal         WI         Low    Good   \n",
       "2007-07-01         credit_card         ME         Low    Good   \n",
       "\n",
       "           initial_list_status  \n",
       "issue_d                         \n",
       "2007-06-01                   f  \n",
       "2007-07-01                   f  \n",
       "2007-07-01                   f  \n",
       "2007-07-01                   f  \n",
       "2007-07-01                   f  "
      ]
     },
     "execution_count": 131,
     "metadata": {},
     "output_type": "execute_result"
    }
   ],
   "source": [
    "cat_data.head()"
   ]
  },
  {
   "cell_type": "code",
   "execution_count": 132,
   "metadata": {
    "scrolled": true
   },
   "outputs": [
    {
     "data": {
      "text/html": [
       "<div>\n",
       "<style scoped>\n",
       "    .dataframe tbody tr th:only-of-type {\n",
       "        vertical-align: middle;\n",
       "    }\n",
       "\n",
       "    .dataframe tbody tr th {\n",
       "        vertical-align: top;\n",
       "    }\n",
       "\n",
       "    .dataframe thead th {\n",
       "        text-align: right;\n",
       "    }\n",
       "</style>\n",
       "<table border=\"1\" class=\"dataframe\">\n",
       "  <thead>\n",
       "    <tr style=\"text-align: right;\">\n",
       "      <th></th>\n",
       "      <th>loan_amnt</th>\n",
       "      <th>funded_amnt</th>\n",
       "      <th>int_rate</th>\n",
       "      <th>installment</th>\n",
       "      <th>emp_length</th>\n",
       "      <th>annual_inc</th>\n",
       "      <th>dti</th>\n",
       "      <th>inq_last_6mths</th>\n",
       "      <th>mths_since_last_delinq</th>\n",
       "      <th>open_acc</th>\n",
       "      <th>...</th>\n",
       "      <th>total_rec_late_fee</th>\n",
       "      <th>recoveries</th>\n",
       "      <th>collection_recovery_fee</th>\n",
       "      <th>last_pymnt_amnt</th>\n",
       "      <th>collections_12_mths_ex_med</th>\n",
       "      <th>acc_now_delinq</th>\n",
       "      <th>tot_coll_amt</th>\n",
       "      <th>tot_cur_bal</th>\n",
       "      <th>total_rev_hi_lim</th>\n",
       "      <th>default_ind</th>\n",
       "    </tr>\n",
       "    <tr>\n",
       "      <th>issue_d</th>\n",
       "      <th></th>\n",
       "      <th></th>\n",
       "      <th></th>\n",
       "      <th></th>\n",
       "      <th></th>\n",
       "      <th></th>\n",
       "      <th></th>\n",
       "      <th></th>\n",
       "      <th></th>\n",
       "      <th></th>\n",
       "      <th></th>\n",
       "      <th></th>\n",
       "      <th></th>\n",
       "      <th></th>\n",
       "      <th></th>\n",
       "      <th></th>\n",
       "      <th></th>\n",
       "      <th></th>\n",
       "      <th></th>\n",
       "      <th></th>\n",
       "      <th></th>\n",
       "    </tr>\n",
       "  </thead>\n",
       "  <tbody>\n",
       "    <tr>\n",
       "      <th>2007-06-01</th>\n",
       "      <td>7500.0</td>\n",
       "      <td>7500.0</td>\n",
       "      <td>13.75</td>\n",
       "      <td>255.43</td>\n",
       "      <td>1</td>\n",
       "      <td>22000.0</td>\n",
       "      <td>14.29</td>\n",
       "      <td>0.0</td>\n",
       "      <td>11.0</td>\n",
       "      <td>7.0</td>\n",
       "      <td>...</td>\n",
       "      <td>0.0</td>\n",
       "      <td>0.0</td>\n",
       "      <td>0.0</td>\n",
       "      <td>256.59</td>\n",
       "      <td>0.01</td>\n",
       "      <td>0.0</td>\n",
       "      <td>225.41</td>\n",
       "      <td>139766.25</td>\n",
       "      <td>32163.57</td>\n",
       "      <td>0</td>\n",
       "    </tr>\n",
       "    <tr>\n",
       "      <th>2007-07-01</th>\n",
       "      <td>5000.0</td>\n",
       "      <td>5000.0</td>\n",
       "      <td>7.43</td>\n",
       "      <td>155.38</td>\n",
       "      <td>8</td>\n",
       "      <td>150000.0</td>\n",
       "      <td>0.00</td>\n",
       "      <td>0.0</td>\n",
       "      <td>0.0</td>\n",
       "      <td>2.0</td>\n",
       "      <td>...</td>\n",
       "      <td>0.0</td>\n",
       "      <td>0.0</td>\n",
       "      <td>0.0</td>\n",
       "      <td>4397.47</td>\n",
       "      <td>0.01</td>\n",
       "      <td>0.0</td>\n",
       "      <td>225.41</td>\n",
       "      <td>139766.25</td>\n",
       "      <td>32163.57</td>\n",
       "      <td>0</td>\n",
       "    </tr>\n",
       "    <tr>\n",
       "      <th>2007-07-01</th>\n",
       "      <td>5750.0</td>\n",
       "      <td>5750.0</td>\n",
       "      <td>7.43</td>\n",
       "      <td>178.69</td>\n",
       "      <td>10</td>\n",
       "      <td>125000.0</td>\n",
       "      <td>0.27</td>\n",
       "      <td>0.0</td>\n",
       "      <td>0.0</td>\n",
       "      <td>10.0</td>\n",
       "      <td>...</td>\n",
       "      <td>0.0</td>\n",
       "      <td>0.0</td>\n",
       "      <td>0.0</td>\n",
       "      <td>4.74</td>\n",
       "      <td>0.01</td>\n",
       "      <td>0.0</td>\n",
       "      <td>225.41</td>\n",
       "      <td>139766.25</td>\n",
       "      <td>32163.57</td>\n",
       "      <td>0</td>\n",
       "    </tr>\n",
       "    <tr>\n",
       "      <th>2007-07-01</th>\n",
       "      <td>5000.0</td>\n",
       "      <td>5000.0</td>\n",
       "      <td>7.43</td>\n",
       "      <td>155.38</td>\n",
       "      <td>6</td>\n",
       "      <td>40000.0</td>\n",
       "      <td>2.55</td>\n",
       "      <td>2.0</td>\n",
       "      <td>0.0</td>\n",
       "      <td>4.0</td>\n",
       "      <td>...</td>\n",
       "      <td>0.0</td>\n",
       "      <td>0.0</td>\n",
       "      <td>0.0</td>\n",
       "      <td>158.65</td>\n",
       "      <td>0.01</td>\n",
       "      <td>0.0</td>\n",
       "      <td>225.41</td>\n",
       "      <td>139766.25</td>\n",
       "      <td>32163.57</td>\n",
       "      <td>0</td>\n",
       "    </tr>\n",
       "    <tr>\n",
       "      <th>2007-07-01</th>\n",
       "      <td>1200.0</td>\n",
       "      <td>1200.0</td>\n",
       "      <td>11.54</td>\n",
       "      <td>39.60</td>\n",
       "      <td>1</td>\n",
       "      <td>20000.0</td>\n",
       "      <td>2.04</td>\n",
       "      <td>2.0</td>\n",
       "      <td>24.0</td>\n",
       "      <td>3.0</td>\n",
       "      <td>...</td>\n",
       "      <td>0.0</td>\n",
       "      <td>0.0</td>\n",
       "      <td>0.0</td>\n",
       "      <td>39.45</td>\n",
       "      <td>0.01</td>\n",
       "      <td>0.0</td>\n",
       "      <td>225.41</td>\n",
       "      <td>139766.25</td>\n",
       "      <td>32163.57</td>\n",
       "      <td>0</td>\n",
       "    </tr>\n",
       "  </tbody>\n",
       "</table>\n",
       "<p>5 rows × 27 columns</p>\n",
       "</div>"
      ],
      "text/plain": [
       "            loan_amnt  funded_amnt  int_rate  installment  emp_length  \\\n",
       "issue_d                                                                 \n",
       "2007-06-01     7500.0       7500.0     13.75       255.43           1   \n",
       "2007-07-01     5000.0       5000.0      7.43       155.38           8   \n",
       "2007-07-01     5750.0       5750.0      7.43       178.69          10   \n",
       "2007-07-01     5000.0       5000.0      7.43       155.38           6   \n",
       "2007-07-01     1200.0       1200.0     11.54        39.60           1   \n",
       "\n",
       "            annual_inc    dti  inq_last_6mths  mths_since_last_delinq  \\\n",
       "issue_d                                                                 \n",
       "2007-06-01     22000.0  14.29             0.0                    11.0   \n",
       "2007-07-01    150000.0   0.00             0.0                     0.0   \n",
       "2007-07-01    125000.0   0.27             0.0                     0.0   \n",
       "2007-07-01     40000.0   2.55             2.0                     0.0   \n",
       "2007-07-01     20000.0   2.04             2.0                    24.0   \n",
       "\n",
       "            open_acc  ...  total_rec_late_fee  recoveries  \\\n",
       "issue_d               ...                                   \n",
       "2007-06-01       7.0  ...                 0.0         0.0   \n",
       "2007-07-01       2.0  ...                 0.0         0.0   \n",
       "2007-07-01      10.0  ...                 0.0         0.0   \n",
       "2007-07-01       4.0  ...                 0.0         0.0   \n",
       "2007-07-01       3.0  ...                 0.0         0.0   \n",
       "\n",
       "            collection_recovery_fee  last_pymnt_amnt  \\\n",
       "issue_d                                                \n",
       "2007-06-01                      0.0           256.59   \n",
       "2007-07-01                      0.0          4397.47   \n",
       "2007-07-01                      0.0             4.74   \n",
       "2007-07-01                      0.0           158.65   \n",
       "2007-07-01                      0.0            39.45   \n",
       "\n",
       "            collections_12_mths_ex_med  acc_now_delinq  tot_coll_amt  \\\n",
       "issue_d                                                                \n",
       "2007-06-01                        0.01             0.0        225.41   \n",
       "2007-07-01                        0.01             0.0        225.41   \n",
       "2007-07-01                        0.01             0.0        225.41   \n",
       "2007-07-01                        0.01             0.0        225.41   \n",
       "2007-07-01                        0.01             0.0        225.41   \n",
       "\n",
       "            tot_cur_bal  total_rev_hi_lim  default_ind  \n",
       "issue_d                                                 \n",
       "2007-06-01    139766.25          32163.57            0  \n",
       "2007-07-01    139766.25          32163.57            0  \n",
       "2007-07-01    139766.25          32163.57            0  \n",
       "2007-07-01    139766.25          32163.57            0  \n",
       "2007-07-01    139766.25          32163.57            0  \n",
       "\n",
       "[5 rows x 27 columns]"
      ]
     },
     "execution_count": 132,
     "metadata": {},
     "output_type": "execute_result"
    }
   ],
   "source": [
    "num_data.head()"
   ]
  },
  {
   "cell_type": "markdown",
   "metadata": {},
   "source": [
    "#### EDA for Categorical Variables"
   ]
  },
  {
   "cell_type": "code",
   "execution_count": 133,
   "metadata": {},
   "outputs": [
    {
     "data": {
      "text/plain": [
       "<matplotlib.axes._subplots.AxesSubplot at 0x2d5e26b1d0>"
      ]
     },
     "execution_count": 133,
     "metadata": {},
     "output_type": "execute_result"
    },
    {
     "data": {
      "image/png": "[encoded data removed]",
      "text/plain": [
       "<Figure size 432x288 with 1 Axes>"
      ]
     },
     "metadata": {
      "needs_background": "light"
     },
     "output_type": "display_data"
    }
   ],
   "source": [
    "sns.countplot(data = data, x = 'initial_list_status', hue=\"default_ind\")"
   ]
  },
  {
   "cell_type": "code",
   "execution_count": 134,
   "metadata": {},
   "outputs": [
    {
     "data": {
      "text/plain": [
       "<matplotlib.axes._subplots.AxesSubplot at 0x2d5e7ecf98>"
      ]
     },
     "execution_count": 134,
     "metadata": {},
     "output_type": "execute_result"
    },
    {
     "data": {
      "image/png": "[encoded data removed]",
      "text/plain": [
       "<Figure size 432x288 with 1 Axes>"
      ]
     },
     "metadata": {
      "needs_background": "light"
     },
     "output_type": "display_data"
    }
   ],
   "source": [
    "sns.countplot(data = data, x = 'pub_rec', hue=\"default_ind\")"
   ]
  },
  {
   "cell_type": "code",
   "execution_count": 135,
   "metadata": {},
   "outputs": [],
   "source": [
    "# We can Drop addr_state columns as it is not significant.\n",
    "data.drop('addr_state', axis = 1 , inplace = True)"
   ]
  },
  {
   "cell_type": "code",
   "execution_count": 136,
   "metadata": {},
   "outputs": [
    {
     "data": {
      "text/plain": [
       "<seaborn.axisgrid.FacetGrid at 0x2d5e7d3d68>"
      ]
     },
     "execution_count": 136,
     "metadata": {},
     "output_type": "execute_result"
    },
    {
     "data": {
      "text/plain": [
       "<Figure size 1008x576 with 0 Axes>"
      ]
     },
     "metadata": {},
     "output_type": "display_data"
    },
    {
     "data": {
      "image/png": "[encoded data removed]",
      "text/plain": [
       "<Figure size 496x360 with 1 Axes>"
      ]
     },
     "metadata": {
      "needs_background": "light"
     },
     "output_type": "display_data"
    }
   ],
   "source": [
    "plt.figure(figsize=(14,8))\n",
    "sns.catplot(x=\"home_ownership\", y=\"default_ind\", hue=\"purpose\", kind=\"point\", data=data)"
   ]
  },
  {
   "cell_type": "code",
   "execution_count": 137,
   "metadata": {},
   "outputs": [
    {
     "data": {
      "text/plain": [
       "<matplotlib.axes._subplots.AxesSubplot at 0x2d0209f2e8>"
      ]
     },
     "execution_count": 137,
     "metadata": {},
     "output_type": "execute_result"
    },
    {
     "data": {
      "image/png": "[encoded data removed]",
      "text/plain": [
       "<Figure size 432x288 with 1 Axes>"
      ]
     },
     "metadata": {
      "needs_background": "light"
     },
     "output_type": "display_data"
    }
   ],
   "source": [
    "sns.countplot(data = data, x = 'home_ownership', hue=\"default_ind\")"
   ]
  },
  {
   "cell_type": "code",
   "execution_count": 138,
   "metadata": {
    "scrolled": false
   },
   "outputs": [
    {
     "data": {
      "image/png": "[encoded data removed]",
      "text/plain": [
       "<Figure size 1152x1440 with 30 Axes>"
      ]
     },
     "metadata": {
      "needs_background": "light"
     },
     "output_type": "display_data"
    }
   ],
   "source": [
    "# Checking Skewness\n",
    "num_data.hist(figsize=(16, 20), bins=100, xlabelsize=8, ylabelsize=8);"
   ]
  },
  {
   "cell_type": "markdown",
   "metadata": {},
   "source": [
    "### References:\n",
    "* https://seaborn.pydata.org/\n",
    "* https://seaborn.pydata.org/tutorial/categorical.html\n",
    "* https://www.kaggle.com/nextbigwhat/eda-for-categorical-variables-a-beginner-s-way\n",
    "* https://www.drawingfromdata.com/how-to-rotate-axis-labels-in-seaborn-and-matplotlib\n",
    "* https://medium.com/@purnasaigudikandula/exploratory-data-analysis-beginner-univariate-bivariate-and-multivariate-habberman-dataset-2365264b751"
   ]
  },
  {
   "cell_type": "code",
   "execution_count": 139,
   "metadata": {},
   "outputs": [],
   "source": [
    "data.to_csv('dataset/ref_data.csv')"
   ]
  },
  {
   "cell_type": "markdown",
   "metadata": {},
   "source": [
    "<a id='pca'></a>\n",
    "### Dimensionality Reduction For Numerical Data with PCA\n",
    "    \n",
    "<b>Scaling Numerical Variables</b>"
   ]
  },
  {
   "cell_type": "code",
   "execution_count": 231,
   "metadata": {},
   "outputs": [],
   "source": [
    "data = pd.read_csv('dataset/ref_data.csv')"
   ]
  },
  {
   "cell_type": "code",
   "execution_count": 174,
   "metadata": {
    "scrolled": true
   },
   "outputs": [
    {
     "data": {
      "text/html": [
       "<div>\n",
       "<style scoped>\n",
       "    .dataframe tbody tr th:only-of-type {\n",
       "        vertical-align: middle;\n",
       "    }\n",
       "\n",
       "    .dataframe tbody tr th {\n",
       "        vertical-align: top;\n",
       "    }\n",
       "\n",
       "    .dataframe thead th {\n",
       "        text-align: right;\n",
       "    }\n",
       "</style>\n",
       "<table border=\"1\" class=\"dataframe\">\n",
       "  <thead>\n",
       "    <tr style=\"text-align: right;\">\n",
       "      <th></th>\n",
       "      <th>issue_d</th>\n",
       "      <th>loan_amnt</th>\n",
       "      <th>funded_amnt</th>\n",
       "      <th>term</th>\n",
       "      <th>int_rate</th>\n",
       "      <th>installment</th>\n",
       "      <th>sub_grade</th>\n",
       "      <th>emp_length</th>\n",
       "      <th>home_ownership</th>\n",
       "      <th>annual_inc</th>\n",
       "      <th>...</th>\n",
       "      <th>total_rec_late_fee</th>\n",
       "      <th>recoveries</th>\n",
       "      <th>collection_recovery_fee</th>\n",
       "      <th>last_pymnt_amnt</th>\n",
       "      <th>collections_12_mths_ex_med</th>\n",
       "      <th>acc_now_delinq</th>\n",
       "      <th>tot_coll_amt</th>\n",
       "      <th>tot_cur_bal</th>\n",
       "      <th>total_rev_hi_lim</th>\n",
       "      <th>default_ind</th>\n",
       "    </tr>\n",
       "  </thead>\n",
       "  <tbody>\n",
       "    <tr>\n",
       "      <th>0</th>\n",
       "      <td>2007-06-01</td>\n",
       "      <td>7500.0</td>\n",
       "      <td>7500.0</td>\n",
       "      <td>36 months</td>\n",
       "      <td>13.75</td>\n",
       "      <td>255.43</td>\n",
       "      <td>E2</td>\n",
       "      <td>1</td>\n",
       "      <td>Own</td>\n",
       "      <td>22000.0</td>\n",
       "      <td>...</td>\n",
       "      <td>0.0</td>\n",
       "      <td>0.0</td>\n",
       "      <td>0.0</td>\n",
       "      <td>256.59</td>\n",
       "      <td>0.01</td>\n",
       "      <td>0.0</td>\n",
       "      <td>225.41</td>\n",
       "      <td>139766.25</td>\n",
       "      <td>32163.57</td>\n",
       "      <td>0</td>\n",
       "    </tr>\n",
       "    <tr>\n",
       "      <th>1</th>\n",
       "      <td>2007-07-01</td>\n",
       "      <td>5000.0</td>\n",
       "      <td>5000.0</td>\n",
       "      <td>36 months</td>\n",
       "      <td>7.43</td>\n",
       "      <td>155.38</td>\n",
       "      <td>A2</td>\n",
       "      <td>8</td>\n",
       "      <td>Mortgage</td>\n",
       "      <td>150000.0</td>\n",
       "      <td>...</td>\n",
       "      <td>0.0</td>\n",
       "      <td>0.0</td>\n",
       "      <td>0.0</td>\n",
       "      <td>4397.47</td>\n",
       "      <td>0.01</td>\n",
       "      <td>0.0</td>\n",
       "      <td>225.41</td>\n",
       "      <td>139766.25</td>\n",
       "      <td>32163.57</td>\n",
       "      <td>0</td>\n",
       "    </tr>\n",
       "    <tr>\n",
       "      <th>2</th>\n",
       "      <td>2007-07-01</td>\n",
       "      <td>5750.0</td>\n",
       "      <td>5750.0</td>\n",
       "      <td>36 months</td>\n",
       "      <td>7.43</td>\n",
       "      <td>178.69</td>\n",
       "      <td>A2</td>\n",
       "      <td>10</td>\n",
       "      <td>Mortgage</td>\n",
       "      <td>125000.0</td>\n",
       "      <td>...</td>\n",
       "      <td>0.0</td>\n",
       "      <td>0.0</td>\n",
       "      <td>0.0</td>\n",
       "      <td>4.74</td>\n",
       "      <td>0.01</td>\n",
       "      <td>0.0</td>\n",
       "      <td>225.41</td>\n",
       "      <td>139766.25</td>\n",
       "      <td>32163.57</td>\n",
       "      <td>0</td>\n",
       "    </tr>\n",
       "    <tr>\n",
       "      <th>3</th>\n",
       "      <td>2007-07-01</td>\n",
       "      <td>5000.0</td>\n",
       "      <td>5000.0</td>\n",
       "      <td>36 months</td>\n",
       "      <td>7.43</td>\n",
       "      <td>155.38</td>\n",
       "      <td>A2</td>\n",
       "      <td>6</td>\n",
       "      <td>Rent</td>\n",
       "      <td>40000.0</td>\n",
       "      <td>...</td>\n",
       "      <td>0.0</td>\n",
       "      <td>0.0</td>\n",
       "      <td>0.0</td>\n",
       "      <td>158.65</td>\n",
       "      <td>0.01</td>\n",
       "      <td>0.0</td>\n",
       "      <td>225.41</td>\n",
       "      <td>139766.25</td>\n",
       "      <td>32163.57</td>\n",
       "      <td>0</td>\n",
       "    </tr>\n",
       "    <tr>\n",
       "      <th>4</th>\n",
       "      <td>2007-07-01</td>\n",
       "      <td>1200.0</td>\n",
       "      <td>1200.0</td>\n",
       "      <td>36 months</td>\n",
       "      <td>11.54</td>\n",
       "      <td>39.60</td>\n",
       "      <td>C5</td>\n",
       "      <td>1</td>\n",
       "      <td>Rent</td>\n",
       "      <td>20000.0</td>\n",
       "      <td>...</td>\n",
       "      <td>0.0</td>\n",
       "      <td>0.0</td>\n",
       "      <td>0.0</td>\n",
       "      <td>39.45</td>\n",
       "      <td>0.01</td>\n",
       "      <td>0.0</td>\n",
       "      <td>225.41</td>\n",
       "      <td>139766.25</td>\n",
       "      <td>32163.57</td>\n",
       "      <td>0</td>\n",
       "    </tr>\n",
       "  </tbody>\n",
       "</table>\n",
       "<p>5 rows × 36 columns</p>\n",
       "</div>"
      ],
      "text/plain": [
       "      issue_d  loan_amnt  funded_amnt        term  int_rate  installment  \\\n",
       "0  2007-06-01     7500.0       7500.0   36 months     13.75       255.43   \n",
       "1  2007-07-01     5000.0       5000.0   36 months      7.43       155.38   \n",
       "2  2007-07-01     5750.0       5750.0   36 months      7.43       178.69   \n",
       "3  2007-07-01     5000.0       5000.0   36 months      7.43       155.38   \n",
       "4  2007-07-01     1200.0       1200.0   36 months     11.54        39.60   \n",
       "\n",
       "  sub_grade  emp_length home_ownership  annual_inc  ... total_rec_late_fee  \\\n",
       "0        E2           1            Own     22000.0  ...                0.0   \n",
       "1        A2           8       Mortgage    150000.0  ...                0.0   \n",
       "2        A2          10       Mortgage    125000.0  ...                0.0   \n",
       "3        A2           6           Rent     40000.0  ...                0.0   \n",
       "4        C5           1           Rent     20000.0  ...                0.0   \n",
       "\n",
       "  recoveries  collection_recovery_fee last_pymnt_amnt  \\\n",
       "0        0.0                      0.0          256.59   \n",
       "1        0.0                      0.0         4397.47   \n",
       "2        0.0                      0.0            4.74   \n",
       "3        0.0                      0.0          158.65   \n",
       "4        0.0                      0.0           39.45   \n",
       "\n",
       "   collections_12_mths_ex_med  acc_now_delinq  tot_coll_amt tot_cur_bal  \\\n",
       "0                        0.01             0.0        225.41   139766.25   \n",
       "1                        0.01             0.0        225.41   139766.25   \n",
       "2                        0.01             0.0        225.41   139766.25   \n",
       "3                        0.01             0.0        225.41   139766.25   \n",
       "4                        0.01             0.0        225.41   139766.25   \n",
       "\n",
       "   total_rev_hi_lim  default_ind  \n",
       "0          32163.57            0  \n",
       "1          32163.57            0  \n",
       "2          32163.57            0  \n",
       "3          32163.57            0  \n",
       "4          32163.57            0  \n",
       "\n",
       "[5 rows x 36 columns]"
      ]
     },
     "execution_count": 174,
     "metadata": {},
     "output_type": "execute_result"
    }
   ],
   "source": [
    "data.head()"
   ]
  },
  {
   "cell_type": "code",
   "execution_count": 175,
   "metadata": {},
   "outputs": [],
   "source": [
    "# Devide Categorical And Numerical Data\n",
    "cat_data = data.select_dtypes('O')\n",
    "num_data = data.drop(cat_data, axis=1)"
   ]
  },
  {
   "cell_type": "code",
   "execution_count": 176,
   "metadata": {},
   "outputs": [
    {
     "data": {
      "text/html": [
       "<div>\n",
       "<style scoped>\n",
       "    .dataframe tbody tr th:only-of-type {\n",
       "        vertical-align: middle;\n",
       "    }\n",
       "\n",
       "    .dataframe tbody tr th {\n",
       "        vertical-align: top;\n",
       "    }\n",
       "\n",
       "    .dataframe thead th {\n",
       "        text-align: right;\n",
       "    }\n",
       "</style>\n",
       "<table border=\"1\" class=\"dataframe\">\n",
       "  <thead>\n",
       "    <tr style=\"text-align: right;\">\n",
       "      <th></th>\n",
       "      <th>loan_amnt</th>\n",
       "      <th>funded_amnt</th>\n",
       "      <th>int_rate</th>\n",
       "      <th>installment</th>\n",
       "      <th>emp_length</th>\n",
       "      <th>annual_inc</th>\n",
       "      <th>dti</th>\n",
       "      <th>inq_last_6mths</th>\n",
       "      <th>mths_since_last_delinq</th>\n",
       "      <th>open_acc</th>\n",
       "      <th>...</th>\n",
       "      <th>total_rec_late_fee</th>\n",
       "      <th>recoveries</th>\n",
       "      <th>collection_recovery_fee</th>\n",
       "      <th>last_pymnt_amnt</th>\n",
       "      <th>collections_12_mths_ex_med</th>\n",
       "      <th>acc_now_delinq</th>\n",
       "      <th>tot_coll_amt</th>\n",
       "      <th>tot_cur_bal</th>\n",
       "      <th>total_rev_hi_lim</th>\n",
       "      <th>default_ind</th>\n",
       "    </tr>\n",
       "  </thead>\n",
       "  <tbody>\n",
       "    <tr>\n",
       "      <th>0</th>\n",
       "      <td>7500.0</td>\n",
       "      <td>7500.0</td>\n",
       "      <td>13.75</td>\n",
       "      <td>255.43</td>\n",
       "      <td>1</td>\n",
       "      <td>22000.0</td>\n",
       "      <td>14.29</td>\n",
       "      <td>0.0</td>\n",
       "      <td>11.0</td>\n",
       "      <td>7.0</td>\n",
       "      <td>...</td>\n",
       "      <td>0.0</td>\n",
       "      <td>0.0</td>\n",
       "      <td>0.0</td>\n",
       "      <td>256.59</td>\n",
       "      <td>0.01</td>\n",
       "      <td>0.0</td>\n",
       "      <td>225.41</td>\n",
       "      <td>139766.25</td>\n",
       "      <td>32163.57</td>\n",
       "      <td>0</td>\n",
       "    </tr>\n",
       "    <tr>\n",
       "      <th>1</th>\n",
       "      <td>5000.0</td>\n",
       "      <td>5000.0</td>\n",
       "      <td>7.43</td>\n",
       "      <td>155.38</td>\n",
       "      <td>8</td>\n",
       "      <td>150000.0</td>\n",
       "      <td>0.00</td>\n",
       "      <td>0.0</td>\n",
       "      <td>0.0</td>\n",
       "      <td>2.0</td>\n",
       "      <td>...</td>\n",
       "      <td>0.0</td>\n",
       "      <td>0.0</td>\n",
       "      <td>0.0</td>\n",
       "      <td>4397.47</td>\n",
       "      <td>0.01</td>\n",
       "      <td>0.0</td>\n",
       "      <td>225.41</td>\n",
       "      <td>139766.25</td>\n",
       "      <td>32163.57</td>\n",
       "      <td>0</td>\n",
       "    </tr>\n",
       "    <tr>\n",
       "      <th>2</th>\n",
       "      <td>5750.0</td>\n",
       "      <td>5750.0</td>\n",
       "      <td>7.43</td>\n",
       "      <td>178.69</td>\n",
       "      <td>10</td>\n",
       "      <td>125000.0</td>\n",
       "      <td>0.27</td>\n",
       "      <td>0.0</td>\n",
       "      <td>0.0</td>\n",
       "      <td>10.0</td>\n",
       "      <td>...</td>\n",
       "      <td>0.0</td>\n",
       "      <td>0.0</td>\n",
       "      <td>0.0</td>\n",
       "      <td>4.74</td>\n",
       "      <td>0.01</td>\n",
       "      <td>0.0</td>\n",
       "      <td>225.41</td>\n",
       "      <td>139766.25</td>\n",
       "      <td>32163.57</td>\n",
       "      <td>0</td>\n",
       "    </tr>\n",
       "    <tr>\n",
       "      <th>3</th>\n",
       "      <td>5000.0</td>\n",
       "      <td>5000.0</td>\n",
       "      <td>7.43</td>\n",
       "      <td>155.38</td>\n",
       "      <td>6</td>\n",
       "      <td>40000.0</td>\n",
       "      <td>2.55</td>\n",
       "      <td>2.0</td>\n",
       "      <td>0.0</td>\n",
       "      <td>4.0</td>\n",
       "      <td>...</td>\n",
       "      <td>0.0</td>\n",
       "      <td>0.0</td>\n",
       "      <td>0.0</td>\n",
       "      <td>158.65</td>\n",
       "      <td>0.01</td>\n",
       "      <td>0.0</td>\n",
       "      <td>225.41</td>\n",
       "      <td>139766.25</td>\n",
       "      <td>32163.57</td>\n",
       "      <td>0</td>\n",
       "    </tr>\n",
       "    <tr>\n",
       "      <th>4</th>\n",
       "      <td>1200.0</td>\n",
       "      <td>1200.0</td>\n",
       "      <td>11.54</td>\n",
       "      <td>39.60</td>\n",
       "      <td>1</td>\n",
       "      <td>20000.0</td>\n",
       "      <td>2.04</td>\n",
       "      <td>2.0</td>\n",
       "      <td>24.0</td>\n",
       "      <td>3.0</td>\n",
       "      <td>...</td>\n",
       "      <td>0.0</td>\n",
       "      <td>0.0</td>\n",
       "      <td>0.0</td>\n",
       "      <td>39.45</td>\n",
       "      <td>0.01</td>\n",
       "      <td>0.0</td>\n",
       "      <td>225.41</td>\n",
       "      <td>139766.25</td>\n",
       "      <td>32163.57</td>\n",
       "      <td>0</td>\n",
       "    </tr>\n",
       "  </tbody>\n",
       "</table>\n",
       "<p>5 rows × 27 columns</p>\n",
       "</div>"
      ],
      "text/plain": [
       "   loan_amnt  funded_amnt  int_rate  installment  emp_length  annual_inc  \\\n",
       "0     7500.0       7500.0     13.75       255.43           1     22000.0   \n",
       "1     5000.0       5000.0      7.43       155.38           8    150000.0   \n",
       "2     5750.0       5750.0      7.43       178.69          10    125000.0   \n",
       "3     5000.0       5000.0      7.43       155.38           6     40000.0   \n",
       "4     1200.0       1200.0     11.54        39.60           1     20000.0   \n",
       "\n",
       "     dti  inq_last_6mths  mths_since_last_delinq  open_acc  ...  \\\n",
       "0  14.29             0.0                    11.0       7.0  ...   \n",
       "1   0.00             0.0                     0.0       2.0  ...   \n",
       "2   0.27             0.0                     0.0      10.0  ...   \n",
       "3   2.55             2.0                     0.0       4.0  ...   \n",
       "4   2.04             2.0                    24.0       3.0  ...   \n",
       "\n",
       "   total_rec_late_fee  recoveries  collection_recovery_fee  last_pymnt_amnt  \\\n",
       "0                 0.0         0.0                      0.0           256.59   \n",
       "1                 0.0         0.0                      0.0          4397.47   \n",
       "2                 0.0         0.0                      0.0             4.74   \n",
       "3                 0.0         0.0                      0.0           158.65   \n",
       "4                 0.0         0.0                      0.0            39.45   \n",
       "\n",
       "   collections_12_mths_ex_med  acc_now_delinq  tot_coll_amt  tot_cur_bal  \\\n",
       "0                        0.01             0.0        225.41    139766.25   \n",
       "1                        0.01             0.0        225.41    139766.25   \n",
       "2                        0.01             0.0        225.41    139766.25   \n",
       "3                        0.01             0.0        225.41    139766.25   \n",
       "4                        0.01             0.0        225.41    139766.25   \n",
       "\n",
       "   total_rev_hi_lim  default_ind  \n",
       "0          32163.57            0  \n",
       "1          32163.57            0  \n",
       "2          32163.57            0  \n",
       "3          32163.57            0  \n",
       "4          32163.57            0  \n",
       "\n",
       "[5 rows x 27 columns]"
      ]
     },
     "execution_count": 176,
     "metadata": {},
     "output_type": "execute_result"
    }
   ],
   "source": [
    "num_data.head()"
   ]
  },
  {
   "cell_type": "code",
   "execution_count": 177,
   "metadata": {
    "scrolled": true
   },
   "outputs": [
    {
     "data": {
      "text/html": [
       "<div>\n",
       "<style scoped>\n",
       "    .dataframe tbody tr th:only-of-type {\n",
       "        vertical-align: middle;\n",
       "    }\n",
       "\n",
       "    .dataframe tbody tr th {\n",
       "        vertical-align: top;\n",
       "    }\n",
       "\n",
       "    .dataframe thead th {\n",
       "        text-align: right;\n",
       "    }\n",
       "</style>\n",
       "<table border=\"1\" class=\"dataframe\">\n",
       "  <thead>\n",
       "    <tr style=\"text-align: right;\">\n",
       "      <th></th>\n",
       "      <th>issue_d</th>\n",
       "      <th>term</th>\n",
       "      <th>sub_grade</th>\n",
       "      <th>home_ownership</th>\n",
       "      <th>verification_status</th>\n",
       "      <th>purpose</th>\n",
       "      <th>delinq_2yrs</th>\n",
       "      <th>pub_rec</th>\n",
       "      <th>initial_list_status</th>\n",
       "    </tr>\n",
       "  </thead>\n",
       "  <tbody>\n",
       "    <tr>\n",
       "      <th>0</th>\n",
       "      <td>2007-06-01</td>\n",
       "      <td>36 months</td>\n",
       "      <td>E2</td>\n",
       "      <td>Own</td>\n",
       "      <td>Not Verified</td>\n",
       "      <td>debt_consolidation</td>\n",
       "      <td>Low</td>\n",
       "      <td>Good</td>\n",
       "      <td>f</td>\n",
       "    </tr>\n",
       "    <tr>\n",
       "      <th>1</th>\n",
       "      <td>2007-07-01</td>\n",
       "      <td>36 months</td>\n",
       "      <td>A2</td>\n",
       "      <td>Mortgage</td>\n",
       "      <td>Not Verified</td>\n",
       "      <td>home_improvement</td>\n",
       "      <td>Low</td>\n",
       "      <td>Good</td>\n",
       "      <td>f</td>\n",
       "    </tr>\n",
       "    <tr>\n",
       "      <th>2</th>\n",
       "      <td>2007-07-01</td>\n",
       "      <td>36 months</td>\n",
       "      <td>A2</td>\n",
       "      <td>Mortgage</td>\n",
       "      <td>Not Verified</td>\n",
       "      <td>debt_consolidation</td>\n",
       "      <td>Low</td>\n",
       "      <td>Good</td>\n",
       "      <td>f</td>\n",
       "    </tr>\n",
       "    <tr>\n",
       "      <th>3</th>\n",
       "      <td>2007-07-01</td>\n",
       "      <td>36 months</td>\n",
       "      <td>A2</td>\n",
       "      <td>Rent</td>\n",
       "      <td>Not Verified</td>\n",
       "      <td>Personal</td>\n",
       "      <td>Low</td>\n",
       "      <td>Good</td>\n",
       "      <td>f</td>\n",
       "    </tr>\n",
       "    <tr>\n",
       "      <th>4</th>\n",
       "      <td>2007-07-01</td>\n",
       "      <td>36 months</td>\n",
       "      <td>C5</td>\n",
       "      <td>Rent</td>\n",
       "      <td>Not Verified</td>\n",
       "      <td>credit_card</td>\n",
       "      <td>Low</td>\n",
       "      <td>Good</td>\n",
       "      <td>f</td>\n",
       "    </tr>\n",
       "  </tbody>\n",
       "</table>\n",
       "</div>"
      ],
      "text/plain": [
       "      issue_d        term sub_grade home_ownership verification_status  \\\n",
       "0  2007-06-01   36 months        E2            Own        Not Verified   \n",
       "1  2007-07-01   36 months        A2       Mortgage        Not Verified   \n",
       "2  2007-07-01   36 months        A2       Mortgage        Not Verified   \n",
       "3  2007-07-01   36 months        A2           Rent        Not Verified   \n",
       "4  2007-07-01   36 months        C5           Rent        Not Verified   \n",
       "\n",
       "              purpose delinq_2yrs pub_rec initial_list_status  \n",
       "0  debt_consolidation         Low    Good                   f  \n",
       "1    home_improvement         Low    Good                   f  \n",
       "2  debt_consolidation         Low    Good                   f  \n",
       "3            Personal         Low    Good                   f  \n",
       "4         credit_card         Low    Good                   f  "
      ]
     },
     "execution_count": 177,
     "metadata": {},
     "output_type": "execute_result"
    }
   ],
   "source": [
    "cat_data.head()"
   ]
  },
  {
   "cell_type": "code",
   "execution_count": 178,
   "metadata": {},
   "outputs": [
    {
     "name": "stderr",
     "output_type": "stream",
     "text": [
      "C:\\Users\\HP\\Anaconda\\lib\\site-packages\\pandas\\core\\frame.py:3940: SettingWithCopyWarning: \n",
      "A value is trying to be set on a copy of a slice from a DataFrame\n",
      "\n",
      "See the caveats in the documentation: http://pandas.pydata.org/pandas-docs/stable/indexing.html#indexing-view-versus-copy\n",
      "  errors=errors)\n"
     ]
    }
   ],
   "source": [
    "cat_data.drop('issue_d', axis=1, inplace = True)"
   ]
  },
  {
   "cell_type": "code",
   "execution_count": 179,
   "metadata": {},
   "outputs": [],
   "source": [
    "# Getting Dummies for Categorical Features\n",
    "cat_data_dummies = pd.get_dummies(cat_data, drop_first = True)"
   ]
  },
  {
   "cell_type": "code",
   "execution_count": 180,
   "metadata": {},
   "outputs": [
    {
     "data": {
      "text/html": [
       "<div>\n",
       "<style scoped>\n",
       "    .dataframe tbody tr th:only-of-type {\n",
       "        vertical-align: middle;\n",
       "    }\n",
       "\n",
       "    .dataframe tbody tr th {\n",
       "        vertical-align: top;\n",
       "    }\n",
       "\n",
       "    .dataframe thead th {\n",
       "        text-align: right;\n",
       "    }\n",
       "</style>\n",
       "<table border=\"1\" class=\"dataframe\">\n",
       "  <thead>\n",
       "    <tr style=\"text-align: right;\">\n",
       "      <th></th>\n",
       "      <th>term_ 60 months</th>\n",
       "      <th>sub_grade_A2</th>\n",
       "      <th>sub_grade_A3</th>\n",
       "      <th>sub_grade_A4</th>\n",
       "      <th>sub_grade_A5</th>\n",
       "      <th>sub_grade_B1</th>\n",
       "      <th>sub_grade_B2</th>\n",
       "      <th>sub_grade_B3</th>\n",
       "      <th>sub_grade_B4</th>\n",
       "      <th>sub_grade_B5</th>\n",
       "      <th>...</th>\n",
       "      <th>home_ownership_Own</th>\n",
       "      <th>home_ownership_Rent</th>\n",
       "      <th>verification_status_Verified</th>\n",
       "      <th>purpose_Personal</th>\n",
       "      <th>purpose_credit_card</th>\n",
       "      <th>purpose_debt_consolidation</th>\n",
       "      <th>purpose_home_improvement</th>\n",
       "      <th>delinq_2yrs_Low</th>\n",
       "      <th>pub_rec_Good</th>\n",
       "      <th>initial_list_status_w</th>\n",
       "    </tr>\n",
       "  </thead>\n",
       "  <tbody>\n",
       "    <tr>\n",
       "      <th>0</th>\n",
       "      <td>0</td>\n",
       "      <td>0</td>\n",
       "      <td>0</td>\n",
       "      <td>0</td>\n",
       "      <td>0</td>\n",
       "      <td>0</td>\n",
       "      <td>0</td>\n",
       "      <td>0</td>\n",
       "      <td>0</td>\n",
       "      <td>0</td>\n",
       "      <td>...</td>\n",
       "      <td>1</td>\n",
       "      <td>0</td>\n",
       "      <td>0</td>\n",
       "      <td>0</td>\n",
       "      <td>0</td>\n",
       "      <td>1</td>\n",
       "      <td>0</td>\n",
       "      <td>1</td>\n",
       "      <td>1</td>\n",
       "      <td>0</td>\n",
       "    </tr>\n",
       "    <tr>\n",
       "      <th>1</th>\n",
       "      <td>0</td>\n",
       "      <td>1</td>\n",
       "      <td>0</td>\n",
       "      <td>0</td>\n",
       "      <td>0</td>\n",
       "      <td>0</td>\n",
       "      <td>0</td>\n",
       "      <td>0</td>\n",
       "      <td>0</td>\n",
       "      <td>0</td>\n",
       "      <td>...</td>\n",
       "      <td>0</td>\n",
       "      <td>0</td>\n",
       "      <td>0</td>\n",
       "      <td>0</td>\n",
       "      <td>0</td>\n",
       "      <td>0</td>\n",
       "      <td>1</td>\n",
       "      <td>1</td>\n",
       "      <td>1</td>\n",
       "      <td>0</td>\n",
       "    </tr>\n",
       "    <tr>\n",
       "      <th>2</th>\n",
       "      <td>0</td>\n",
       "      <td>1</td>\n",
       "      <td>0</td>\n",
       "      <td>0</td>\n",
       "      <td>0</td>\n",
       "      <td>0</td>\n",
       "      <td>0</td>\n",
       "      <td>0</td>\n",
       "      <td>0</td>\n",
       "      <td>0</td>\n",
       "      <td>...</td>\n",
       "      <td>0</td>\n",
       "      <td>0</td>\n",
       "      <td>0</td>\n",
       "      <td>0</td>\n",
       "      <td>0</td>\n",
       "      <td>1</td>\n",
       "      <td>0</td>\n",
       "      <td>1</td>\n",
       "      <td>1</td>\n",
       "      <td>0</td>\n",
       "    </tr>\n",
       "    <tr>\n",
       "      <th>3</th>\n",
       "      <td>0</td>\n",
       "      <td>1</td>\n",
       "      <td>0</td>\n",
       "      <td>0</td>\n",
       "      <td>0</td>\n",
       "      <td>0</td>\n",
       "      <td>0</td>\n",
       "      <td>0</td>\n",
       "      <td>0</td>\n",
       "      <td>0</td>\n",
       "      <td>...</td>\n",
       "      <td>0</td>\n",
       "      <td>1</td>\n",
       "      <td>0</td>\n",
       "      <td>1</td>\n",
       "      <td>0</td>\n",
       "      <td>0</td>\n",
       "      <td>0</td>\n",
       "      <td>1</td>\n",
       "      <td>1</td>\n",
       "      <td>0</td>\n",
       "    </tr>\n",
       "    <tr>\n",
       "      <th>4</th>\n",
       "      <td>0</td>\n",
       "      <td>0</td>\n",
       "      <td>0</td>\n",
       "      <td>0</td>\n",
       "      <td>0</td>\n",
       "      <td>0</td>\n",
       "      <td>0</td>\n",
       "      <td>0</td>\n",
       "      <td>0</td>\n",
       "      <td>0</td>\n",
       "      <td>...</td>\n",
       "      <td>0</td>\n",
       "      <td>1</td>\n",
       "      <td>0</td>\n",
       "      <td>0</td>\n",
       "      <td>1</td>\n",
       "      <td>0</td>\n",
       "      <td>0</td>\n",
       "      <td>1</td>\n",
       "      <td>1</td>\n",
       "      <td>0</td>\n",
       "    </tr>\n",
       "  </tbody>\n",
       "</table>\n",
       "<p>5 rows × 46 columns</p>\n",
       "</div>"
      ],
      "text/plain": [
       "   term_ 60 months  sub_grade_A2  sub_grade_A3  sub_grade_A4  sub_grade_A5  \\\n",
       "0                0             0             0             0             0   \n",
       "1                0             1             0             0             0   \n",
       "2                0             1             0             0             0   \n",
       "3                0             1             0             0             0   \n",
       "4                0             0             0             0             0   \n",
       "\n",
       "   sub_grade_B1  sub_grade_B2  sub_grade_B3  sub_grade_B4  sub_grade_B5  ...  \\\n",
       "0             0             0             0             0             0  ...   \n",
       "1             0             0             0             0             0  ...   \n",
       "2             0             0             0             0             0  ...   \n",
       "3             0             0             0             0             0  ...   \n",
       "4             0             0             0             0             0  ...   \n",
       "\n",
       "   home_ownership_Own  home_ownership_Rent  verification_status_Verified  \\\n",
       "0                   1                    0                             0   \n",
       "1                   0                    0                             0   \n",
       "2                   0                    0                             0   \n",
       "3                   0                    1                             0   \n",
       "4                   0                    1                             0   \n",
       "\n",
       "   purpose_Personal  purpose_credit_card  purpose_debt_consolidation  \\\n",
       "0                 0                    0                           1   \n",
       "1                 0                    0                           0   \n",
       "2                 0                    0                           1   \n",
       "3                 1                    0                           0   \n",
       "4                 0                    1                           0   \n",
       "\n",
       "   purpose_home_improvement  delinq_2yrs_Low  pub_rec_Good  \\\n",
       "0                         0                1             1   \n",
       "1                         1                1             1   \n",
       "2                         0                1             1   \n",
       "3                         0                1             1   \n",
       "4                         0                1             1   \n",
       "\n",
       "   initial_list_status_w  \n",
       "0                      0  \n",
       "1                      0  \n",
       "2                      0  \n",
       "3                      0  \n",
       "4                      0  \n",
       "\n",
       "[5 rows x 46 columns]"
      ]
     },
     "execution_count": 180,
     "metadata": {},
     "output_type": "execute_result"
    }
   ],
   "source": [
    "cat_data_dummies.head()"
   ]
  },
  {
   "cell_type": "code",
   "execution_count": 181,
   "metadata": {},
   "outputs": [],
   "source": [
    "from sklearn.preprocessing import StandardScaler as sc"
   ]
  },
  {
   "cell_type": "code",
   "execution_count": 182,
   "metadata": {},
   "outputs": [],
   "source": [
    "# Standardise Numeric data\n",
    "stanard_pca_data = sc().fit_transform(num_data)"
   ]
  },
  {
   "cell_type": "code",
   "execution_count": 183,
   "metadata": {
    "scrolled": false
   },
   "outputs": [],
   "source": [
    "# Calculating covarience_matrix\n",
    "cov_mat = np.cov(stanard_pca_data.T)  ## Pass transpose of  matrix as it require data row vise"
   ]
  },
  {
   "cell_type": "code",
   "execution_count": 184,
   "metadata": {},
   "outputs": [],
   "source": [
    "# Find Eigen values, Eigen vectors \n",
    "eig_values, eig_vectors = np.linalg.eig(cov_mat)"
   ]
  },
  {
   "cell_type": "code",
   "execution_count": 185,
   "metadata": {
    "scrolled": false
   },
   "outputs": [],
   "source": [
    "# Eigen values and vectors pair vise\n",
    "eig_pairs = [(np.abs(eig_values[i]), eig_vectors[:, i]) for i in range(len(eig_values))]"
   ]
  },
  {
   "cell_type": "code",
   "execution_count": 186,
   "metadata": {},
   "outputs": [
    {
     "name": "stdout",
     "output_type": "stream",
     "text": [
      "Variance explained: [19.413874842871472, 10.371658380591004, 8.282464615155533, 7.2433629737475815, 5.907358217447913, 5.07752156702491, 4.231390164549699, 3.9641547114550266, 3.8819515894532466, 3.7217656267650145, 3.631618369578798, 3.428941665513923, 3.377588571591409, 3.163808765893275, 2.638054008099585, 2.50693289166129, 2.228900465845327, 1.9649570331254012, 1.8775322825114387, 1.0450638328194755, 0.6704594221509897, 0.6279057459642196, 0.47905376002648153, 0.19175928793367616, 0.06926771672497133, 0.0026534914983070484, 2.4036629833325544e-14]\n"
     ]
    }
   ],
   "source": [
    "# Ordering Eigen values and vectors descending manner\n",
    "total = sum(eig_values)\n",
    "var_exp = [(i / total)*100 for i in sorted(eig_values, reverse=True)]\n",
    "print(\"Variance explained:\", var_exp)"
   ]
  },
  {
   "cell_type": "code",
   "execution_count": 187,
   "metadata": {},
   "outputs": [
    {
     "name": "stdout",
     "output_type": "stream",
     "text": [
      "Cumulative explained variance: [ 19.41387484  29.78553322  38.06799784  45.31136081  51.21871903\n",
      "  56.2962406   60.52763076  64.49178547  68.37373706  72.09550269\n",
      "  75.72712106  79.15606272  82.5336513   85.69746006  88.33551407\n",
      "  90.84244696  93.07134743  95.03630446  96.91383674  97.95890058\n",
      "  98.62936     99.25726574  99.7363195   99.92807879  99.99734651\n",
      " 100.         100.        ]\n"
     ]
    }
   ],
   "source": [
    "# Calculate Cumulative explained variance\n",
    "cum_var_exp = np.cumsum(var_exp)\n",
    "print(\"Cumulative explained variance:\", cum_var_exp)"
   ]
  },
  {
   "cell_type": "code",
   "execution_count": 188,
   "metadata": {},
   "outputs": [
    {
     "data": {
      "image/png": "[encoded data removed]",
      "text/plain": [
       "<Figure size 720x432 with 1 Axes>"
      ]
     },
     "metadata": {
      "needs_background": "light"
     },
     "output_type": "display_data"
    }
   ],
   "source": [
    "plt.figure(figsize=(10,6))\n",
    "plt.bar(range(len(num_data.columns)), var_exp, alpha=0.7, align='center', label=\"Individual explained variance\", color='green')\n",
    "plt.ylabel('Variance ratio')\n",
    "plt.xlabel('Principal components')\n",
    "plt.legend(loc='best')\n",
    "plt.show()"
   ]
  },
  {
   "cell_type": "code",
   "execution_count": 189,
   "metadata": {},
   "outputs": [],
   "source": [
    "from sklearn.decomposition import PCA"
   ]
  },
  {
   "cell_type": "code",
   "execution_count": 190,
   "metadata": {},
   "outputs": [],
   "source": [
    "# Creating PCA component\n",
    "pca = PCA(n_components=6)"
   ]
  },
  {
   "cell_type": "code",
   "execution_count": 191,
   "metadata": {
    "scrolled": true
   },
   "outputs": [
    {
     "name": "stdout",
     "output_type": "stream",
     "text": [
      "[0.77523628 0.14722482 0.05873392 0.00702459 0.00563435 0.00526622]\n"
     ]
    }
   ],
   "source": [
    "pca.fit(num_data)\n",
    "print(pca.explained_variance_ratio_)"
   ]
  },
  {
   "cell_type": "code",
   "execution_count": 192,
   "metadata": {},
   "outputs": [
    {
     "data": {
      "text/plain": [
       "0.9991201848725639"
      ]
     },
     "execution_count": 192,
     "metadata": {},
     "output_type": "execute_result"
    }
   ],
   "source": [
    "pca.explained_variance_ratio_.sum()"
   ]
  },
  {
   "cell_type": "code",
   "execution_count": 193,
   "metadata": {},
   "outputs": [],
   "source": [
    "# Preparing for add PCA vars and remove original Columns from data\n",
    "numerical_col_names = list(num_data.columns)"
   ]
  },
  {
   "cell_type": "code",
   "execution_count": 194,
   "metadata": {},
   "outputs": [],
   "source": [
    "# Fitting numeric Data into PCA model\n",
    "optimised_columns = pca.fit_transform(num_data)"
   ]
  },
  {
   "cell_type": "code",
   "execution_count": 195,
   "metadata": {},
   "outputs": [],
   "source": [
    "# Converting it into Dataframe for join dataframe\n",
    "optimised_columns = pd.DataFrame(optimised_columns)\n",
    "optimised_columns.columns = [\"PCA1\",\"PCA2\",\"PCA3\",\"PCA4\",\"PCA5\",\"PCA6\"]"
   ]
  },
  {
   "cell_type": "code",
   "execution_count": 196,
   "metadata": {
    "scrolled": true
   },
   "outputs": [
    {
     "data": {
      "text/html": [
       "<div>\n",
       "<style scoped>\n",
       "    .dataframe tbody tr th:only-of-type {\n",
       "        vertical-align: middle;\n",
       "    }\n",
       "\n",
       "    .dataframe tbody tr th {\n",
       "        vertical-align: top;\n",
       "    }\n",
       "\n",
       "    .dataframe thead th {\n",
       "        text-align: right;\n",
       "    }\n",
       "</style>\n",
       "<table border=\"1\" class=\"dataframe\">\n",
       "  <thead>\n",
       "    <tr style=\"text-align: right;\">\n",
       "      <th></th>\n",
       "      <th>PCA1</th>\n",
       "      <th>PCA2</th>\n",
       "      <th>PCA3</th>\n",
       "      <th>PCA4</th>\n",
       "      <th>PCA5</th>\n",
       "      <th>PCA6</th>\n",
       "    </tr>\n",
       "  </thead>\n",
       "  <tbody>\n",
       "    <tr>\n",
       "      <th>0</th>\n",
       "      <td>-10098.368627</td>\n",
       "      <td>-53171.134717</td>\n",
       "      <td>2532.301032</td>\n",
       "      <td>9008.163115</td>\n",
       "      <td>11823.560658</td>\n",
       "      <td>-1541.921784</td>\n",
       "    </tr>\n",
       "    <tr>\n",
       "      <th>1</th>\n",
       "      <td>18180.442027</td>\n",
       "      <td>69364.771571</td>\n",
       "      <td>-19393.611121</td>\n",
       "      <td>19334.165222</td>\n",
       "      <td>10018.958969</td>\n",
       "      <td>-4093.041959</td>\n",
       "    </tr>\n",
       "    <tr>\n",
       "      <th>2</th>\n",
       "      <td>12468.336481</td>\n",
       "      <td>45214.263161</td>\n",
       "      <td>-16390.257014</td>\n",
       "      <td>18005.810521</td>\n",
       "      <td>11719.484015</td>\n",
       "      <td>-1452.301148</td>\n",
       "    </tr>\n",
       "    <tr>\n",
       "      <th>3</th>\n",
       "      <td>-6397.892539</td>\n",
       "      <td>-36295.345541</td>\n",
       "      <td>-1614.935760</td>\n",
       "      <td>15305.699994</td>\n",
       "      <td>10696.029224</td>\n",
       "      <td>-561.794258</td>\n",
       "    </tr>\n",
       "    <tr>\n",
       "      <th>4</th>\n",
       "      <td>-11161.849718</td>\n",
       "      <td>-55905.933075</td>\n",
       "      <td>904.783649</td>\n",
       "      <td>21654.047349</td>\n",
       "      <td>8510.690826</td>\n",
       "      <td>408.970360</td>\n",
       "    </tr>\n",
       "  </tbody>\n",
       "</table>\n",
       "</div>"
      ],
      "text/plain": [
       "           PCA1          PCA2          PCA3          PCA4          PCA5  \\\n",
       "0 -10098.368627 -53171.134717   2532.301032   9008.163115  11823.560658   \n",
       "1  18180.442027  69364.771571 -19393.611121  19334.165222  10018.958969   \n",
       "2  12468.336481  45214.263161 -16390.257014  18005.810521  11719.484015   \n",
       "3  -6397.892539 -36295.345541  -1614.935760  15305.699994  10696.029224   \n",
       "4 -11161.849718 -55905.933075    904.783649  21654.047349   8510.690826   \n",
       "\n",
       "          PCA6  \n",
       "0 -1541.921784  \n",
       "1 -4093.041959  \n",
       "2 -1452.301148  \n",
       "3  -561.794258  \n",
       "4   408.970360  "
      ]
     },
     "execution_count": 196,
     "metadata": {},
     "output_type": "execute_result"
    }
   ],
   "source": [
    "optimised_columns.head()"
   ]
  },
  {
   "cell_type": "code",
   "execution_count": 197,
   "metadata": {},
   "outputs": [
    {
     "name": "stdout",
     "output_type": "stream",
     "text": [
      "Shape of Data (855969, 36)\n",
      "Shape of PCA Components (855969, 6)\n"
     ]
    }
   ],
   "source": [
    "print(\"Shape of Data\", data.shape)\n",
    "print(\"Shape of PCA Components\", optimised_columns.shape)"
   ]
  },
  {
   "cell_type": "code",
   "execution_count": 232,
   "metadata": {},
   "outputs": [],
   "source": [
    "final_data = pd.concat([data.default_ind,optimised_columns,cat_data_dummies], axis =1)"
   ]
  },
  {
   "cell_type": "code",
   "execution_count": 235,
   "metadata": {},
   "outputs": [],
   "source": [
    "final_df = pd.concat([data.issue_d,final_data], axis =1)"
   ]
  },
  {
   "cell_type": "code",
   "execution_count": 236,
   "metadata": {},
   "outputs": [
    {
     "data": {
      "text/plain": [
       "(855969, 54)"
      ]
     },
     "execution_count": 236,
     "metadata": {},
     "output_type": "execute_result"
    }
   ],
   "source": [
    "final_df.shape"
   ]
  },
  {
   "cell_type": "code",
   "execution_count": 237,
   "metadata": {},
   "outputs": [
    {
     "data": {
      "text/html": [
       "<div>\n",
       "<style scoped>\n",
       "    .dataframe tbody tr th:only-of-type {\n",
       "        vertical-align: middle;\n",
       "    }\n",
       "\n",
       "    .dataframe tbody tr th {\n",
       "        vertical-align: top;\n",
       "    }\n",
       "\n",
       "    .dataframe thead th {\n",
       "        text-align: right;\n",
       "    }\n",
       "</style>\n",
       "<table border=\"1\" class=\"dataframe\">\n",
       "  <thead>\n",
       "    <tr style=\"text-align: right;\">\n",
       "      <th></th>\n",
       "      <th>issue_d</th>\n",
       "      <th>default_ind</th>\n",
       "      <th>PCA1</th>\n",
       "      <th>PCA2</th>\n",
       "      <th>PCA3</th>\n",
       "      <th>PCA4</th>\n",
       "      <th>PCA5</th>\n",
       "      <th>PCA6</th>\n",
       "      <th>term_ 60 months</th>\n",
       "      <th>sub_grade_A2</th>\n",
       "      <th>...</th>\n",
       "      <th>home_ownership_Own</th>\n",
       "      <th>home_ownership_Rent</th>\n",
       "      <th>verification_status_Verified</th>\n",
       "      <th>purpose_Personal</th>\n",
       "      <th>purpose_credit_card</th>\n",
       "      <th>purpose_debt_consolidation</th>\n",
       "      <th>purpose_home_improvement</th>\n",
       "      <th>delinq_2yrs_Low</th>\n",
       "      <th>pub_rec_Good</th>\n",
       "      <th>initial_list_status_w</th>\n",
       "    </tr>\n",
       "  </thead>\n",
       "  <tbody>\n",
       "    <tr>\n",
       "      <th>0</th>\n",
       "      <td>2007-06-01</td>\n",
       "      <td>0</td>\n",
       "      <td>-10098.368627</td>\n",
       "      <td>-53171.134717</td>\n",
       "      <td>2532.301032</td>\n",
       "      <td>9008.163115</td>\n",
       "      <td>11823.560658</td>\n",
       "      <td>-1541.921784</td>\n",
       "      <td>0</td>\n",
       "      <td>0</td>\n",
       "      <td>...</td>\n",
       "      <td>1</td>\n",
       "      <td>0</td>\n",
       "      <td>0</td>\n",
       "      <td>0</td>\n",
       "      <td>0</td>\n",
       "      <td>1</td>\n",
       "      <td>0</td>\n",
       "      <td>1</td>\n",
       "      <td>1</td>\n",
       "      <td>0</td>\n",
       "    </tr>\n",
       "    <tr>\n",
       "      <th>1</th>\n",
       "      <td>2007-07-01</td>\n",
       "      <td>0</td>\n",
       "      <td>18180.442027</td>\n",
       "      <td>69364.771571</td>\n",
       "      <td>-19393.611121</td>\n",
       "      <td>19334.165222</td>\n",
       "      <td>10018.958969</td>\n",
       "      <td>-4093.041959</td>\n",
       "      <td>0</td>\n",
       "      <td>1</td>\n",
       "      <td>...</td>\n",
       "      <td>0</td>\n",
       "      <td>0</td>\n",
       "      <td>0</td>\n",
       "      <td>0</td>\n",
       "      <td>0</td>\n",
       "      <td>0</td>\n",
       "      <td>1</td>\n",
       "      <td>1</td>\n",
       "      <td>1</td>\n",
       "      <td>0</td>\n",
       "    </tr>\n",
       "    <tr>\n",
       "      <th>2</th>\n",
       "      <td>2007-07-01</td>\n",
       "      <td>0</td>\n",
       "      <td>12468.336481</td>\n",
       "      <td>45214.263161</td>\n",
       "      <td>-16390.257014</td>\n",
       "      <td>18005.810521</td>\n",
       "      <td>11719.484015</td>\n",
       "      <td>-1452.301148</td>\n",
       "      <td>0</td>\n",
       "      <td>1</td>\n",
       "      <td>...</td>\n",
       "      <td>0</td>\n",
       "      <td>0</td>\n",
       "      <td>0</td>\n",
       "      <td>0</td>\n",
       "      <td>0</td>\n",
       "      <td>1</td>\n",
       "      <td>0</td>\n",
       "      <td>1</td>\n",
       "      <td>1</td>\n",
       "      <td>0</td>\n",
       "    </tr>\n",
       "    <tr>\n",
       "      <th>3</th>\n",
       "      <td>2007-07-01</td>\n",
       "      <td>0</td>\n",
       "      <td>-6397.892539</td>\n",
       "      <td>-36295.345541</td>\n",
       "      <td>-1614.935760</td>\n",
       "      <td>15305.699994</td>\n",
       "      <td>10696.029224</td>\n",
       "      <td>-561.794258</td>\n",
       "      <td>0</td>\n",
       "      <td>1</td>\n",
       "      <td>...</td>\n",
       "      <td>0</td>\n",
       "      <td>1</td>\n",
       "      <td>0</td>\n",
       "      <td>1</td>\n",
       "      <td>0</td>\n",
       "      <td>0</td>\n",
       "      <td>0</td>\n",
       "      <td>1</td>\n",
       "      <td>1</td>\n",
       "      <td>0</td>\n",
       "    </tr>\n",
       "    <tr>\n",
       "      <th>4</th>\n",
       "      <td>2007-07-01</td>\n",
       "      <td>0</td>\n",
       "      <td>-11161.849718</td>\n",
       "      <td>-55905.933075</td>\n",
       "      <td>904.783649</td>\n",
       "      <td>21654.047349</td>\n",
       "      <td>8510.690826</td>\n",
       "      <td>408.970360</td>\n",
       "      <td>0</td>\n",
       "      <td>0</td>\n",
       "      <td>...</td>\n",
       "      <td>0</td>\n",
       "      <td>1</td>\n",
       "      <td>0</td>\n",
       "      <td>0</td>\n",
       "      <td>1</td>\n",
       "      <td>0</td>\n",
       "      <td>0</td>\n",
       "      <td>1</td>\n",
       "      <td>1</td>\n",
       "      <td>0</td>\n",
       "    </tr>\n",
       "  </tbody>\n",
       "</table>\n",
       "<p>5 rows × 54 columns</p>\n",
       "</div>"
      ],
      "text/plain": [
       "      issue_d  default_ind          PCA1          PCA2          PCA3  \\\n",
       "0  2007-06-01            0 -10098.368627 -53171.134717   2532.301032   \n",
       "1  2007-07-01            0  18180.442027  69364.771571 -19393.611121   \n",
       "2  2007-07-01            0  12468.336481  45214.263161 -16390.257014   \n",
       "3  2007-07-01            0  -6397.892539 -36295.345541  -1614.935760   \n",
       "4  2007-07-01            0 -11161.849718 -55905.933075    904.783649   \n",
       "\n",
       "           PCA4          PCA5         PCA6  term_ 60 months  sub_grade_A2  \\\n",
       "0   9008.163115  11823.560658 -1541.921784                0             0   \n",
       "1  19334.165222  10018.958969 -4093.041959                0             1   \n",
       "2  18005.810521  11719.484015 -1452.301148                0             1   \n",
       "3  15305.699994  10696.029224  -561.794258                0             1   \n",
       "4  21654.047349   8510.690826   408.970360                0             0   \n",
       "\n",
       "   ...  home_ownership_Own  home_ownership_Rent  verification_status_Verified  \\\n",
       "0  ...                   1                    0                             0   \n",
       "1  ...                   0                    0                             0   \n",
       "2  ...                   0                    0                             0   \n",
       "3  ...                   0                    1                             0   \n",
       "4  ...                   0                    1                             0   \n",
       "\n",
       "   purpose_Personal  purpose_credit_card  purpose_debt_consolidation  \\\n",
       "0                 0                    0                           1   \n",
       "1                 0                    0                           0   \n",
       "2                 0                    0                           1   \n",
       "3                 1                    0                           0   \n",
       "4                 0                    1                           0   \n",
       "\n",
       "   purpose_home_improvement  delinq_2yrs_Low  pub_rec_Good  \\\n",
       "0                         0                1             1   \n",
       "1                         1                1             1   \n",
       "2                         0                1             1   \n",
       "3                         0                1             1   \n",
       "4                         0                1             1   \n",
       "\n",
       "   initial_list_status_w  \n",
       "0                      0  \n",
       "1                      0  \n",
       "2                      0  \n",
       "3                      0  \n",
       "4                      0  \n",
       "\n",
       "[5 rows x 54 columns]"
      ]
     },
     "execution_count": 237,
     "metadata": {},
     "output_type": "execute_result"
    }
   ],
   "source": [
    "final_df.head()"
   ]
  },
  {
   "cell_type": "code",
   "execution_count": 239,
   "metadata": {},
   "outputs": [],
   "source": [
    "final_df.to_csv('dataset/final_data.csv',index=False)"
   ]
  },
  {
   "cell_type": "markdown",
   "metadata": {},
   "source": [
    "<a id='Model_Building'></a>\n",
    "## Model Building\n",
    "\n",
    "As this is classification problem. So, we can apply following algorithms.\n",
    "\n",
    "* Logistic Regression\n",
    "* Random Forest\n",
    "* Support Vector Machine\n",
    "* K Nearest Neighbour"
   ]
  },
  {
   "cell_type": "code",
   "execution_count": 240,
   "metadata": {},
   "outputs": [],
   "source": [
    "df = pd.read_csv('dataset/final_data.csv', index_col = 'issue_d')"
   ]
  },
  {
   "cell_type": "code",
   "execution_count": 241,
   "metadata": {},
   "outputs": [
    {
     "data": {
      "text/html": [
       "<div>\n",
       "<style scoped>\n",
       "    .dataframe tbody tr th:only-of-type {\n",
       "        vertical-align: middle;\n",
       "    }\n",
       "\n",
       "    .dataframe tbody tr th {\n",
       "        vertical-align: top;\n",
       "    }\n",
       "\n",
       "    .dataframe thead th {\n",
       "        text-align: right;\n",
       "    }\n",
       "</style>\n",
       "<table border=\"1\" class=\"dataframe\">\n",
       "  <thead>\n",
       "    <tr style=\"text-align: right;\">\n",
       "      <th></th>\n",
       "      <th>default_ind</th>\n",
       "      <th>PCA1</th>\n",
       "      <th>PCA2</th>\n",
       "      <th>PCA3</th>\n",
       "      <th>PCA4</th>\n",
       "      <th>PCA5</th>\n",
       "      <th>PCA6</th>\n",
       "      <th>term_ 60 months</th>\n",
       "      <th>sub_grade_A2</th>\n",
       "      <th>sub_grade_A3</th>\n",
       "      <th>...</th>\n",
       "      <th>home_ownership_Own</th>\n",
       "      <th>home_ownership_Rent</th>\n",
       "      <th>verification_status_Verified</th>\n",
       "      <th>purpose_Personal</th>\n",
       "      <th>purpose_credit_card</th>\n",
       "      <th>purpose_debt_consolidation</th>\n",
       "      <th>purpose_home_improvement</th>\n",
       "      <th>delinq_2yrs_Low</th>\n",
       "      <th>pub_rec_Good</th>\n",
       "      <th>initial_list_status_w</th>\n",
       "    </tr>\n",
       "    <tr>\n",
       "      <th>issue_d</th>\n",
       "      <th></th>\n",
       "      <th></th>\n",
       "      <th></th>\n",
       "      <th></th>\n",
       "      <th></th>\n",
       "      <th></th>\n",
       "      <th></th>\n",
       "      <th></th>\n",
       "      <th></th>\n",
       "      <th></th>\n",
       "      <th></th>\n",
       "      <th></th>\n",
       "      <th></th>\n",
       "      <th></th>\n",
       "      <th></th>\n",
       "      <th></th>\n",
       "      <th></th>\n",
       "      <th></th>\n",
       "      <th></th>\n",
       "      <th></th>\n",
       "      <th></th>\n",
       "    </tr>\n",
       "  </thead>\n",
       "  <tbody>\n",
       "    <tr>\n",
       "      <th>2007-06-01</th>\n",
       "      <td>0</td>\n",
       "      <td>-10098.368627</td>\n",
       "      <td>-53171.134717</td>\n",
       "      <td>2532.301032</td>\n",
       "      <td>9008.163115</td>\n",
       "      <td>11823.560658</td>\n",
       "      <td>-1541.921784</td>\n",
       "      <td>0</td>\n",
       "      <td>0</td>\n",
       "      <td>0</td>\n",
       "      <td>...</td>\n",
       "      <td>1</td>\n",
       "      <td>0</td>\n",
       "      <td>0</td>\n",
       "      <td>0</td>\n",
       "      <td>0</td>\n",
       "      <td>1</td>\n",
       "      <td>0</td>\n",
       "      <td>1</td>\n",
       "      <td>1</td>\n",
       "      <td>0</td>\n",
       "    </tr>\n",
       "    <tr>\n",
       "      <th>2007-07-01</th>\n",
       "      <td>0</td>\n",
       "      <td>18180.442027</td>\n",
       "      <td>69364.771571</td>\n",
       "      <td>-19393.611121</td>\n",
       "      <td>19334.165222</td>\n",
       "      <td>10018.958969</td>\n",
       "      <td>-4093.041959</td>\n",
       "      <td>0</td>\n",
       "      <td>1</td>\n",
       "      <td>0</td>\n",
       "      <td>...</td>\n",
       "      <td>0</td>\n",
       "      <td>0</td>\n",
       "      <td>0</td>\n",
       "      <td>0</td>\n",
       "      <td>0</td>\n",
       "      <td>0</td>\n",
       "      <td>1</td>\n",
       "      <td>1</td>\n",
       "      <td>1</td>\n",
       "      <td>0</td>\n",
       "    </tr>\n",
       "    <tr>\n",
       "      <th>2007-07-01</th>\n",
       "      <td>0</td>\n",
       "      <td>12468.336481</td>\n",
       "      <td>45214.263161</td>\n",
       "      <td>-16390.257014</td>\n",
       "      <td>18005.810521</td>\n",
       "      <td>11719.484015</td>\n",
       "      <td>-1452.301148</td>\n",
       "      <td>0</td>\n",
       "      <td>1</td>\n",
       "      <td>0</td>\n",
       "      <td>...</td>\n",
       "      <td>0</td>\n",
       "      <td>0</td>\n",
       "      <td>0</td>\n",
       "      <td>0</td>\n",
       "      <td>0</td>\n",
       "      <td>1</td>\n",
       "      <td>0</td>\n",
       "      <td>1</td>\n",
       "      <td>1</td>\n",
       "      <td>0</td>\n",
       "    </tr>\n",
       "    <tr>\n",
       "      <th>2007-07-01</th>\n",
       "      <td>0</td>\n",
       "      <td>-6397.892539</td>\n",
       "      <td>-36295.345541</td>\n",
       "      <td>-1614.935760</td>\n",
       "      <td>15305.699994</td>\n",
       "      <td>10696.029224</td>\n",
       "      <td>-561.794258</td>\n",
       "      <td>0</td>\n",
       "      <td>1</td>\n",
       "      <td>0</td>\n",
       "      <td>...</td>\n",
       "      <td>0</td>\n",
       "      <td>1</td>\n",
       "      <td>0</td>\n",
       "      <td>1</td>\n",
       "      <td>0</td>\n",
       "      <td>0</td>\n",
       "      <td>0</td>\n",
       "      <td>1</td>\n",
       "      <td>1</td>\n",
       "      <td>0</td>\n",
       "    </tr>\n",
       "    <tr>\n",
       "      <th>2007-07-01</th>\n",
       "      <td>0</td>\n",
       "      <td>-11161.849718</td>\n",
       "      <td>-55905.933075</td>\n",
       "      <td>904.783649</td>\n",
       "      <td>21654.047349</td>\n",
       "      <td>8510.690826</td>\n",
       "      <td>408.970360</td>\n",
       "      <td>0</td>\n",
       "      <td>0</td>\n",
       "      <td>0</td>\n",
       "      <td>...</td>\n",
       "      <td>0</td>\n",
       "      <td>1</td>\n",
       "      <td>0</td>\n",
       "      <td>0</td>\n",
       "      <td>1</td>\n",
       "      <td>0</td>\n",
       "      <td>0</td>\n",
       "      <td>1</td>\n",
       "      <td>1</td>\n",
       "      <td>0</td>\n",
       "    </tr>\n",
       "  </tbody>\n",
       "</table>\n",
       "<p>5 rows × 53 columns</p>\n",
       "</div>"
      ],
      "text/plain": [
       "            default_ind          PCA1          PCA2          PCA3  \\\n",
       "issue_d                                                             \n",
       "2007-06-01            0 -10098.368627 -53171.134717   2532.301032   \n",
       "2007-07-01            0  18180.442027  69364.771571 -19393.611121   \n",
       "2007-07-01            0  12468.336481  45214.263161 -16390.257014   \n",
       "2007-07-01            0  -6397.892539 -36295.345541  -1614.935760   \n",
       "2007-07-01            0 -11161.849718 -55905.933075    904.783649   \n",
       "\n",
       "                    PCA4          PCA5         PCA6  term_ 60 months  \\\n",
       "issue_d                                                                \n",
       "2007-06-01   9008.163115  11823.560658 -1541.921784                0   \n",
       "2007-07-01  19334.165222  10018.958969 -4093.041959                0   \n",
       "2007-07-01  18005.810521  11719.484015 -1452.301148                0   \n",
       "2007-07-01  15305.699994  10696.029224  -561.794258                0   \n",
       "2007-07-01  21654.047349   8510.690826   408.970360                0   \n",
       "\n",
       "            sub_grade_A2  sub_grade_A3  ...  home_ownership_Own  \\\n",
       "issue_d                                 ...                       \n",
       "2007-06-01             0             0  ...                   1   \n",
       "2007-07-01             1             0  ...                   0   \n",
       "2007-07-01             1             0  ...                   0   \n",
       "2007-07-01             1             0  ...                   0   \n",
       "2007-07-01             0             0  ...                   0   \n",
       "\n",
       "            home_ownership_Rent  verification_status_Verified  \\\n",
       "issue_d                                                         \n",
       "2007-06-01                    0                             0   \n",
       "2007-07-01                    0                             0   \n",
       "2007-07-01                    0                             0   \n",
       "2007-07-01                    1                             0   \n",
       "2007-07-01                    1                             0   \n",
       "\n",
       "            purpose_Personal  purpose_credit_card  purpose_debt_consolidation  \\\n",
       "issue_d                                                                         \n",
       "2007-06-01                 0                    0                           1   \n",
       "2007-07-01                 0                    0                           0   \n",
       "2007-07-01                 0                    0                           1   \n",
       "2007-07-01                 1                    0                           0   \n",
       "2007-07-01                 0                    1                           0   \n",
       "\n",
       "            purpose_home_improvement  delinq_2yrs_Low  pub_rec_Good  \\\n",
       "issue_d                                                               \n",
       "2007-06-01                         0                1             1   \n",
       "2007-07-01                         1                1             1   \n",
       "2007-07-01                         0                1             1   \n",
       "2007-07-01                         0                1             1   \n",
       "2007-07-01                         0                1             1   \n",
       "\n",
       "            initial_list_status_w  \n",
       "issue_d                            \n",
       "2007-06-01                      0  \n",
       "2007-07-01                      0  \n",
       "2007-07-01                      0  \n",
       "2007-07-01                      0  \n",
       "2007-07-01                      0  \n",
       "\n",
       "[5 rows x 53 columns]"
      ]
     },
     "execution_count": 241,
     "metadata": {},
     "output_type": "execute_result"
    }
   ],
   "source": [
    "df.head()"
   ]
  },
  {
   "cell_type": "markdown",
   "metadata": {},
   "source": [
    "<a id='SMOTE'></a>\n",
    "### Balancing Dataset With SMOTE - Synthetic Minority Oversampling Technique"
   ]
  },
  {
   "cell_type": "code",
   "execution_count": 242,
   "metadata": {},
   "outputs": [],
   "source": [
    "# Deviding Dataset into x and y\n",
    "y = df['default_ind']\n",
    "x = df.drop('default_ind', axis=1)"
   ]
  },
  {
   "cell_type": "markdown",
   "metadata": {},
   "source": [
    "## Train Test Split\n",
    "* We are using 'issue_d' column to divide the data into train and test split.\n",
    "    * Train Data will consists => June 2007 - May 2015\n",
    "    * Test Data will consists => June 2015 - Dec 2015\n",
    "    \n",
    "REF : https://stackoverflow.com/questions/37532098/split-dataframe-into-two-on-the-basis-of-date"
   ]
  },
  {
   "cell_type": "code",
   "execution_count": 243,
   "metadata": {},
   "outputs": [
    {
     "name": "stdout",
     "output_type": "stream",
     "text": [
      "Train Dataset: (598978, 53)\n",
      "Test Dataset: (256991, 53)\n"
     ]
    }
   ],
   "source": [
    "# Splitting Dataframe according to Date as given in problem statement\n",
    "train_dataset = df['2007-06-01':'2015-05-1']\n",
    "test_dataset = df['2015-05-1':]\n",
    "print('Train Dataset:',train_dataset.shape)\n",
    "print('Test Dataset:',test_dataset.shape)"
   ]
  },
  {
   "cell_type": "code",
   "execution_count": 244,
   "metadata": {},
   "outputs": [
    {
     "name": "stdout",
     "output_type": "stream",
     "text": [
      "Dataset with Shape :\n",
      "x_train  (598978, 52) \n",
      "y_train  (598978,) \n",
      "x_test  (256991, 52) \n",
      "y_test  (256991,)\n"
     ]
    }
   ],
   "source": [
    "# Devide Dataset into Train and Test\n",
    "x_train, x_test, y_train, y_test = train_dataset[x.columns] , test_dataset[x.columns] , train_dataset['default_ind'] , test_dataset['default_ind']\n",
    "print(\"Dataset with Shape :\\nx_train \",x_train.shape,\"\\ny_train \",y_train.shape ,\"\\nx_test \",x_test.shape, \"\\ny_test \",y_test.shape)"
   ]
  },
  {
   "cell_type": "markdown",
   "metadata": {},
   "source": [
    "## Checking Dataset Balance Records\n",
    "We are checking total number of records for both classes. If we generate model with imbalance dataset then model will be bias and there is a possibilty that we will get very good accuracy but biasness can be present and ot will affect prediction."
   ]
  },
  {
   "cell_type": "code",
   "execution_count": 245,
   "metadata": {},
   "outputs": [
    {
     "data": {
      "text/plain": [
       "0    552822\n",
       "1     46156\n",
       "Name: default_ind, dtype: int64"
      ]
     },
     "execution_count": 245,
     "metadata": {},
     "output_type": "execute_result"
    }
   ],
   "source": [
    "train_dataset.default_ind.value_counts()"
   ]
  },
  {
   "cell_type": "markdown",
   "metadata": {},
   "source": [
    "As we can see this datset is not a valid or balance dataset.So, we can not use this for model building process. Before model building process we need to balance the dataset. We are using SMOTE - Synthetic Minority Over-sampling Technique technique for balancing dataset."
   ]
  },
  {
   "cell_type": "code",
   "execution_count": 246,
   "metadata": {},
   "outputs": [],
   "source": [
    "from imblearn.over_sampling import SMOTE"
   ]
  },
  {
   "cell_type": "code",
   "execution_count": 247,
   "metadata": {},
   "outputs": [],
   "source": [
    "smt = SMOTE(random_state = 37) \n",
    "x_train_res, y_train_res = smt.fit_sample(x_train, y_train.ravel())"
   ]
  },
  {
   "cell_type": "code",
   "execution_count": 248,
   "metadata": {},
   "outputs": [],
   "source": [
    "# Libraries for Validation of models\n",
    "from sklearn.metrics import confusion_matrix"
   ]
  },
  {
   "cell_type": "markdown",
   "metadata": {},
   "source": [
    "<a id='Logistic_Regression'></a>\n",
    "## Logistic Regression"
   ]
  },
  {
   "cell_type": "code",
   "execution_count": 249,
   "metadata": {},
   "outputs": [],
   "source": [
    "from sklearn.linear_model import LogisticRegression\n",
    "logistic_model = LogisticRegression(solver='lbfgs').fit(x_train_res,y_train_res)\n",
    "logistic_predict = logistic_model.predict(x_test)"
   ]
  },
  {
   "cell_type": "code",
   "execution_count": 250,
   "metadata": {},
   "outputs": [
    {
     "data": {
      "text/plain": [
       "array([[ 69438, 187242],\n",
       "       [    68,    243]], dtype=int64)"
      ]
     },
     "execution_count": 250,
     "metadata": {},
     "output_type": "execute_result"
    }
   ],
   "source": [
    "logistic_conusion_matrix = confusion_matrix(y_test,logistic_predict)\n",
    "logistic_conusion_matrix"
   ]
  },
  {
   "cell_type": "markdown",
   "metadata": {},
   "source": [
    "<a id='Random_Forest'></a>\n",
    "## Random Forest"
   ]
  },
  {
   "cell_type": "code",
   "execution_count": 251,
   "metadata": {},
   "outputs": [],
   "source": [
    "from sklearn.ensemble import RandomForestClassifier\n",
    "rf_model = RandomForestClassifier(n_estimators = 100, criterion='gini')\n",
    "rf_model = rf_model.fit(x_train_res, y_train_res)\n",
    "rf_model_predict = rf_model.predict(x_test)"
   ]
  },
  {
   "cell_type": "code",
   "execution_count": 252,
   "metadata": {},
   "outputs": [
    {
     "data": {
      "text/plain": [
       "array([[256239,    441],\n",
       "       [   301,     10]], dtype=int64)"
      ]
     },
     "execution_count": 252,
     "metadata": {},
     "output_type": "execute_result"
    }
   ],
   "source": [
    "rf_conusion_matrix = confusion_matrix(y_test,rf_model_predict)\n",
    "rf_conusion_matrix"
   ]
  },
  {
   "cell_type": "markdown",
   "metadata": {},
   "source": [
    "<a id='knn'></a>\n",
    "## KNN - K nearest Neighbour"
   ]
  },
  {
   "cell_type": "code",
   "execution_count": 253,
   "metadata": {},
   "outputs": [],
   "source": [
    "from sklearn.neighbors import KNeighborsClassifier\n",
    "knn_model = KNeighborsClassifier(n_neighbors=5)\n",
    "knn_model = knn_model.fit(x_train_res,y_train_res)\n",
    "knn_predict = knn_model.predict(x_test)"
   ]
  },
  {
   "cell_type": "code",
   "execution_count": 254,
   "metadata": {},
   "outputs": [
    {
     "data": {
      "text/plain": [
       "array([[239551,  17129],\n",
       "       [   232,     79]], dtype=int64)"
      ]
     },
     "execution_count": 254,
     "metadata": {},
     "output_type": "execute_result"
    }
   ],
   "source": [
    "knn_conusion_matrix = confusion_matrix(y_test,knn_predict)\n",
    "knn_conusion_matrix"
   ]
  },
  {
   "cell_type": "code",
   "execution_count": 255,
   "metadata": {},
   "outputs": [],
   "source": [
    "# Choosing a K Value with Elbow method\n",
    "error_rate = []\n",
    "k_list = [3,7,9,11,13,15,17,19,21,23,25,27,29]\n",
    "for i in k_list:\n",
    "    knn = KNeighborsClassifier(n_neighbors=i)\n",
    "    knn.fit(x_train_res,y_train_res)\n",
    "    pred_i = knn.predict(x_test)\n",
    "    error_rate.append(np.mean(pred_i != y_test))"
   ]
  },
  {
   "cell_type": "code",
   "execution_count": 256,
   "metadata": {},
   "outputs": [],
   "source": [
    "import matplotlib.pyplot as plt"
   ]
  },
  {
   "cell_type": "code",
   "execution_count": 257,
   "metadata": {},
   "outputs": [
    {
     "data": {
      "text/plain": [
       "Text(0, 0.5, 'Error Rate')"
      ]
     },
     "execution_count": 257,
     "metadata": {},
     "output_type": "execute_result"
    },
    {
     "data": {
      "image/png": "[encoded data removed]",
      "text/plain": [
       "<Figure size 720x432 with 1 Axes>"
      ]
     },
     "metadata": {
      "needs_background": "light"
     },
     "output_type": "display_data"
    }
   ],
   "source": [
    "plt.figure(figsize=(10,6))\n",
    "plt.plot(k_list,error_rate,color='blue', linestyle='dashed', marker='o', markerfacecolor='red', markersize=10)\n",
    "plt.title('Error Rate vs. K Value')\n",
    "plt.xlabel('K')\n",
    "plt.ylabel('Error Rate')"
   ]
  },
  {
   "cell_type": "code",
   "execution_count": 258,
   "metadata": {},
   "outputs": [],
   "source": [
    "knn_model2 = KNeighborsClassifier(n_neighbors=29)\n",
    "knn_model2 = knn_model.fit(x_train_res,y_train_res)\n",
    "knn_predict2 = knn_model2.predict(x_test)"
   ]
  },
  {
   "cell_type": "code",
   "execution_count": 259,
   "metadata": {},
   "outputs": [
    {
     "data": {
      "text/plain": [
       "array([[239551,  17129],\n",
       "       [   232,     79]], dtype=int64)"
      ]
     },
     "execution_count": 259,
     "metadata": {},
     "output_type": "execute_result"
    }
   ],
   "source": [
    "knn_conusion_matrix2 = confusion_matrix(y_test,knn_predict2)\n",
    "knn_conusion_matrix2"
   ]
  },
  {
   "cell_type": "markdown",
   "metadata": {},
   "source": [
    "<a id='Model_Evaluation'></a>\n",
    "## Model Evaluation\n",
    "* Confusion Matrix\n",
    "* Accuracy\n",
    "* Precision\n",
    "* Recall\n",
    "* F1 Score\n",
    "\n",
    "<b>Method for Report Generation</b>"
   ]
  },
  {
   "cell_type": "code",
   "execution_count": 266,
   "metadata": {},
   "outputs": [],
   "source": [
    "# Report All Results into Dataframe - Creating Method Where Evaluation Parameters will generate from Concusion Matrix\n",
    "report_comments, report_Accuracy, report_Precision, report_Recall , report_F1_Score= [],[],[],[],[]\n",
    "\n",
    "def report_generate(conf_mat,comment):\n",
    "\n",
    "    # Append Comment into List\n",
    "    report_comments.append(comment)\n",
    "\n",
    "    # Calculating Accuracy and Append into List\n",
    "    accuracy = (conf_mat[1][1] + conf_mat[0][0])/ (conf_mat[1][1] + conf_mat[0][0] + conf_mat[0][1] + conf_mat[1][0])\n",
    "    report_Accuracy.append(accuracy)\n",
    "    \n",
    "    # Calculating Precision and Append into List\n",
    "    precisoin = (conf_mat[0][0])/(conf_mat[0][1] + conf_mat[0][0])\n",
    "    report_Precision.append(precisoin)\n",
    "    \n",
    "    # Calculating Recall and Append into List\n",
    "    recall = (conf_mat[0][0])/(conf_mat[1][0] + conf_mat[0][0])\n",
    "    report_Recall.append(recall)\n",
    "    \n",
    "    # Calculating F1-Score and Append into List\n",
    "    f1scrore = 2 * precisoin * recall / (precisoin + recall) \n",
    "    report_F1_Score.append(f1scrore)"
   ]
  },
  {
   "cell_type": "code",
   "execution_count": 267,
   "metadata": {},
   "outputs": [],
   "source": [
    "# Report All Results into Dataframe\n",
    "def show_report():\n",
    "    report_data = {'Comment': report_comments,\n",
    "               'Accuracy': report_Accuracy,\n",
    "               'Precision': report_Precision,\n",
    "               'Recall': report_Recall ,\n",
    "               'F1 Score': report_F1_Score\n",
    "              }\n",
    "    df_results = pd.DataFrame.from_dict(report_data)\n",
    "    return(df_results)"
   ]
  },
  {
   "cell_type": "markdown",
   "metadata": {},
   "source": [
    "<a id='report'></a>\n",
    "## Final Report"
   ]
  },
  {
   "cell_type": "code",
   "execution_count": 268,
   "metadata": {},
   "outputs": [],
   "source": [
    "# Pass all Generated Confusion Matrix for generate report\n",
    "report_generate(logistic_conusion_matrix, comment='After SMOTE Logistic Regression')\n",
    "report_generate(knn_conusion_matrix, comment='After SMOTE KNN for K = 3')\n",
    "report_generate(rf_conusion_matrix, comment='After SMOTE Random Forest')"
   ]
  },
  {
   "cell_type": "code",
   "execution_count": 269,
   "metadata": {},
   "outputs": [
    {
     "data": {
      "text/html": [
       "<div>\n",
       "<style scoped>\n",
       "    .dataframe tbody tr th:only-of-type {\n",
       "        vertical-align: middle;\n",
       "    }\n",
       "\n",
       "    .dataframe tbody tr th {\n",
       "        vertical-align: top;\n",
       "    }\n",
       "\n",
       "    .dataframe thead th {\n",
       "        text-align: right;\n",
       "    }\n",
       "</style>\n",
       "<table border=\"1\" class=\"dataframe\">\n",
       "  <thead>\n",
       "    <tr style=\"text-align: right;\">\n",
       "      <th></th>\n",
       "      <th>Comment</th>\n",
       "      <th>Accuracy</th>\n",
       "      <th>Precision</th>\n",
       "      <th>Recall</th>\n",
       "      <th>F1 Score</th>\n",
       "    </tr>\n",
       "  </thead>\n",
       "  <tbody>\n",
       "    <tr>\n",
       "      <th>0</th>\n",
       "      <td>After SMOTE Logistic Regression</td>\n",
       "      <td>0.271142</td>\n",
       "      <td>0.270524</td>\n",
       "      <td>0.999022</td>\n",
       "      <td>0.425757</td>\n",
       "    </tr>\n",
       "    <tr>\n",
       "      <th>1</th>\n",
       "      <td>After SMOTE KNN for K = 3</td>\n",
       "      <td>0.932445</td>\n",
       "      <td>0.933267</td>\n",
       "      <td>0.999032</td>\n",
       "      <td>0.965031</td>\n",
       "    </tr>\n",
       "    <tr>\n",
       "      <th>2</th>\n",
       "      <td>After SMOTE Random Forest</td>\n",
       "      <td>0.997113</td>\n",
       "      <td>0.998282</td>\n",
       "      <td>0.998827</td>\n",
       "      <td>0.998554</td>\n",
       "    </tr>\n",
       "  </tbody>\n",
       "</table>\n",
       "</div>"
      ],
      "text/plain": [
       "                           Comment  Accuracy  Precision    Recall  F1 Score\n",
       "0  After SMOTE Logistic Regression  0.271142   0.270524  0.999022  0.425757\n",
       "1        After SMOTE KNN for K = 3  0.932445   0.933267  0.999032  0.965031\n",
       "2        After SMOTE Random Forest  0.997113   0.998282  0.998827  0.998554"
      ]
     },
     "execution_count": 269,
     "metadata": {},
     "output_type": "execute_result"
    }
   ],
   "source": [
    "show_report()"
   ]
  },
  {
   "cell_type": "markdown",
   "metadata": {},
   "source": [
    "<a id='Conclusion'></a>\n",
    "## Conclusion"
   ]
  },
  {
   "cell_type": "markdown",
   "metadata": {},
   "source": [
    "With references of the above models and model evaluations we can say that <b>Random Forest</b> model is giving the best solution for the given problem."
   ]
  }
 ],
 "metadata": {
  "kernelspec": {
   "display_name": "Python 3",
   "language": "python",
   "name": "python3"
  },
  "language_info": {
   "codemirror_mode": {
    "name": "ipython",
    "version": 3
   },
   "file_extension": ".py",
   "mimetype": "text/x-python",
   "name": "python",
   "nbconvert_exporter": "python",
   "pygments_lexer": "ipython3",
   "version": "3.7.3"
  }
 },
 "nbformat": 4,
 "nbformat_minor": 2
}
